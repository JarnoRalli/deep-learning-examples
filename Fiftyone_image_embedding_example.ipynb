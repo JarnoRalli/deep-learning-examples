{
 "cells": [
  {
   "cell_type": "markdown",
   "id": "6a1f50e5",
   "metadata": {},
   "source": [
    "# Image Embedding Example Using Fiftyone\n",
    "\n",
    "This is an example showing how to visualize custom embedding, based on the input images, using Fiftyone and UMAP. \n",
    "\n",
    "* **required environment**: `machine-learning`"
   ]
  },
  {
   "cell_type": "code",
   "execution_count": 1,
   "id": "4fa9647f",
   "metadata": {},
   "outputs": [],
   "source": [
    "import cv2\n",
    "import numpy as np\n",
    "import matplotlib.pyplot as plt\n",
    "\n",
    "import fiftyone as fo\n",
    "import fiftyone.zoo as foz\n",
    "import fiftyone.brain as fob"
   ]
  },
  {
   "cell_type": "code",
   "execution_count": 2,
   "id": "202b4115",
   "metadata": {},
   "outputs": [
    {
     "name": "stdout",
     "output_type": "stream",
     "text": [
      "Split 'train' already downloaded\n",
      "Split 'test' already downloaded\n",
      "Loading 'mnist' split 'train'\n",
      " 100% |█████████████| 60000/60000 [26.3s elapsed, 0s remaining, 2.3K samples/s]      \n",
      "Loading 'mnist' split 'test'\n",
      " 100% |█████████████| 10000/10000 [4.4s elapsed, 0s remaining, 2.3K samples/s]      \n",
      "Dataset 'mnist' created\n"
     ]
    }
   ],
   "source": [
    "dataset = foz.load_zoo_dataset('mnist')"
   ]
  },
  {
   "cell_type": "code",
   "execution_count": 3,
   "id": "05749b2d",
   "metadata": {},
   "outputs": [
    {
     "name": "stdout",
     "output_type": "stream",
     "text": [
      "Dataset:     mnist\n",
      "Media type:  image\n",
      "Num samples: 10000\n",
      "Tags:        ['test']\n",
      "Sample fields:\n",
      "    id:           fiftyone.core.fields.ObjectIdField\n",
      "    filepath:     fiftyone.core.fields.StringField\n",
      "    tags:         fiftyone.core.fields.ListField(fiftyone.core.fields.StringField)\n",
      "    metadata:     fiftyone.core.fields.EmbeddedDocumentField(fiftyone.core.metadata.Metadata)\n",
      "    ground_truth: fiftyone.core.fields.EmbeddedDocumentField(fiftyone.core.labels.Classification)\n",
      "View stages:\n",
      "    1. MatchTags(tags=['test'], bool=True)\n"
     ]
    }
   ],
   "source": [
    "test_split = dataset.match_tags('test')\n",
    "print(test_split)"
   ]
  },
  {
   "cell_type": "markdown",
   "id": "cc308758",
   "metadata": {},
   "source": [
    "## Generating the embeddings\n",
    "\n",
    "Here we generate the embeddings based on the images. Images are loaded, and stacked vertically in order to achieve the following embedding space: `num_samples x num_embedding_dims`."
   ]
  },
  {
   "cell_type": "code",
   "execution_count": 4,
   "id": "96d1b589",
   "metadata": {},
   "outputs": [
    {
     "name": "stdout",
     "output_type": "stream",
     "text": [
      "Size of the embedding: (10000, 784)\n"
     ]
    },
    {
     "data": {
      "image/png": "[encoded data removed]",
      "text/plain": [
       "<Figure size 432x288 with 1 Axes>"
      ]
     },
     "metadata": {
      "needs_background": "light"
     },
     "output_type": "display_data"
    }
   ],
   "source": [
    "img = cv2.imread(test_split.values(\"filepath\")[0], cv2.IMREAD_UNCHANGED)\n",
    "plt.imshow(img, cmap='gray')\n",
    "plt.title(f'Image shape: {img.shape}')\n",
    "\n",
    "# Generate embeddings\n",
    "embeddings = np.array([\n",
    "    cv2.imread(f, cv2.IMREAD_UNCHANGED).ravel()\n",
    "    for f in test_split.values(\"filepath\")])\n",
    "print(f'Size of the embedding: {embeddings.shape}')"
   ]
  },
  {
   "cell_type": "markdown",
   "id": "060bf2a8",
   "metadata": {},
   "source": [
    "## Calculate 2D representation of the embedding\n",
    "\n",
    "Here we use [UMAP](https://umap-learn.readthedocs.io/en/latest/) (Uniform Manifold Approximation and Projection for Dimension Reduction) to calculate a 2D visualization of the embedding. For more information regarding the `compute_visualization()` method, take a look at the documentation https://voxel51.com/docs/fiftyone/api/fiftyone.brain.html#fiftyone.brain.compute_visualization.\n",
    "\n",
    "Main parameters for the `compute_visualization()` method:\n",
    "\n",
    "* **embeddings**. pre-computed embeddings to use. Can be any of the following\n",
    " * a `num_samples x num_embedding_dims` array of embeddings\n",
    " * if `patches_field` is specified, a dict mapping sample IDs to num_patches x num_embedding_dims arrays of patch embeddings\n",
    " * the name of a dataset field containing the embeddings to use\n",
    "\n"
   ]
  },
  {
   "cell_type": "code",
   "execution_count": 5,
   "id": "27071f4a",
   "metadata": {},
   "outputs": [
    {
     "name": "stdout",
     "output_type": "stream",
     "text": [
      "Generating visualization...\n",
      "UMAP(random_state=51, verbose=True)\n",
      "Mon Mar 14 07:50:27 2022 Construct fuzzy simplicial set\n",
      "Mon Mar 14 07:50:27 2022 Finding Nearest Neighbors\n",
      "Mon Mar 14 07:50:27 2022 Building RP forest with 10 trees\n",
      "Mon Mar 14 07:50:27 2022 NN descent for 13 iterations\n",
      "\t 1  /  13\n",
      "\t 2  /  13\n",
      "\t 3  /  13\n",
      "\t 4  /  13\n",
      "\tStopping threshold met -- exiting after 4 iterations\n",
      "Mon Mar 14 07:50:35 2022 Finished Nearest Neighbor Search\n",
      "Mon Mar 14 07:50:37 2022 Construct embedding\n"
     ]
    },
    {
     "data": {
      "application/vnd.jupyter.widget-view+json": {
       "model_id": "9f914f343ce74c5cb4d6dae955b842ce",
       "version_major": 2,
       "version_minor": 0
      },
      "text/plain": [
       "Epochs completed:   0%|            0/500 [00:00]"
      ]
     },
     "metadata": {},
     "output_type": "display_data"
    },
    {
     "name": "stdout",
     "output_type": "stream",
     "text": [
      "Mon Mar 14 07:50:48 2022 Finished embedding\n"
     ]
    }
   ],
   "source": [
    "# Compute 2D representation\n",
    "results = fob.compute_visualization(\n",
    "    test_split,\n",
    "    embeddings = embeddings,\n",
    "    num_dims = 2,\n",
    "    method = \"umap\",\n",
    "    brain_key = \"mnist_test\",\n",
    "    verbose = True,\n",
    "    seed = 51,\n",
    ")"
   ]
  },
  {
   "cell_type": "code",
   "execution_count": 6,
   "id": "6c08bbac",
   "metadata": {},
   "outputs": [
    {
     "name": "stdout",
     "output_type": "stream",
     "text": [
      "<class 'fiftyone.brain.visualization.VisualizationResults'>\n",
      "(10000, 2)\n"
     ]
    }
   ],
   "source": [
    "print(type(results))\n",
    "print(results.points.shape)"
   ]
  },
  {
   "cell_type": "code",
   "execution_count": 7,
   "id": "4b694c12",
   "metadata": {},
   "outputs": [],
   "source": [
    "# Launch App instance\n",
    "# session = fo.launch_app(view=test_split)"
   ]
  },
  {
   "cell_type": "code",
   "execution_count": 8,
   "id": "d7000790",
   "metadata": {},
   "outputs": [
    {
     "data": {
      "text/plain": []
     },
     "metadata": {},
     "output_type": "display_data"
    },
    {
     "data": {
      "text/plain": []
     },
     "metadata": {},
     "output_type": "display_data"
    },
    {
     "data": {
      "application/vnd.jupyter.widget-view+json": {
       "model_id": "a0b35a262f964179b321cbb873b84d7a",
       "version_major": 2,
       "version_minor": 0
      },
      "text/plain": [
       "FigureWidget({\n",
       "    'data': [{'customdata': array(['622ed7962fbd318744dccb62', '622ed7962fbd318744dccb75',\n",
       "    …"
      ]
     },
     "metadata": {},
     "output_type": "display_data"
    }
   ],
   "source": [
    "# Plot embeddings colored by ground truth label\n",
    "plot = results.visualize(labels=\"ground_truth.label\")\n",
    "plot.show(height=720)\n",
    "\n",
    "# Attach plot to session\n",
    "# session.plots.attach(plot)"
   ]
  }
 ],
 "metadata": {
  "kernelspec": {
   "display_name": "Python 3 (ipykernel)",
   "language": "python",
   "name": "python3"
  },
  "language_info": {
   "codemirror_mode": {
    "name": "ipython",
    "version": 3
   },
   "file_extension": ".py",
   "mimetype": "text/x-python",
   "name": "python",
   "nbconvert_exporter": "python",
   "pygments_lexer": "ipython3",
   "version": "3.8.12"
  }
 },
 "nbformat": 4,
 "nbformat_minor": 5
}
