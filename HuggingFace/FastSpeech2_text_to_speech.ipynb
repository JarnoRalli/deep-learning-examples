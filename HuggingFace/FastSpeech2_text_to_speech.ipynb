{
 "cells": [
  {
   "cell_type": "markdown",
   "id": "ea44fd79",
   "metadata": {},
   "source": [
    "# FastSpeech 2 Text to Speech\n",
    "\n",
    "This notebook uses a text to speech model from [FastSpeech 2: Fast and High-Quality End-to-End Text to Speech](https://arxiv.org/abs/2006.04558). For more information, take a look at [this](https://huggingface.co/facebook/fastspeech2-en-ljspeech?text=Hello%2C+this+is+a+test+run.)"
   ]
  },
  {
   "cell_type": "code",
   "execution_count": null,
   "id": "33815f33",
   "metadata": {},
   "outputs": [],
   "source": [
    "from fairseq.checkpoint_utils import load_model_ensemble_and_task_from_hf_hub\n",
    "from fairseq.models.text_to_speech.hub_interface import TTSHubInterface\n",
    "import g2p_en\n",
    "import IPython.display as ipd"
   ]
  },
  {
   "cell_type": "code",
   "execution_count": null,
   "id": "942748eb",
   "metadata": {},
   "outputs": [],
   "source": [
    "models, cfg, task = load_model_ensemble_and_task_from_hf_hub(\n",
    "    \"facebook/fastspeech2-en-ljspeech\",\n",
    "    arg_overrides={\"vocoder\": \"hifigan\", \"fp16\": False}\n",
    "    #arg_overrides={\"vocoder\": \"hifigan\", \"fp16\": False, \"cpu\": True}\n",
    ")\n",
    "\n",
    "model = models[0]\n",
    "TTSHubInterface.update_cfg_with_data_cfg(cfg, task.data_cfg)\n",
    "generator = task.build_generator([model], cfg)"
   ]
  },
  {
   "cell_type": "code",
   "execution_count": null,
   "id": "87d260ad",
   "metadata": {},
   "outputs": [],
   "source": [
    "text = \"Now I am become Death, the destroyer of worlds\"\n",
    "\n",
    "sample = TTSHubInterface.get_model_input(task, text)\n",
    "wav, rate = TTSHubInterface.get_prediction(task, model, generator, sample)\n",
    "\n",
    "ipd.Audio(wav, rate=rate)"
   ]
  },
  {
   "cell_type": "code",
   "execution_count": null,
   "id": "5dfa9459",
   "metadata": {},
   "outputs": [],
   "source": []
  }
 ],
 "metadata": {
  "kernelspec": {
   "display_name": "Python 3 (ipykernel)",
   "language": "python",
   "name": "python3"
  },
  "language_info": {
   "codemirror_mode": {
    "name": "ipython",
    "version": 3
   },
   "file_extension": ".py",
   "mimetype": "text/x-python",
   "name": "python",
   "nbconvert_exporter": "python",
   "pygments_lexer": "ipython3",
   "version": "3.9.16"
  }
 },
 "nbformat": 4,
 "nbformat_minor": 5
}
