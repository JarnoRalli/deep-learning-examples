{
 "cells": [
  {
   "cell_type": "markdown",
   "id": "56a6654c-3747-4613-9355-ef7ca1a3636d",
   "metadata": {},
   "source": [
    "## Sentiment Analysis\n",
    "\n",
    "This example uses a transformer trained to predict if the text has negative or positive sentiment. Depending on the model that is chosen, the model might or might not understand different languages. We use a dataset from https://lazyprogrammer.me to predict airline tweets to detect if they have positive or negative sentiment and display accuracy of the model."
   ]
  },
  {
   "cell_type": "code",
   "execution_count": 1,
   "id": "27f6224a-89f4-4ec5-9a09-0f34121aa718",
   "metadata": {},
   "outputs": [
    {
     "name": "stdout",
     "output_type": "stream",
     "text": [
      "--2024-03-12 14:08:03--  https://lazyprogrammer.me/course_files/AirlineTweets.csv\n",
      "Resolving lazyprogrammer.me (lazyprogrammer.me)... 104.21.23.210, 172.67.213.166, 2606:4700:3031::6815:17d2, ...\n",
      "Connecting to lazyprogrammer.me (lazyprogrammer.me)|104.21.23.210|:443... connected.\n",
      "HTTP request sent, awaiting response... 200 OK\n",
      "Length: 3421431 (3,3M) [text/csv]\n",
      "Saving to: ‘AirlineTweets.csv’\n",
      "\n",
      "AirlineTweets.csv   100%[===================>]   3,26M  17,9MB/s    in 0,2s    \n",
      "\n",
      "2024-03-12 14:08:04 (17,9 MB/s) - ‘AirlineTweets.csv’ saved [3421431/3421431]\n",
      "\n"
     ]
    }
   ],
   "source": [
    "# Download a sample file from the course material\n",
    "! wget -nc https://lazyprogrammer.me/course_files/AirlineTweets.csv"
   ]
  },
  {
   "cell_type": "code",
   "execution_count": 2,
   "id": "da6fce12-48c2-4cbb-8e0c-2982fffeabcb",
   "metadata": {},
   "outputs": [],
   "source": [
    "from transformers import pipeline\n",
    "\n",
    "import torch\n",
    "import numpy as np\n",
    "import pandas as pd\n",
    "import seaborn as sn\n",
    "import matplotlib.pyplot as plt\n",
    "\n",
    "from sklearn.metrics import roc_auc_score, f1_score, confusion_matrix, ConfusionMatrixDisplay\n",
    "from sklearn.model_selection import train_test_split"
   ]
  },
  {
   "cell_type": "code",
   "execution_count": 3,
   "id": "ed78ebed-9e04-4e50-b450-f26a6943e1e8",
   "metadata": {},
   "outputs": [
    {
     "name": "stdout",
     "output_type": "stream",
     "text": [
      "CUDA found: True\n",
      "CUDA current device: 0\n"
     ]
    }
   ],
   "source": [
    "print(f\"CUDA found: {torch.cuda.is_available()}\")\n",
    "print(f\"CUDA current device: {torch.cuda.current_device()}\")"
   ]
  },
  {
   "cell_type": "code",
   "execution_count": 4,
   "id": "5972e491-fa8d-4b82-922f-0ac5684206d9",
   "metadata": {},
   "outputs": [
    {
     "name": "stderr",
     "output_type": "stream",
     "text": [
      "No model was supplied, defaulted to distilbert/distilbert-base-uncased-finetuned-sst-2-english and revision af0f99b (https://huggingface.co/distilbert/distilbert-base-uncased-finetuned-sst-2-english).\n",
      "Using a pipeline without specifying a model name and revision in production is not recommended.\n"
     ]
    },
    {
     "name": "stdout",
     "output_type": "stream",
     "text": [
      "<class 'transformers.pipelines.text_classification.TextClassificationPipeline'>\n"
     ]
    }
   ],
   "source": [
    "# Create a sentiment analyzer pipeline, includes tokenization and other required bits and pieces\n",
    "# If available, use CUDA\n",
    "if torch.cuda.is_available():\n",
    "    sentiment_classifier = pipeline(\"sentiment-analysis\", device=torch.cuda.current_device())\n",
    "else:\n",
    "    sentiment_classifier = pipeline(\"sentiment-analysis\")\n",
    "print(type(sentiment_classifier))"
   ]
  },
  {
   "cell_type": "code",
   "execution_count": 5,
   "id": "4309babe-f901-4bd2-8a08-f962f0a328ad",
   "metadata": {},
   "outputs": [
    {
     "data": {
      "text/plain": [
       "[{'label': 'POSITIVE', 'score': 0.9998810291290283}]"
      ]
     },
     "execution_count": 5,
     "metadata": {},
     "output_type": "execute_result"
    }
   ],
   "source": [
    "# Positive example\n",
    "sentiment_classifier(\"What a fantastic movie!\")"
   ]
  },
  {
   "cell_type": "code",
   "execution_count": 6,
   "id": "9ecb30ec-9436-482a-b6c0-57ba538144b6",
   "metadata": {},
   "outputs": [
    {
     "data": {
      "text/plain": [
       "[{'label': 'NEGATIVE', 'score': 0.9997732043266296}]"
      ]
     },
     "execution_count": 6,
     "metadata": {},
     "output_type": "execute_result"
    }
   ],
   "source": [
    "# Negative example\n",
    "sentiment_classifier(\"What a horrible movie!\")"
   ]
  },
  {
   "cell_type": "code",
   "execution_count": 7,
   "id": "b81272ac-d88b-4d30-8d3f-8b9bbc4880b0",
   "metadata": {},
   "outputs": [
    {
     "data": {
      "text/plain": [
       "[{'label': 'NEGATIVE', 'score': 0.9425332546234131}]"
      ]
     },
     "execution_count": 7,
     "metadata": {},
     "output_type": "execute_result"
    }
   ],
   "source": [
    "# Positive example in Spanish\n",
    "sentiment_classifier(\"La pelicula fue muy buena\")"
   ]
  },
  {
   "cell_type": "code",
   "execution_count": 8,
   "id": "3a68954d-9b23-4979-9b27-71306016092a",
   "metadata": {},
   "outputs": [
    {
     "data": {
      "text/plain": [
       "[{'label': 'NEGATIVE', 'score': 0.9949302077293396}]"
      ]
     },
     "execution_count": 8,
     "metadata": {},
     "output_type": "execute_result"
    }
   ],
   "source": [
    "# Negative example in Spanish\n",
    "sentiment_classifier(\"La pelicula fue muy mala\")"
   ]
  },
  {
   "cell_type": "code",
   "execution_count": 9,
   "id": "4e7e0171-b953-4a7e-b9a0-42fd59c28daa",
   "metadata": {},
   "outputs": [
    {
     "name": "stdout",
     "output_type": "stream",
     "text": [
      "COLUMN NAMES:\n",
      "Index(['tweet_id', 'airline_sentiment', 'airline_sentiment_confidence',\n",
      "       'negativereason', 'negativereason_confidence', 'airline',\n",
      "       'airline_sentiment_gold', 'name', 'negativereason_gold',\n",
      "       'retweet_count', 'text', 'tweet_coord', 'tweet_created',\n",
      "       'tweet_location', 'user_timezone'],\n",
      "      dtype='object')\n",
      "HEAD:\n",
      "             tweet_id airline_sentiment  airline_sentiment_confidence  \\\n",
      "0  570306133677760513           neutral                        1.0000   \n",
      "1  570301130888122368          positive                        0.3486   \n",
      "2  570301083672813571           neutral                        0.6837   \n",
      "3  570301031407624196          negative                        1.0000   \n",
      "4  570300817074462722          negative                        1.0000   \n",
      "\n",
      "  negativereason  negativereason_confidence         airline  \\\n",
      "0            NaN                        NaN  Virgin America   \n",
      "1            NaN                     0.0000  Virgin America   \n",
      "2            NaN                        NaN  Virgin America   \n",
      "3     Bad Flight                     0.7033  Virgin America   \n",
      "4     Can't Tell                     1.0000  Virgin America   \n",
      "\n",
      "  airline_sentiment_gold        name negativereason_gold  retweet_count  \\\n",
      "0                    NaN     cairdin                 NaN              0   \n",
      "1                    NaN    jnardino                 NaN              0   \n",
      "2                    NaN  yvonnalynn                 NaN              0   \n",
      "3                    NaN    jnardino                 NaN              0   \n",
      "4                    NaN    jnardino                 NaN              0   \n",
      "\n",
      "                                                text tweet_coord  \\\n",
      "0                @VirginAmerica What @dhepburn said.         NaN   \n",
      "1  @VirginAmerica plus you've added commercials t...         NaN   \n",
      "2  @VirginAmerica I didn't today... Must mean I n...         NaN   \n",
      "3  @VirginAmerica it's really aggressive to blast...         NaN   \n",
      "4  @VirginAmerica and it's a really big bad thing...         NaN   \n",
      "\n",
      "               tweet_created tweet_location               user_timezone  \n",
      "0  2015-02-24 11:35:52 -0800            NaN  Eastern Time (US & Canada)  \n",
      "1  2015-02-24 11:15:59 -0800            NaN  Pacific Time (US & Canada)  \n",
      "2  2015-02-24 11:15:48 -0800      Lets Play  Central Time (US & Canada)  \n",
      "3  2015-02-24 11:15:36 -0800            NaN  Pacific Time (US & Canada)  \n",
      "4  2015-02-24 11:14:45 -0800            NaN  Pacific Time (US & Canada)  \n"
     ]
    }
   ],
   "source": [
    "# Read the airline tweets that contains customer feedback\n",
    "df = pd.read_csv('AirlineTweets.csv')\n",
    "print(f\"COLUMN NAMES:\\n{df.columns}\")\n",
    "print(f\"HEAD:\\n{df.head()}\")"
   ]
  },
  {
   "cell_type": "code",
   "execution_count": 10,
   "id": "8a227979-216a-4e53-903d-ea8f395101d1",
   "metadata": {},
   "outputs": [
    {
     "data": {
      "text/plain": [
       "<Axes: >"
      ]
     },
     "execution_count": 10,
     "metadata": {},
     "output_type": "execute_result"
    },
    {
     "data": {
      "image/png": "[encoded data removed]",
      "text/plain": [
       "<Figure size 640x480 with 1 Axes>"
      ]
     },
     "metadata": {},
     "output_type": "display_data"
    }
   ],
   "source": [
    "# Show histogram of the sentiment labels\n",
    "df['airline_sentiment'].hist()"
   ]
  },
  {
   "cell_type": "code",
   "execution_count": 11,
   "id": "5774473f-62cb-40b6-9f4f-455b6f0a0a02",
   "metadata": {},
   "outputs": [],
   "source": [
    "df_masked = df[df.airline_sentiment != \"neutral\"].copy()\n",
    "target_map = {'positive': 1, 'negative': 0}\n",
    "df_masked[\"target\"] = df[\"airline_sentiment\"].map(target_map)"
   ]
  },
  {
   "cell_type": "code",
   "execution_count": 12,
   "id": "ae8f4ecb-b438-43b0-9af9-d07628eec6d7",
   "metadata": {},
   "outputs": [
    {
     "name": "stdout",
     "output_type": "stream",
     "text": [
      "             tweet_id airline_sentiment  airline_sentiment_confidence  \\\n",
      "1  570301130888122368          positive                        0.3486   \n",
      "3  570301031407624196          negative                        1.0000   \n",
      "4  570300817074462722          negative                        1.0000   \n",
      "5  570300767074181121          negative                        1.0000   \n",
      "6  570300616901320704          positive                        0.6745   \n",
      "\n",
      "  negativereason  negativereason_confidence         airline  \\\n",
      "1            NaN                     0.0000  Virgin America   \n",
      "3     Bad Flight                     0.7033  Virgin America   \n",
      "4     Can't Tell                     1.0000  Virgin America   \n",
      "5     Can't Tell                     0.6842  Virgin America   \n",
      "6            NaN                     0.0000  Virgin America   \n",
      "\n",
      "  airline_sentiment_gold        name negativereason_gold  retweet_count  \\\n",
      "1                    NaN    jnardino                 NaN              0   \n",
      "3                    NaN    jnardino                 NaN              0   \n",
      "4                    NaN    jnardino                 NaN              0   \n",
      "5                    NaN    jnardino                 NaN              0   \n",
      "6                    NaN  cjmcginnis                 NaN              0   \n",
      "\n",
      "                                                text tweet_coord  \\\n",
      "1  @VirginAmerica plus you've added commercials t...         NaN   \n",
      "3  @VirginAmerica it's really aggressive to blast...         NaN   \n",
      "4  @VirginAmerica and it's a really big bad thing...         NaN   \n",
      "5  @VirginAmerica seriously would pay $30 a fligh...         NaN   \n",
      "6  @VirginAmerica yes, nearly every time I fly VX...         NaN   \n",
      "\n",
      "               tweet_created    tweet_location               user_timezone  \\\n",
      "1  2015-02-24 11:15:59 -0800               NaN  Pacific Time (US & Canada)   \n",
      "3  2015-02-24 11:15:36 -0800               NaN  Pacific Time (US & Canada)   \n",
      "4  2015-02-24 11:14:45 -0800               NaN  Pacific Time (US & Canada)   \n",
      "5  2015-02-24 11:14:33 -0800               NaN  Pacific Time (US & Canada)   \n",
      "6  2015-02-24 11:13:57 -0800  San Francisco CA  Pacific Time (US & Canada)   \n",
      "\n",
      "   target  \n",
      "1     1.0  \n",
      "3     0.0  \n",
      "4     0.0  \n",
      "5     0.0  \n",
      "6     1.0  \n"
     ]
    }
   ],
   "source": [
    "print(df_masked.head())"
   ]
  },
  {
   "cell_type": "code",
   "execution_count": 13,
   "id": "1b55abe9-3ae6-4199-a508-540098740f7e",
   "metadata": {},
   "outputs": [],
   "source": [
    "# Extract the comments left by people to a list called 'texts' and run sentiment analysis on against it\n",
    "texts = df_masked['text'].tolist()\n",
    "predictions = sentiment_classifier(texts)"
   ]
  },
  {
   "cell_type": "code",
   "execution_count": 14,
   "id": "4d86fe3d-485a-4e18-a468-7a03e92c0052",
   "metadata": {},
   "outputs": [
    {
     "name": "stdout",
     "output_type": "stream",
     "text": [
      "{'label': 'POSITIVE', 'score': 0.6070847511291504}\n",
      "{'label': 'NEGATIVE', 'score': 0.9973449110984802}\n",
      "{'label': 'NEGATIVE', 'score': 0.9995823502540588}\n",
      "{'label': 'NEGATIVE', 'score': 0.9854250550270081}\n",
      "{'label': 'POSITIVE', 'score': 0.9553212523460388}\n"
     ]
    }
   ],
   "source": [
    "for prediction in predictions[:5]:\n",
    "    print(prediction)"
   ]
  },
  {
   "cell_type": "code",
   "execution_count": 15,
   "id": "236dcdc9-0286-44ef-9036-879fa0a59c07",
   "metadata": {},
   "outputs": [],
   "source": [
    "# In order for us to calculate accuracy of the model the data needs to be on the same \"scale\".\n",
    "# What the sentiment classifier gives us is the probability of the sample in question either belonging to\n",
    "# the positive of the the negative class. In other words, we need a probability between [0.0...1.0].\n",
    "probs = [d[\"score\"] if d[\"label\"].startswith(\"P\") else 1.0 - d[\"score\"] for d in predictions]\n",
    "probs = np.array(probs)"
   ]
  },
  {
   "cell_type": "code",
   "execution_count": 16,
   "id": "e41a472f-7563-4b9c-b784-70f81377d2f2",
   "metadata": {},
   "outputs": [],
   "source": [
    "# Extract prediction 1 = positive, 0 = negative from the sentiment classifier output using list comprehension\n",
    "preds = [1 if p[\"label\"].startswith(\"P\") else 0 for p in predictions]\n",
    "# Convert the list into numpy array\n",
    "preds = np.array(preds)"
   ]
  },
  {
   "cell_type": "code",
   "execution_count": 17,
   "id": "7c54082b-9010-4913-a337-35f89c8ea92b",
   "metadata": {},
   "outputs": [
    {
     "name": "stdout",
     "output_type": "stream",
     "text": [
      "Accuracy: 0.8898708950697514\n"
     ]
    }
   ],
   "source": [
    "# Calculate accuracy of the predictions\n",
    "print(f\"Accuracy: {np.mean(df_masked['target'] == preds)}\")"
   ]
  },
  {
   "cell_type": "code",
   "execution_count": 18,
   "id": "07318215-7d79-49d5-bba8-9facbf1519fe",
   "metadata": {},
   "outputs": [
    {
     "data": {
      "image/png": "[encoded data removed]",
      "text/plain": [
       "<Figure size 640x480 with 2 Axes>"
      ]
     },
     "metadata": {},
     "output_type": "display_data"
    }
   ],
   "source": [
    "# Create a confusion matrix and display the results\n",
    "cm = confusion_matrix(df_masked[\"target\"], preds, normalize=\"true\")\n",
    "disp = ConfusionMatrixDisplay(confusion_matrix=cm)\n",
    "disp.plot()\n",
    "plt.show()"
   ]
  },
  {
   "cell_type": "markdown",
   "id": "f1342050-4f19-405a-b59e-2ff5a4e86e2d",
   "metadata": {},
   "source": [
    "Next we calculate F1-score. The F1-score is the harmonic mean of precision and recall, where the precision is the number of true positive divided by the number of all positive results, including those not identified correctly. The limitation is that it does not take into account the true negative rate and is more focused on the positive class as we can see from the following:"
   ]
  },
  {
   "cell_type": "code",
   "execution_count": 19,
   "id": "1eda7133-4639-4614-99c6-a73b3ef4f0ab",
   "metadata": {},
   "outputs": [
    {
     "data": {
      "text/plain": [
       "0.758777756690074"
      ]
     },
     "execution_count": 19,
     "metadata": {},
     "output_type": "execute_result"
    }
   ],
   "source": [
    "f1_score(df_masked[\"target\"], preds)"
   ]
  },
  {
   "cell_type": "code",
   "execution_count": 20,
   "id": "554b23b1-9023-4c01-b4a0-57f6f55218b0",
   "metadata": {},
   "outputs": [
    {
     "data": {
      "text/plain": [
       "0.928647616908999"
      ]
     },
     "execution_count": 20,
     "metadata": {},
     "output_type": "execute_result"
    }
   ],
   "source": [
    "f1_score(1 - df_masked[\"target\"], 1 - preds)"
   ]
  },
  {
   "cell_type": "markdown",
   "id": "ca79863e-9331-4e78-8a4a-4d80877c6b69",
   "metadata": {},
   "source": [
    "ROC AUC stands for Receiver Operating Characteristic - Area Under the Curve. ROC AUC is used when we need to evaluate the performance of a binary classification model across all possible threshold values, thus providing a measure of the model's ability to discriminate between the positive and negative classes irrespective of the classification threshold. ROC AUC gives the same score irrespective if we calculate it for the positive- or the negative class."
   ]
  },
  {
   "cell_type": "code",
   "execution_count": 21,
   "id": "e01d8dbb-7dbb-4f19-89da-3e703e9309b1",
   "metadata": {},
   "outputs": [
    {
     "data": {
      "text/plain": [
       "0.9485934921195112"
      ]
     },
     "execution_count": 21,
     "metadata": {},
     "output_type": "execute_result"
    }
   ],
   "source": [
    "roc_auc_score(df_masked['target'], probs)"
   ]
  },
  {
   "cell_type": "code",
   "execution_count": 22,
   "id": "be031de9-d016-433b-b969-a2ab5f13cf8f",
   "metadata": {},
   "outputs": [
    {
     "data": {
      "text/plain": [
       "0.948593492119511"
      ]
     },
     "execution_count": 22,
     "metadata": {},
     "output_type": "execute_result"
    }
   ],
   "source": [
    "roc_auc_score(1 - df_masked['target'], 1 - probs)"
   ]
  },
  {
   "cell_type": "code",
   "execution_count": null,
   "id": "b4b262ba-08ea-4410-8d70-827b06aacdfe",
   "metadata": {},
   "outputs": [],
   "source": []
  }
 ],
 "metadata": {
  "kernelspec": {
   "display_name": "Python 3 (ipykernel)",
   "language": "python",
   "name": "python3"
  },
  "language_info": {
   "codemirror_mode": {
    "name": "ipython",
    "version": 3
   },
   "file_extension": ".py",
   "mimetype": "text/x-python",
   "name": "python",
   "nbconvert_exporter": "python",
   "pygments_lexer": "ipython3",
   "version": "3.10.13"
  }
 },
 "nbformat": 4,
 "nbformat_minor": 5
}
