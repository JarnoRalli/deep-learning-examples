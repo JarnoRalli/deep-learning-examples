{
 "cells": [
  {
   "cell_type": "markdown",
   "id": "c6fae0a2-1be9-4002-a0fc-6385d9fabfaf",
   "metadata": {},
   "source": [
    "# Masked Language Modeling\n",
    "\n",
    "Due to the bidirectional nature of BERT (Birectional Encoder Representations from Transformers) models, words can be \"masked\" in the middle of a sentence and then the model generates possible replacements for the masked words, taking into account the whole sentence. In a sense this is similar to image denoising autoencoder where we encode and then decode the the input and try to reconstruct the original input signal without noise. We add \"noise\" by removing information from the text by replacing words with tokens (in this case with a `<mask>` token), and then we try to \"denoise\" the sentence by guessing what is the most likely word. "
   ]
  },
  {
   "cell_type": "code",
   "execution_count": 1,
   "id": "1e9be75d-14df-411e-b5a2-18b6077e0515",
   "metadata": {},
   "outputs": [
    {
     "name": "stdout",
     "output_type": "stream",
     "text": [
      "--2024-03-12 14:07:14--  https://lazyprogrammer.me/course_files/nlp/bbc_text_cls.csv\n",
      "Resolving lazyprogrammer.me (lazyprogrammer.me)... 172.67.213.166, 104.21.23.210, 2606:4700:3030::ac43:d5a6, ...\n",
      "Connecting to lazyprogrammer.me (lazyprogrammer.me)|172.67.213.166|:443... connected.\n",
      "HTTP request sent, awaiting response... 200 OK\n",
      "Length: 5085081 (4,8M) [text/csv]\n",
      "Saving to: ‘bbc_text_cls.csv’\n",
      "\n",
      "bbc_text_cls.csv    100%[===================>]   4,85M  20,5MB/s    in 0,2s    \n",
      "\n",
      "2024-03-12 14:07:15 (20,5 MB/s) - ‘bbc_text_cls.csv’ saved [5085081/5085081]\n",
      "\n"
     ]
    }
   ],
   "source": [
    "!wget -nc https://lazyprogrammer.me/course_files/nlp/bbc_text_cls.csv"
   ]
  },
  {
   "cell_type": "code",
   "execution_count": 2,
   "id": "a3fcc8e4-252f-4c81-b8ea-dddf474003ef",
   "metadata": {},
   "outputs": [],
   "source": [
    "from transformers import pipeline\n",
    "import torch\n",
    "import numpy as np\n",
    "import pandas as pd\n",
    "import textwrap\n",
    "from pprint import pprint\n",
    "import re\n",
    "import random"
   ]
  },
  {
   "cell_type": "code",
   "execution_count": 3,
   "id": "146a076c-7313-4fcc-a2d1-05cb797031d4",
   "metadata": {},
   "outputs": [
    {
     "name": "stderr",
     "output_type": "stream",
     "text": [
      "No model was supplied, defaulted to distilbert/distilroberta-base and revision ec58a5b (https://huggingface.co/distilbert/distilroberta-base).\n",
      "Using a pipeline without specifying a model name and revision in production is not recommended.\n",
      "Some weights of the model checkpoint at distilbert/distilroberta-base were not used when initializing RobertaForMaskedLM: ['roberta.pooler.dense.bias', 'roberta.pooler.dense.weight']\n",
      "- This IS expected if you are initializing RobertaForMaskedLM from the checkpoint of a model trained on another task or with another architecture (e.g. initializing a BertForSequenceClassification model from a BertForPreTraining model).\n",
      "- This IS NOT expected if you are initializing RobertaForMaskedLM from the checkpoint of a model that you expect to be exactly identical (initializing a BertForSequenceClassification model from a BertForSequenceClassification model).\n"
     ]
    }
   ],
   "source": [
    "if torch.cuda.is_available():\n",
    "    mlm = pipeline(\"fill-mask\", device=torch.cuda.current_device())\n",
    "else:\n",
    "    mlm = pipeline(\"fill-mask\")"
   ]
  },
  {
   "cell_type": "code",
   "execution_count": 4,
   "id": "d417a5af-bfe1-4548-a281-02e1dd31a9bc",
   "metadata": {},
   "outputs": [],
   "source": [
    "# Split sentences, source: https://stackoverflow.com/questions/4576077/how-can-i-split-a-text-into-sentences\n",
    "alphabets= \"([A-Za-z])\"\n",
    "prefixes = \"(Mr|St|Mrs|Ms|Dr)[.]\"\n",
    "suffixes = \"(Inc|Ltd|Jr|Sr|Co)\"\n",
    "starters = \"(Mr|Mrs|Ms|Dr|Prof|Capt|Cpt|Lt|He\\s|She\\s|It\\s|They\\s|Their\\s|Our\\s|We\\s|But\\s|However\\s|That\\s|This\\s|Wherever)\"\n",
    "acronyms = \"([A-Z][.][A-Z][.](?:[A-Z][.])?)\"\n",
    "websites = \"[.](com|net|org|io|gov|edu|me)\"\n",
    "digits = \"([0-9])\"\n",
    "multiple_dots = r'\\.{2,}'\n",
    "\n",
    "def split_into_sentences(text: str) -> list[str]:\n",
    "    \"\"\"\n",
    "    Split the text into sentences.\n",
    "\n",
    "    If the text contains substrings \"<prd>\" or \"<stop>\", they would lead \n",
    "    to incorrect splitting because they are used as markers for splitting.\n",
    "\n",
    "    :param text: text to be split into sentences\n",
    "    :type text: str\n",
    "\n",
    "    :return: list of sentences\n",
    "    :rtype: list[str]\n",
    "    \"\"\"\n",
    "    text = \" \" + text + \"  \"\n",
    "    text = text.replace(\"\\n\",\" \")\n",
    "    text = re.sub(prefixes,\"\\\\1<prd>\",text)\n",
    "    text = re.sub(websites,\"<prd>\\\\1\",text)\n",
    "    text = re.sub(digits + \"[.]\" + digits,\"\\\\1<prd>\\\\2\",text)\n",
    "    #text = re.sub(multiple_dots, lambda match: \"<prd>\" * len(match.group(0)) + \"<stop>\", text)\n",
    "    if \"Ph.D\" in text: text = text.replace(\"Ph.D.\",\"Ph<prd>D<prd>\")\n",
    "    text = re.sub(\"\\s\" + alphabets + \"[.] \",\" \\\\1<prd> \",text)\n",
    "    text = re.sub(acronyms+\" \"+starters,\"\\\\1<stop> \\\\2\",text)\n",
    "    text = re.sub(alphabets + \"[.]\" + alphabets + \"[.]\" + alphabets + \"[.]\",\"\\\\1<prd>\\\\2<prd>\\\\3<prd>\",text)\n",
    "    text = re.sub(alphabets + \"[.]\" + alphabets + \"[.]\",\"\\\\1<prd>\\\\2<prd>\",text)\n",
    "    text = re.sub(\" \"+suffixes+\"[.] \"+starters,\" \\\\1<stop> \\\\2\",text)\n",
    "    text = re.sub(\" \"+suffixes+\"[.]\",\" \\\\1<prd>\",text)\n",
    "    text = re.sub(\" \" + alphabets + \"[.]\",\" \\\\1<prd>\",text)\n",
    "    if \"”\" in text: text = text.replace(\".”\",\"”.\")\n",
    "    if \"\\\"\" in text: text = text.replace(\".\\\"\",\"\\\".\")\n",
    "    if \"!\" in text: text = text.replace(\"!\\\"\",\"\\\"!\")\n",
    "    if \"?\" in text: text = text.replace(\"?\\\"\",\"\\\"?\")\n",
    "    text = text.replace(\".\",\".<stop>\")\n",
    "    text = text.replace(\"?\",\"?<stop>\")\n",
    "    text = text.replace(\"!\",\"!<stop>\")\n",
    "    text = text.replace(\"<prd>\",\".\")\n",
    "    sentences = text.split(\"<stop>\")\n",
    "    sentences = [s.strip() for s in sentences]\n",
    "    if sentences and not sentences[-1]: sentences = sentences[:-1]\n",
    "    return sentences"
   ]
  },
  {
   "cell_type": "code",
   "execution_count": 5,
   "id": "82f460e3-27a8-464c-b865-11084e4ca0c5",
   "metadata": {},
   "outputs": [
    {
     "data": {
      "text/html": [
       "<div>\n",
       "<style scoped>\n",
       "    .dataframe tbody tr th:only-of-type {\n",
       "        vertical-align: middle;\n",
       "    }\n",
       "\n",
       "    .dataframe tbody tr th {\n",
       "        vertical-align: top;\n",
       "    }\n",
       "\n",
       "    .dataframe thead th {\n",
       "        text-align: right;\n",
       "    }\n",
       "</style>\n",
       "<table border=\"1\" class=\"dataframe\">\n",
       "  <thead>\n",
       "    <tr style=\"text-align: right;\">\n",
       "      <th></th>\n",
       "      <th>text</th>\n",
       "      <th>labels</th>\n",
       "    </tr>\n",
       "  </thead>\n",
       "  <tbody>\n",
       "    <tr>\n",
       "      <th>0</th>\n",
       "      <td>Ad sales boost Time Warner profit\\n\\nQuarterly...</td>\n",
       "      <td>business</td>\n",
       "    </tr>\n",
       "    <tr>\n",
       "      <th>1</th>\n",
       "      <td>Dollar gains on Greenspan speech\\n\\nThe dollar...</td>\n",
       "      <td>business</td>\n",
       "    </tr>\n",
       "    <tr>\n",
       "      <th>2</th>\n",
       "      <td>Yukos unit buyer faces loan claim\\n\\nThe owner...</td>\n",
       "      <td>business</td>\n",
       "    </tr>\n",
       "    <tr>\n",
       "      <th>3</th>\n",
       "      <td>High fuel prices hit BA's profits\\n\\nBritish A...</td>\n",
       "      <td>business</td>\n",
       "    </tr>\n",
       "    <tr>\n",
       "      <th>4</th>\n",
       "      <td>Pernod takeover talk lifts Domecq\\n\\nShares in...</td>\n",
       "      <td>business</td>\n",
       "    </tr>\n",
       "  </tbody>\n",
       "</table>\n",
       "</div>"
      ],
      "text/plain": [
       "                                                text    labels\n",
       "0  Ad sales boost Time Warner profit\\n\\nQuarterly...  business\n",
       "1  Dollar gains on Greenspan speech\\n\\nThe dollar...  business\n",
       "2  Yukos unit buyer faces loan claim\\n\\nThe owner...  business\n",
       "3  High fuel prices hit BA's profits\\n\\nBritish A...  business\n",
       "4  Pernod takeover talk lifts Domecq\\n\\nShares in...  business"
      ]
     },
     "execution_count": 5,
     "metadata": {},
     "output_type": "execute_result"
    }
   ],
   "source": [
    "df = pd.read_csv('bbc_text_cls.csv')\n",
    "df.head()"
   ]
  },
  {
   "cell_type": "code",
   "execution_count": 6,
   "id": "895ca697-2bb6-4217-b35f-58ad2d916bfc",
   "metadata": {},
   "outputs": [
    {
     "name": "stdout",
     "output_type": "stream",
     "text": [
      "Unique set of labels: {'sport', 'tech', 'entertainment', 'business', 'politics'}\n"
     ]
    }
   ],
   "source": [
    "# Check what different categories do we have\n",
    "labels = set(df['labels'])\n",
    "print(f\"Unique set of labels: {labels}\")"
   ]
  },
  {
   "cell_type": "code",
   "execution_count": 7,
   "id": "a03aaf05-fa8b-4465-b6d0-553914a7e5ef",
   "metadata": {},
   "outputs": [
    {
     "data": {
      "text/plain": [
       "0    Ad sales boost Time Warner profit\\n\\nQuarterly...\n",
       "1    Dollar gains on Greenspan speech\\n\\nThe dollar...\n",
       "2    Yukos unit buyer faces loan claim\\n\\nThe owner...\n",
       "3    High fuel prices hit BA's profits\\n\\nBritish A...\n",
       "4    Pernod takeover talk lifts Domecq\\n\\nShares in...\n",
       "Name: text, dtype: object"
      ]
     },
     "execution_count": 7,
     "metadata": {},
     "output_type": "execute_result"
    }
   ],
   "source": [
    "# Extract only texts related to the 'business' category\n",
    "label = 'business'\n",
    "texts = df[df['labels'] == label]['text']\n",
    "texts.head()"
   ]
  },
  {
   "cell_type": "code",
   "execution_count": 8,
   "id": "4527b4fc-15cd-4c5a-a629-a751b39c419b",
   "metadata": {},
   "outputs": [],
   "source": [
    "np.random.seed(1234)"
   ]
  },
  {
   "cell_type": "code",
   "execution_count": 9,
   "id": "36b45a85-65be-4726-8789-bc9987ba657b",
   "metadata": {},
   "outputs": [],
   "source": [
    "def replace_target_with_mask(text, target):\n",
    "    \"\"\"\n",
    "    Replaces a given word in the text with <mask>. Only full matches are considered, i.e.\n",
    "    text=\"cat\" would not match target \"at\".\n",
    "\n",
    "    Parameters\n",
    "    ----------\n",
    "    text : str\n",
    "        A string where the target word is replaced.\n",
    "    target : str\n",
    "        A string defining what is going to be replaced.\n",
    "\n",
    "    Returns\n",
    "    str\n",
    "        A string where the target word has been replaced with <mask>\n",
    "    \"\"\"\n",
    "    escaped_target = re.escape(target)\n",
    "    # Pattern to ensure the target is surrounded by non-word characters or is at the start/end of the text.\n",
    "    # We use alternatives for start/end of text and non-word characters to avoid variable-width lookbehind.\n",
    "    pattern = rf\"(?<!\\w){escaped_target}(?!\\w)\"\n",
    "\n",
    "    # Performing the substitution\n",
    "    return re.sub(pattern, \"<mask>\", text, count=1)"
   ]
  },
  {
   "cell_type": "code",
   "execution_count": 10,
   "id": "00cfe62d-53ea-4db0-96a5-3262ecfb93c7",
   "metadata": {},
   "outputs": [
    {
     "name": "stderr",
     "output_type": "stream",
     "text": [
      "/home/jarno/miniconda3/envs/huggingface_gpu/lib/python3.10/site-packages/transformers/pipelines/base.py:1157: UserWarning: You seem to be using the pipelines sequentially on GPU. In order to maximize efficiency please use a dataset\n",
      "  warnings.warn(\n"
     ]
    }
   ],
   "source": [
    "# Choose random texts from the set of texts, split the text into title and text and in each sentence replace\n",
    "# one word with <mask>\n",
    "\n",
    "# Choose a random article from the body of texts and split it into sentences\n",
    "index = np.random.choice(texts.shape[0])\n",
    "text = texts.iloc[index]\n",
    "title, body = text.split('\\n', 1)\n",
    "sentences = split_into_sentences(textwrap.fill(body, replace_whitespace=True, fix_sentence_endings=True))\n",
    "\n",
    "# Iterate over the sentences and in each replace a random word with \"<mask>\"\n",
    "# Original text\n",
    "original_text = title + \"\\n\\n\"\n",
    "# Masked text\n",
    "masked_text = title + \"\\n\\n\"\n",
    "# Generated text\n",
    "generated_text = title + \"\\n\\n\"\n",
    "\n",
    "# Loop over the sentences\n",
    "for sentence in sentences:\n",
    "    sentence_words = sentence.split()\n",
    "    replace_me = random.choice(sentence_words)\n",
    "    masked_sentence = replace_target_with_mask(sentence, replace_me)\n",
    "    generated_text += mlm(masked_sentence)[0]['sequence'] + \"\\n\"\n",
    "    masked_text += masked_sentence + \"\\n\"\n",
    "    original_text += sentence + \"\\n\""
   ]
  },
  {
   "cell_type": "code",
   "execution_count": 11,
   "id": "65ad359c-7d5a-46cb-908f-096f1bb6738a",
   "metadata": {},
   "outputs": [
    {
     "name": "stdout",
     "output_type": "stream",
     "text": [
      "-----------------\n",
      "- ORIGINAL TEXT -\n",
      "-----------------\n",
      "Bombardier chief to leave company\n",
      "\n",
      "Shares in train and plane-making giant Bombardier have fallen to a 10-year low following the departure of its chief executive and two members of the board.\n",
      "Paul Tellier, who was also Bombardier's president, left the company amid an ongoing restructuring.\n",
      "Laurent Beaudoin, part of the family that controls the Montreal-based firm, will take on the role of CEO under a newly created management structure.\n",
      "Analysts said the resignations seem to have stemmed from a boardroom dispute.\n",
      "Under Mr Tellier's tenure at the company, which began in January 2003, plans to cut the worldwide workforce of 75,000 by almost a third by 2006 were announced.\n",
      "The firm's snowmobile division and defence services unit were also sold and Bombardier started the development of a new aircraft seating 110 to 135 passengers.\n",
      "Mr Tellier had indicated he wanted to stay at the world's top train maker and third largest manufacturer of civil aircraft until the restructuring was complete.\n",
      "But Bombardier has been faced with a declining share price and profits.\n",
      "Earlier this month the firm said it earned $10m (£19.2m) in the third quarter, down from a profit of $133m a year ago.\n",
      "\"I understand the board's concern that I would not be there for the long-term and the need to develop and execute strategies, and the need to reshape the management structure at this time,\" Mr Tellier said in a statement on Monday.\n",
      "Bombardier said restructuring plans drawn up by Mr Tellier's would continue to be implemented.\n",
      "Shares in Bombardier lost 65 Canadian cents or 25% on the news to 1.90 Canadian dollars before rallying to 2.20 Canadian dollars.\n",
      "\n"
     ]
    }
   ],
   "source": [
    "print(\"-----------------\")\n",
    "print(\"- ORIGINAL TEXT -\")\n",
    "print(\"-----------------\")\n",
    "print(original_text)"
   ]
  },
  {
   "cell_type": "code",
   "execution_count": 12,
   "id": "405ad733-6c15-449f-8648-faa626ba63fa",
   "metadata": {},
   "outputs": [
    {
     "name": "stdout",
     "output_type": "stream",
     "text": [
      "---------------\n",
      "- MASKED TEXT -\n",
      "---------------\n",
      "Bombardier chief to leave company\n",
      "\n",
      "Shares in train <mask> plane-making giant Bombardier have fallen to a 10-year low following the departure of its chief executive and two members of the board.\n",
      "Paul Tellier, who was also Bombardier's president, left the <mask> amid an ongoing restructuring.\n",
      "Laurent Beaudoin, part of the family that <mask> the Montreal-based firm, will take on the role of CEO under a newly created management structure.\n",
      "Analysts said the resignations seem to have stemmed from a <mask> dispute.\n",
      "Under Mr Tellier's tenure at the company, which began in January 2003, plans to cut the worldwide workforce of 75,000 by almost a third by 2006 were <mask>\n",
      "The <mask> snowmobile division and defence services unit were also sold and Bombardier started the development of a new aircraft seating 110 to 135 passengers.\n",
      "Mr Tellier had indicated <mask> wanted to stay at the world's top train maker and third largest manufacturer of civil aircraft until the restructuring was complete.\n",
      "But Bombardier has been <mask> with a declining share price and profits.\n",
      "Earlier this month the firm said it earned $10m (£19.2m) in the third quarter, down from a <mask> of $133m a year ago.\n",
      "\"I understand the board's concern that I would not be there for the long-term and the need to develop and <mask> strategies, and the need to reshape the management structure at this time,\" Mr Tellier said in a statement on Monday.\n",
      "Bombardier said restructuring plans drawn up by Mr Tellier's would continue <mask> be implemented.\n",
      "Shares in Bombardier lost 65 Canadian cents or 25% on the news to 1.90 Canadian dollars before <mask> to 2.20 Canadian dollars.\n",
      "\n"
     ]
    }
   ],
   "source": [
    "print(\"---------------\")\n",
    "print(\"- MASKED TEXT -\")\n",
    "print(\"---------------\")\n",
    "print(masked_text)"
   ]
  },
  {
   "cell_type": "code",
   "execution_count": 13,
   "id": "66675816-02a5-40b3-b641-04f2bb691344",
   "metadata": {},
   "outputs": [
    {
     "name": "stdout",
     "output_type": "stream",
     "text": [
      "------------------\n",
      "- GENERATED TEXT -\n",
      "------------------\n",
      "Bombardier chief to leave company\n",
      "\n",
      "Shares in train passenger plane-making giant Bombardier have fallen to a 10-year low following the departure of its chief executive and two members of the board.\n",
      "Paul Tellier, who was also Bombardier's president, left the company amid an ongoing restructuring.\n",
      "Laurent Beaudoin, part of the family that owns the Montreal-based firm, will take on the role of CEO under a newly created management structure.\n",
      "Analysts said the resignations seem to have stemmed from a personal dispute.\n",
      "Under Mr Tellier's tenure at the company, which began in January 2003, plans to cut the worldwide workforce of 75,000 by almost a third by 2006 were announced\n",
      "The Airbus snowmobile division and defence services unit were also sold and Bombardier started the development of a new aircraft seating 110 to 135 passengers.\n",
      "Mr Tellier had indicated he wanted to stay at the world's top train maker and third largest manufacturer of civil aircraft until the restructuring was complete.\n",
      "But Bombardier has been hit with a declining share price and profits.\n",
      "Earlier this month the firm said it earned $10m (£19.2m) in the third quarter, down from a peak of $133m a year ago.\n",
      "\"I understand the board's concern that I would not be there for the long-term and the need to develop and implement strategies, and the need to reshape the management structure at this time,\" Mr Tellier said in a statement on Monday.\n",
      "Bombardier said restructuring plans drawn up by Mr Tellier's would continue to be implemented.\n",
      "Shares in Bombardier lost 65 Canadian cents or 25% on the news to 1.90 Canadian dollars before recovering to 2.20 Canadian dollars.\n",
      "\n"
     ]
    }
   ],
   "source": [
    "print(\"------------------\")\n",
    "print(\"- GENERATED TEXT -\")\n",
    "print(\"------------------\")\n",
    "print(generated_text)"
   ]
  },
  {
   "cell_type": "code",
   "execution_count": null,
   "id": "350a1abe-e50b-4bfd-ae43-2fae4ad77078",
   "metadata": {},
   "outputs": [],
   "source": []
  }
 ],
 "metadata": {
  "kernelspec": {
   "display_name": "Python 3 (ipykernel)",
   "language": "python",
   "name": "python3"
  },
  "language_info": {
   "codemirror_mode": {
    "name": "ipython",
    "version": 3
   },
   "file_extension": ".py",
   "mimetype": "text/x-python",
   "name": "python",
   "nbconvert_exporter": "python",
   "pygments_lexer": "ipython3",
   "version": "3.10.13"
  }
 },
 "nbformat": 4,
 "nbformat_minor": 5
}
