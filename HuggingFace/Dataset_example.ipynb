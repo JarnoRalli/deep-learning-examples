{
 "cells": [
  {
   "cell_type": "markdown",
   "id": "bde2d7db-98d2-4b14-b12a-af720056b1c5",
   "metadata": {},
   "source": [
    "# HuggingFace Datasets\n",
    "\n",
    "Datasets are available at [https://huggingface.co/datasets](https://huggingface.co/datasets). Following simple example demonstrates how to use some of the dataset functionality from HuggingFace. Data sources:\n",
    "\n",
    "* [GLUE](https://gluebenchmark.com/) (General Language Understanding Evaluation)"
   ]
  },
  {
   "cell_type": "code",
   "execution_count": 1,
   "id": "fac1ac21-5282-418b-b70d-b0fd6fb98878",
   "metadata": {},
   "outputs": [],
   "source": [
    "from datasets import load_dataset\n",
    "from transformers import AutoTokenizer"
   ]
  },
  {
   "cell_type": "code",
   "execution_count": 2,
   "id": "8bbb98a7-4a89-4e51-bcf6-b65a5fef3515",
   "metadata": {},
   "outputs": [],
   "source": [
    "# GLUE stands for General Language Understanding Evaluation\n",
    "# Loads sst2 (sentiment analysis) task data from the GLUE dataset\n",
    "raw_dataset = load_dataset(\"glue\", \"sst2\")"
   ]
  },
  {
   "cell_type": "code",
   "execution_count": 3,
   "id": "19e8dd63-c7c6-4a81-b42d-37f58eeeba6e",
   "metadata": {},
   "outputs": [
    {
     "name": "stdout",
     "output_type": "stream",
     "text": [
      "Dataset:\n",
      "DatasetDict({\n",
      "    train: Dataset({\n",
      "        features: ['sentence', 'label', 'idx'],\n",
      "        num_rows: 67349\n",
      "    })\n",
      "    validation: Dataset({\n",
      "        features: ['sentence', 'label', 'idx'],\n",
      "        num_rows: 872\n",
      "    })\n",
      "    test: Dataset({\n",
      "        features: ['sentence', 'label', 'idx'],\n",
      "        num_rows: 1821\n",
      "    })\n",
      "})\n"
     ]
    }
   ],
   "source": [
    "print(f\"Dataset:\\n{raw_dataset}\")"
   ]
  },
  {
   "cell_type": "code",
   "execution_count": 9,
   "id": "3e901ea1-14af-4a98-8f1d-62557b334fd6",
   "metadata": {},
   "outputs": [
    {
     "data": {
      "text/plain": [
       "datasets.arrow_dataset.Dataset"
      ]
     },
     "execution_count": 9,
     "metadata": {},
     "output_type": "execute_result"
    }
   ],
   "source": [
    "# Type of the train dataset\n",
    "type(raw_dataset[\"train\"])"
   ]
  },
  {
   "cell_type": "code",
   "execution_count": 10,
   "id": "be636412-3fed-4cf6-94b1-5d1acf0a6e4f",
   "metadata": {},
   "outputs": [
    {
     "data": {
      "text/plain": [
       "Dataset({\n",
       "    features: ['sentence', 'label', 'idx'],\n",
       "    num_rows: 67349\n",
       "})"
      ]
     },
     "execution_count": 10,
     "metadata": {},
     "output_type": "execute_result"
    }
   ],
   "source": [
    "# Contents of the train dataset\n",
    "raw_dataset['train']"
   ]
  },
  {
   "cell_type": "code",
   "execution_count": 16,
   "id": "c3e70958-6dee-49f0-b3a8-57f3a6350141",
   "metadata": {},
   "outputs": [
    {
     "data": {
      "text/plain": [
       "{'sentence': Value(dtype='string', id=None),\n",
       " 'label': ClassLabel(names=['negative', 'positive'], id=None),\n",
       " 'idx': Value(dtype='int32', id=None)}"
      ]
     },
     "execution_count": 16,
     "metadata": {},
     "output_type": "execute_result"
    }
   ],
   "source": [
    "# Show the types of each of the elements\n",
    "raw_dataset['train'].features"
   ]
  },
  {
   "cell_type": "code",
   "execution_count": 12,
   "id": "aa6159c8-fad1-4b98-9f73-937562fd0ce6",
   "metadata": {},
   "outputs": [
    {
     "data": {
      "text/plain": [
       "{'sentence': 'hide new secretions from the parental units ',\n",
       " 'label': 0,\n",
       " 'idx': 0}"
      ]
     },
     "execution_count": 12,
     "metadata": {},
     "output_type": "execute_result"
    }
   ],
   "source": [
    "# Contents of the first element of the train dataset\n",
    "raw_dataset['train'][0]"
   ]
  },
  {
   "cell_type": "code",
   "execution_count": 15,
   "id": "8a36e89a-7593-4241-a98f-dccb9b5196b7",
   "metadata": {},
   "outputs": [
    {
     "data": {
      "text/plain": [
       "{'sentence': ['hide new secretions from the parental units ',\n",
       "  'contains no wit , only labored gags ',\n",
       "  'that loves its characters and communicates something rather beautiful about human nature ',\n",
       "  'remains utterly satisfied to remain the same throughout ',\n",
       "  'on the worst revenge-of-the-nerds clichés the filmmakers could dredge up '],\n",
       " 'label': [0, 0, 1, 0, 0],\n",
       " 'idx': [0, 1, 2, 3, 4]}"
      ]
     },
     "execution_count": 15,
     "metadata": {},
     "output_type": "execute_result"
    }
   ],
   "source": [
    "# Contents of the first 5 elements\n",
    "raw_dataset['train'][0:5]"
   ]
  },
  {
   "cell_type": "markdown",
   "id": "77db3638-25e1-4a55-89a4-9cc12fb9fbff",
   "metadata": {},
   "source": [
    "### Tokenization with Datasets\n",
    "\n",
    "Following shows how to tokenize a dataset. In essence, in order to tokenize the dataset, we create a mapping function that is passed to the dataset's map-function."
   ]
  },
  {
   "cell_type": "code",
   "execution_count": 6,
   "id": "c5ed00b0-98a1-48a6-b8c9-1e7361dba60b",
   "metadata": {},
   "outputs": [],
   "source": [
    "checkpoint = \"bert-base-uncased\"\n",
    "tokenizer = AutoTokenizer.from_pretrained(checkpoint)\n",
    "\n",
    "def tokenize_fn(batch):\n",
    "    return tokenizer(batch['sentence'], truncation=True)\n",
    "\n",
    "tokenized_dataset = raw_dataset.map(tokenize_fn, batched=True)"
   ]
  },
  {
   "cell_type": "code",
   "execution_count": 7,
   "id": "6cf3a712-db3f-4559-8469-55b0f0f1aeb0",
   "metadata": {},
   "outputs": [
    {
     "name": "stdout",
     "output_type": "stream",
     "text": [
      "{'sentence': 'hide new secretions from the parental units ', 'label': 0, 'idx': 0, 'input_ids': [101, 5342, 2047, 3595, 8496, 2013, 1996, 18643, 3197, 102], 'token_type_ids': [0, 0, 0, 0, 0, 0, 0, 0, 0, 0], 'attention_mask': [1, 1, 1, 1, 1, 1, 1, 1, 1, 1]}\n"
     ]
    }
   ],
   "source": [
    "print(tokenized_dataset['train'][0])"
   ]
  }
 ],
 "metadata": {
  "kernelspec": {
   "display_name": "Python 3 (ipykernel)",
   "language": "python",
   "name": "python3"
  },
  "language_info": {
   "codemirror_mode": {
    "name": "ipython",
    "version": 3
   },
   "file_extension": ".py",
   "mimetype": "text/x-python",
   "name": "python",
   "nbconvert_exporter": "python",
   "pygments_lexer": "ipython3",
   "version": "3.10.13"
  }
 },
 "nbformat": 4,
 "nbformat_minor": 5
}
