{
 "cells": [
  {
   "cell_type": "markdown",
   "id": "510455b0",
   "metadata": {},
   "source": [
    "# Multi Layer Perceptron NLP Model by Bengio, Part 1\n",
    "\n",
    "This is an implementation of a character level NLP model, motivated by [Bengio et al.](https://www.jmlr.org/papers/volume3/bengio03a/bengio03a.pdf) paper, based on Andrej Karpathy's [Makemore](https://www.youtube.com/watch?v=TCH_1BHY58I&list=PLAqhIrjkxbuWI23v9cThsA9GvCAUhRvKZ&index=3) lectures.\n",
    "\n",
    "<br>\n",
    "<br>\n",
    "<figure align=\"center\">\n",
    "    <img src=\"./images/bengio_2003_neural_architecture.png\" width=\"500\">\n",
    "    <figcaption>Bengio et al.'s neural model.</figcaption>\n",
    "</figure>\n",
    "\n",
    ", where $w_t$ is the t-th word, and $w_i^j = \\left(w_i, w_{i+1}, \\ldots, w_{j-1}. w_j\\right)$ is a sequence of words from $i$ to $j$. Since in this example we will teach a neural network to generate names based on examples, instead of using words, we use characters.\n",
    "\n",
    "## Input to the Model\n",
    "\n",
    "The input to the model is a sequence of n-characters (we use 3 in the code). These characters are converted into a 2D embedding space using a look-up-table C. LUT is part of the nn model, so the weights for the LUT are learned. The rationale for using a learned embedding space is for the model to be able to generalize better, especially when it comes across input that is has not seen previously.\n",
    "\n",
    "## Output from the Model \n",
    "\n",
    "For each combination of 3 input characters, the model outputs a probability distribution for the 27 letters from the alphabet. Using the probability distribution we can sample letters.\n",
    "\n",
    "## Loss Function\n",
    "\n",
    "We need a way of measuring how well the model is doing so that the deep-learning model can learn based on the given examples. In order to do so, we need a loss function. We start by defining the likelihood function. Likelihood function is the joint probability of the observed data viewed as a function of the parameters of a statistical model (source: [Wikipedia](https://en.wikipedia.org/wiki/Likelihood_function)). In statistics, maximum likelihood estimation is a method of estimating the parameters of an assumed probability distribution, given observed data. For a set of independent and identically distributed points $X = \\{x_1, x_2,..., x_n\\}$, the likelihood is defined as follows:\n",
    "\n",
    "$$\\mathcal{L}(\\theta|x)=p(X|\\theta)=\\prod_{n=1}^{N}p(x_n|\\theta)$$\n",
    "\n",
    "$\\mathcal{L}(\\theta|x)$ is the likelihood function, $\\theta$ are the model parameters and $x$ are the observations. We want to maximize the likelihood of the data with respect to the parameters. In other words, we want to maximize the likelihood, by tweaking the parameters $\\theta$, that the model produces the observed data. Since we have many bigrams, we want to maximize the likelihood over all of them, which leads to a product over all of the probabilities. Since the probability for each individual observation is between $[0...1]$, multiplying these together leads to a small number and numerical instabilities. Therefore, we want to maximize the log-likelihood. Since $log(a \\cdot b)=log(a)+log(b)$, we get:\n",
    "\n",
    "$$log\\left(\\mathcal{L}(\\theta|x)\\right)=\\sum_{n=1}^{N}log\\left(p(x_n|\\theta)\\right)$$\n",
    "\n",
    "The way we train deep-learning networks is by minizing a loss function. Maximizing the log-likelihood is equivalent to minimizing the negative log-likelihood, and in order for the results to be comparable regardless the number of data points we are using, we normalize the negative log-likelihood by dividing it with the number of data points we have. Therefore, our loss function is:\n",
    "\n",
    "$$-\\dfrac{1}{N}\\sum_{n=1}^{N}log\\left(p(x_n|\\theta)\\right)$$"
   ]
  },
  {
   "cell_type": "code",
   "execution_count": 1,
   "id": "f455cd69",
   "metadata": {},
   "outputs": [],
   "source": [
    "import urllib.request\n",
    "import torch\n",
    "import torch.nn as nn\n",
    "from torch import functional as F\n",
    "import matplotlib.pyplot as plt\n",
    "import numpy as np\n",
    "import random"
   ]
  },
  {
   "cell_type": "code",
   "execution_count": 2,
   "id": "2f4f7549",
   "metadata": {},
   "outputs": [],
   "source": [
    "# Url to the file containing over 30k names\n",
    "url_source = \"https://raw.githubusercontent.com/karpathy/makemore/master/names.txt\"\n",
    "\n",
    "text = str('')\n",
    "\n",
    "# Read to a variable, line by line\n",
    "for line in urllib.request.urlopen(url_source):\n",
    "    text += line.decode('utf-8')"
   ]
  },
  {
   "cell_type": "code",
   "execution_count": 3,
   "id": "ac1a8121",
   "metadata": {},
   "outputs": [
    {
     "name": "stdout",
     "output_type": "stream",
     "text": [
      "['emma', 'olivia', 'ava', 'isabella', 'sophia', 'charlotte', 'mia', 'amelia', 'harper', 'evelyn']\n"
     ]
    }
   ],
   "source": [
    "# Split the file to lines and show the first 10 lines\n",
    "words = text.splitlines()\n",
    "print(words[:10])"
   ]
  },
  {
   "cell_type": "code",
   "execution_count": 4,
   "id": "b1aa67e5",
   "metadata": {},
   "outputs": [
    {
     "name": "stdout",
     "output_type": "stream",
     "text": [
      "stoi={'a': 1, 'b': 2, 'c': 3, 'd': 4, 'e': 5, 'f': 6, 'g': 7, 'h': 8, 'i': 9, 'j': 10, 'k': 11, 'l': 12, 'm': 13, 'n': 14, 'o': 15, 'p': 16, 'q': 17, 'r': 18, 's': 19, 't': 20, 'u': 21, 'v': 22, 'w': 23, 'x': 24, 'y': 25, 'z': 26, '.': 0}\n",
      "itos={1: 'a', 2: 'b', 3: 'c', 4: 'd', 5: 'e', 6: 'f', 7: 'g', 8: 'h', 9: 'i', 10: 'j', 11: 'k', 12: 'l', 13: 'm', 14: 'n', 15: 'o', 16: 'p', 17: 'q', 18: 'r', 19: 's', 20: 't', 21: 'u', 22: 'v', 23: 'w', 24: 'x', 25: 'y', 26: 'z', 0: '.'}\n"
     ]
    }
   ],
   "source": [
    "# Create the dictionaries to map characters to integers and vice versa\n",
    "chars = sorted(list(set(''.join(words))))\n",
    "stoi = {s:i+1 for i, s in enumerate(chars)}\n",
    "stoi['.'] = 0\n",
    "itos = {i:s for s, i in stoi.items()}\n",
    "print(f\"{stoi=}\")\n",
    "print(f\"{itos=}\")"
   ]
  },
  {
   "cell_type": "markdown",
   "id": "cd3186b0",
   "metadata": {},
   "source": [
    "## Explanation of the Model\n",
    "\n",
    "This part explains how the model works, later on it will be rewritten for training purposes."
   ]
  },
  {
   "cell_type": "code",
   "execution_count": 5,
   "id": "2621a4bf",
   "metadata": {},
   "outputs": [
    {
     "name": "stdout",
     "output_type": "stream",
     "text": [
      "emma\n",
      "... ---> e\n",
      "..e ---> m\n",
      ".em ---> m\n",
      "emm ---> a\n",
      "mma ---> .\n",
      "olivia\n",
      "... ---> o\n",
      "..o ---> l\n",
      ".ol ---> i\n",
      "oli ---> v\n",
      "liv ---> i\n",
      "ivi ---> a\n",
      "via ---> .\n",
      "ava\n",
      "... ---> a\n",
      "..a ---> v\n",
      ".av ---> a\n",
      "ava ---> .\n"
     ]
    }
   ],
   "source": [
    "# Build the dataset\n",
    "block_size = 3\n",
    "X, Y = [], []\n",
    "\n",
    "for w in words[:3]:\n",
    "    print(w)\n",
    "    # This creates a list, filled with zeros:, that has the length defined by the variable block_size\n",
    "    context = [0] * block_size\n",
    "    for ch in w + '.':\n",
    "        ix = stoi[ch]\n",
    "        X.append(context)\n",
    "        Y.append(ix)\n",
    "        print(''.join(itos[i] for i in context), \"--->\", itos[ix])\n",
    "        context = context[1:] + [ix]\n",
    "\n",
    "X = torch.tensor(X)\n",
    "Y = torch.tensor(Y)"
   ]
  },
  {
   "cell_type": "code",
   "execution_count": 6,
   "id": "a2d52005",
   "metadata": {},
   "outputs": [
    {
     "name": "stdout",
     "output_type": "stream",
     "text": [
      "X.shape=torch.Size([16, 3]), X.dtype=torch.int64\n",
      "Y.shape=torch.Size([16]), Y.dtype=torch.int64\n"
     ]
    }
   ],
   "source": [
    "# X are the learning samples, and Y are the labels.\n",
    "# Y = f(X), where f() represents the neural-network.\n",
    "print(f\"{X.shape=}, {X.dtype=}\")\n",
    "print(f\"{Y.shape=}, {Y.dtype=}\")"
   ]
  },
  {
   "cell_type": "code",
   "execution_count": 7,
   "id": "5410e14c",
   "metadata": {},
   "outputs": [],
   "source": [
    "# A look-up-table for the character encodings, encodes each character into a 2D space.\n",
    "# 27 is the size of the input-space, i.e. the number of letters.\n",
    "# 2 is the size of the encoded output-space.\n",
    "# This is the input layer to the network. Weights of the C-mapping will be learned by the model.\n",
    "C = torch.randn(27, 2)"
   ]
  },
  {
   "cell_type": "code",
   "execution_count": 8,
   "id": "463a0ea4",
   "metadata": {},
   "outputs": [
    {
     "name": "stdout",
     "output_type": "stream",
     "text": [
      "X.shape=torch.Size([16, 3])\n",
      "C[X].shape=torch.Size([16, 3, 2])\n"
     ]
    }
   ],
   "source": [
    "print(f\"{X.shape=}\")\n",
    "print(f\"{C[X].shape=}\")"
   ]
  },
  {
   "cell_type": "code",
   "execution_count": 9,
   "id": "a1b1c526",
   "metadata": {},
   "outputs": [
    {
     "name": "stdout",
     "output_type": "stream",
     "text": [
      "Shape of the input: emb.shape=torch.Size([16, 3, 2])\n",
      "Shape of the input, after reshaping: emb.view(-1, 6).shape=torch.Size([16, 6])\n"
     ]
    }
   ],
   "source": [
    "# We need to reshape the input (embedded space) space so that it can be connected to the\n",
    "# first hidden layer. The shape needs to be (batch_size, 6).\n",
    "emb = C[X]\n",
    "print(f\"Shape of the input: {emb.shape=}\")\n",
    "print(f\"Shape of the input, after reshaping: {emb.view(-1, 6).shape=}\")"
   ]
  },
  {
   "cell_type": "code",
   "execution_count": 10,
   "id": "f41e5f02",
   "metadata": {},
   "outputs": [],
   "source": [
    "# Building the network, first hidden layer.\n",
    "# We're feeding 3-characters into the model and each character is encoded into a 2D space, therefore\n",
    "# the input to the network is 3x2 = 6\n",
    "W1 = torch.randn((6, 100)) # Weights of the first layer\n",
    "b1 = torch.randn(1, 100) # Bias terms of the first layer\n",
    "h = torch.tanh(emb.view(-1, 6) @ W1 + b1)"
   ]
  },
  {
   "cell_type": "code",
   "execution_count": 11,
   "id": "cb76bf19",
   "metadata": {},
   "outputs": [],
   "source": [
    "# Output layer\n",
    "W2 = torch.randn((100, 27)) # Weights of the output layer\n",
    "b2 = torch.randn(1, 27) # Bias terms of the output layer"
   ]
  },
  {
   "cell_type": "code",
   "execution_count": 12,
   "id": "ecd04617",
   "metadata": {},
   "outputs": [],
   "source": [
    "# Here we calculate the logits, corresponding probability distributions, and the loss based on the labels\n",
    "logits = h @ W2 + b2\n",
    "counts = logits.exp()\n",
    "prob = counts / counts.sum(1, keepdim=True)\n",
    "loss = -prob[torch.arange(16), Y].log().mean()"
   ]
  },
  {
   "cell_type": "markdown",
   "id": "9218f9b0",
   "metadata": {},
   "source": [
    "## Training the Model"
   ]
  },
  {
   "cell_type": "code",
   "execution_count": 13,
   "id": "2a3dad53",
   "metadata": {},
   "outputs": [],
   "source": [
    "block_size = 3 # how many characters we use in order to predict the next one\n",
    "\n",
    "def build_dataset(words_in, block_size_in=3):\n",
    "    \n",
    "    X, Y = [], []\n",
    "\n",
    "    for w in words_in:\n",
    "        # This creates a list, filled with zeros:, that has the length defined by the variable block_size\n",
    "        context = [0] * block_size_in\n",
    "        for ch in w + '.':\n",
    "            ix = stoi[ch]\n",
    "            X.append(context)\n",
    "            Y.append(ix)\n",
    "            context = context[1:] + [ix]\n",
    "\n",
    "    X = torch.tensor(X)\n",
    "    Y = torch.tensor(Y)\n",
    "    return X, Y\n",
    "\n",
    "random.seed(42)\n",
    "random.shuffle(words)\n",
    "n1 = int(0.8*len(words))\n",
    "n2 = int(0.9*len(words))\n",
    "\n",
    "Xtr, Ytr = build_dataset(words[:n1], block_size)\n",
    "Xval, Yval = build_dataset(words[n1:n2], block_size)\n",
    "Xte, Yte = build_dataset(words[n2:], block_size)"
   ]
  },
  {
   "cell_type": "code",
   "execution_count": 14,
   "id": "c37cb5c9",
   "metadata": {},
   "outputs": [],
   "source": [
    "embedding_size = 10\n",
    "hidden_layer_size = 200\n",
    "\n",
    "g = torch.Generator().manual_seed(2147483647)\n",
    "C = torch.randn((27, embedding_size), generator=g)\n",
    "W1 = torch.randn((embedding_size*block_size, hidden_layer_size), generator=g)\n",
    "b1 = torch.randn(hidden_layer_size, generator=g)\n",
    "W2 = torch.randn((hidden_layer_size, 27), generator=g)\n",
    "b2 = torch.randn(27, generator=g)\n",
    "parameters = [C, W1, b1, W2, b2]\n",
    "\n",
    "for p in parameters:\n",
    "    p.requires_grad = True"
   ]
  },
  {
   "cell_type": "code",
   "execution_count": 15,
   "id": "93b2cb07",
   "metadata": {},
   "outputs": [],
   "source": [
    "losses = np.array([])"
   ]
  },
  {
   "cell_type": "code",
   "execution_count": 16,
   "id": "55380898",
   "metadata": {},
   "outputs": [],
   "source": [
    "batch_size = 128\n",
    "\n",
    "for k in range(30000):\n",
    "    \n",
    "    # Mini batch\n",
    "    ix = torch.randint(0, Xtr.shape[0], (batch_size,))\n",
    "    \n",
    "    #--- FORWARD PASS ---\n",
    "    emb = C[Xtr[ix]]\n",
    "    \n",
    "    # Linear layer\n",
    "    #---------------------------------------------------------------------------\n",
    "    z1 = emb.view(-1, W1.shape[0]) @ W1 + b1\n",
    "    #---------------------------------------------------------------------------\n",
    "    \n",
    "    # Non-linearity/activation\n",
    "    a1 = torch.tanh(z1)\n",
    "    logits = a1 @ W2 + b2\n",
    "    # Instead of implementing the loss function manually (negative log likelihood), we use\n",
    "    # PyTorch's internal function 'cross_entropy' as it is more efficient.\n",
    "    loss = torch.nn.functional.cross_entropy(logits, Ytr[ix])\n",
    "    losses = np.append(losses, loss.log10().item())\n",
    "\n",
    "    #--- BACKWARD PASS ---\n",
    "    # Reset the gradients\n",
    "    for p in parameters:\n",
    "        p.grad = None\n",
    "    loss.backward()\n",
    "    \n",
    "    # Learning rate\n",
    "    lr = 0.1 if k < 20000 else 0.005\n",
    "\n",
    "    # update the weights\n",
    "    for p in parameters:\n",
    "        p.data += -lr * p.grad"
   ]
  },
  {
   "cell_type": "code",
   "execution_count": 17,
   "id": "992c7844",
   "metadata": {},
   "outputs": [
    {
     "data": {
      "image/png": "[encoded data removed]",
      "text/plain": [
       "<Figure size 640x480 with 1 Axes>"
      ]
     },
     "metadata": {},
     "output_type": "display_data"
    }
   ],
   "source": [
    "plt.plot(losses)\n",
    "plt.title(f'Training loss, final value: {losses[-1].item():.4f}')\n",
    "plt.show()"
   ]
  },
  {
   "cell_type": "code",
   "execution_count": 18,
   "id": "8c4ec875",
   "metadata": {},
   "outputs": [
    {
     "data": {
      "image/png": "[encoded data removed]",
      "text/plain": [
       "<Figure size 640x480 with 1 Axes>"
      ]
     },
     "metadata": {},
     "output_type": "display_data"
    }
   ],
   "source": [
    "# Here we verify if we have dead neurons. If the output from tanh is >0.99 or <-0.99, then\n",
    "# the gradients vanish. In the image below, if we have a column drawn in white, it means that we have a dead neuron.\n",
    "plt.imshow(a1.abs() > 0.99, cmap='gray', interpolation='nearest')\n",
    "plt.title(\"Output from the tanh-layer. White indicates where values are > 0.99 or < -0.99.\")\n",
    "plt.show()"
   ]
  },
  {
   "cell_type": "code",
   "execution_count": 19,
   "id": "48af7651",
   "metadata": {},
   "outputs": [
    {
     "name": "stdout",
     "output_type": "stream",
     "text": [
      "Training loss: 2.2372636795043945\n",
      "Validation loss: 2.248884916305542\n"
     ]
    }
   ],
   "source": [
    "# A function to evaluate the loss\n",
    "@torch.no_grad()\n",
    "def calc_loss(X_in, Y_in):\n",
    "\n",
    "    emb = C[X_in]\n",
    "    z1 = emb.view(-1, W1.shape[0]) @ W1 + b1\n",
    "    a1 = torch.tanh(z1)\n",
    "    logits = a1 @ W2 + b2\n",
    "    return torch.nn.functional.cross_entropy(logits, Y_in)\n",
    "\n",
    "print(f\"Training loss: {calc_loss(Xtr, Ytr)}\")\n",
    "print(f\"Validation loss: {calc_loss(Xval, Yval)}\")"
   ]
  },
  {
   "cell_type": "code",
   "execution_count": 20,
   "id": "bc978ab4",
   "metadata": {},
   "outputs": [
    {
     "name": "stdout",
     "output_type": "stream",
     "text": [
      "aymidah\n",
      "rakuce\n",
      "avaxthayleygh\n",
      "james\n",
      "tahlanas\n",
      "frelyah\n",
      "adbri\n",
      "rissa\n",
      "ara\n",
      "ada\n"
     ]
    }
   ],
   "source": [
    "# Sample names from the model\n",
    "for i in range(10):\n",
    "    chars = [0] * 3\n",
    "    while True:\n",
    "\n",
    "        emb = C[torch.tensor(chars)]\n",
    "        h = torch.tanh(emb.view(-1, W1.shape[0]) @ W1 + b1)\n",
    "        logits = h @ W2 + b2\n",
    "        counts = logits.exp()\n",
    "        prob = counts / counts.sum(1, keepdim=True)\n",
    "\n",
    "        new_char = torch.multinomial(prob, num_samples=1, replacement=True, generator=g).item()\n",
    "        if new_char == 0:\n",
    "            break\n",
    "        chars = chars[1:] + [new_char]\n",
    "        print(itos[new_char], end=\"\")\n",
    "    print(\"\")"
   ]
  },
  {
   "cell_type": "code",
   "execution_count": null,
   "id": "956db454",
   "metadata": {},
   "outputs": [],
   "source": []
  }
 ],
 "metadata": {
  "kernelspec": {
   "display_name": "Python 3 (ipykernel)",
   "language": "python",
   "name": "python3"
  },
  "language_info": {
   "codemirror_mode": {
    "name": "ipython",
    "version": 3
   },
   "file_extension": ".py",
   "mimetype": "text/x-python",
   "name": "python",
   "nbconvert_exporter": "python",
   "pygments_lexer": "ipython3",
   "version": "3.9.16"
  }
 },
 "nbformat": 4,
 "nbformat_minor": 5
}
