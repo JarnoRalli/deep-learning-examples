{
 "cells": [
  {
   "cell_type": "code",
   "execution_count": 3,
   "id": "12b35314",
   "metadata": {},
   "outputs": [],
   "source": [
    "import torch\n",
    "import numpy as np"
   ]
  },
  {
   "cell_type": "code",
   "execution_count": 7,
   "id": "50a77545",
   "metadata": {},
   "outputs": [
    {
     "name": "stdout",
     "output_type": "stream",
     "text": [
      "data, type: <class 'list'>, contents: [[1, 2], [3, 4]]\n",
      "data_tensor1, type: <class 'torch.Tensor'>, contents: tensor([[1, 2],\n",
      "        [3, 4]])\n",
      "data_tensor2, type: <class 'torch.Tensor'>, contents: tensor([[1, 2],\n",
      "        [3, 4]])\n"
     ]
    }
   ],
   "source": [
    "# Initializing tensors from lists and numpy arrays\n",
    "data = [[1, 2], [3, 4]]\n",
    "data_tensor_1 = torch.tensor(data)\n",
    "data_tensor_2 = torch.from_numpy(np.array(data))\n",
    "\n",
    "print(f'data, type: {type(data)}, contents: {data}')\n",
    "print(f'data_tensor1, type: {type(data_tensor_1)}, contents: {data_tensor_1}')\n",
    "print(f'data_tensor2, type: {type(data_tensor_2)}, contents: {data_tensor_2}')"
   ]
  },
  {
   "cell_type": "code",
   "execution_count": 8,
   "id": "db43b0cd",
   "metadata": {},
   "outputs": [
    {
     "name": "stdout",
     "output_type": "stream",
     "text": [
      "rand_tensor: tensor([[0.6300, 0.2987, 0.2905],\n",
      "        [0.4641, 0.6794, 0.2529]])\n",
      "ones_tensor: tensor([[1., 1., 1.],\n",
      "        [1., 1., 1.]])\n",
      "zeros_tensor: tensor([[0., 0., 0.],\n",
      "        [0., 0., 0.]])\n"
     ]
    }
   ],
   "source": [
    "# Creating tensors with random values, 1s and 0s\n",
    "tensor_shape = (2, 3,)\n",
    "\n",
    "rand_tensor = torch.rand(tensor_shape)\n",
    "ones_tensor = torch.ones(tensor_shape)\n",
    "zeros_tensor = torch.zeros(tensor_shape)\n",
    "\n",
    "print(f\"rand_tensor: {rand_tensor}\")\n",
    "print(f\"ones_tensor: {ones_tensor}\")\n",
    "print(f\"zeros_tensor: {zeros_tensor}\")"
   ]
  },
  {
   "cell_type": "code",
   "execution_count": 9,
   "id": "b704ae67",
   "metadata": {},
   "outputs": [
    {
     "name": "stdout",
     "output_type": "stream",
     "text": [
      "Shape of tensor: torch.Size([3, 4])\n",
      "Dataype of tensor: torch.float32\n",
      "Device tensor is stored on: cpu\n"
     ]
    }
   ],
   "source": [
    "# Tensor attributes\n",
    "tensor = torch.rand(3, 4)\n",
    "print(f\"Shape of tensor: {tensor.shape}\")\n",
    "print(f\"Dataype of tensor: {tensor.dtype}\")\n",
    "print(f\"Device tensor is stored on: {tensor.device}\")"
   ]
  },
  {
   "cell_type": "code",
   "execution_count": 10,
   "id": "7c3eb9d5",
   "metadata": {},
   "outputs": [],
   "source": [
    "# We move our tensor to the GPU if available\n",
    "if torch.cuda.is_available():\n",
    "    tensor = tensor.to(\"cuda\")"
   ]
  },
  {
   "cell_type": "code",
   "execution_count": 20,
   "id": "833e36d9",
   "metadata": {},
   "outputs": [
    {
     "name": "stdout",
     "output_type": "stream",
     "text": [
      "First row: tensor([1., 1., 1., 1.]), shape: torch.Size([4])\n",
      "First column: tensor([1., 1., 1., 1.]), shape: torch.Size([4])\n",
      "Last column: tensor([1., 1., 1., 1.])\n",
      "tensor([[1., 0., 1., 1.],\n",
      "        [1., 0., 1., 1.],\n",
      "        [1., 0., 1., 1.],\n",
      "        [1., 0., 1., 1.]])\n"
     ]
    }
   ],
   "source": [
    "# Standard numpy-like indexing and slicing\n",
    "tensor = torch.ones(4, 4)\n",
    "print(f\"First row: {tensor[0]}, shape: {tensor[0].shape}\")\n",
    "print(f\"First column: {tensor[:, 0]}, shape: {tensor[:, 0].shape}\")\n",
    "print(f\"Last column: {tensor[..., -1]}\")\n",
    "tensor[:,1] = 0\n",
    "print(tensor)"
   ]
  },
  {
   "cell_type": "code",
   "execution_count": 18,
   "id": "4afdbaa1",
   "metadata": {},
   "outputs": [
    {
     "name": "stdout",
     "output_type": "stream",
     "text": [
      "Tensor: tensor([1., 1., 1.], dtype=torch.float64)\n",
      "Tensor -> numpy: [1. 1. 1.], type: <class 'numpy.ndarray'>, dtype: float64\n"
     ]
    }
   ],
   "source": [
    "# Numpy operations\n",
    "tensor = torch.from_numpy(np.ones(3))\n",
    "print(f\"Tensor: {tensor}\")\n",
    "print(f\"Tensor -> numpy: {tensor.numpy()}, type: {type(tensor.numpy())}, dtype: {tensor.numpy().dtype}\")"
   ]
  },
  {
   "cell_type": "code",
   "execution_count": null,
   "id": "3c9a4df1",
   "metadata": {},
   "outputs": [],
   "source": []
  }
 ],
 "metadata": {
  "kernelspec": {
   "display_name": "Python 3 (ipykernel)",
   "language": "python",
   "name": "python3"
  },
  "language_info": {
   "codemirror_mode": {
    "name": "ipython",
    "version": 3
   },
   "file_extension": ".py",
   "mimetype": "text/x-python",
   "name": "python",
   "nbconvert_exporter": "python",
   "pygments_lexer": "ipython3",
   "version": "3.9.16"
  }
 },
 "nbformat": 4,
 "nbformat_minor": 5
}
