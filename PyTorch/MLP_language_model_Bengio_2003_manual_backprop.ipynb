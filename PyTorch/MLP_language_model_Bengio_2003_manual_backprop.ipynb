{
 "cells": [
  {
   "cell_type": "markdown",
   "id": "510455b0",
   "metadata": {},
   "source": [
    "# Multi Layer Perceptron NLP Model by Bengio, Manual Back-propagation\n",
    "\n",
    "This is an implementation of a character level NLP model, motivated by [Bengio et al.](https://www.jmlr.org/papers/volume3/bengio03a/bengio03a.pdf) paper, based on Andrej Karpathy's [Makemore](https://www.youtube.com/watch?v=TCH_1BHY58I&list=PLAqhIrjkxbuWI23v9cThsA9GvCAUhRvKZ&index=3) lectures.\n",
    "\n",
    "<br>\n",
    "<br>\n",
    "<figure align=\"center\">\n",
    "    <img src=\"./images/bengio_2003_neural_architecture.png\" width=\"500\">\n",
    "    <figcaption>Bengio et al.'s neural model.</figcaption>\n",
    "</figure>\n",
    "\n",
    ", where $w_t$ is the t-th word, and $w_i^j = \\left(w_i, w_{i+1}, \\ldots, w_{j-1}. w_j\\right)$ is a sequence of words from $i$ to $j$. Since in this example we will teach a neural network to generate names based on examples, instead of using words, we use characters. This version uses batch normalization in order to deal with the gradient vanishing problem.\n",
    "\n",
    "## Manual Back-propagation\n",
    "\n",
    "This version shows how the backpropagation can be done manually without using PyTorch's autograd.\n",
    "\n",
    "## Input to the Model\n",
    "\n",
    "The input to the model is a sequence of n-characters (we use 3 in the code). These characters are converted into a 2D embedding space using a look-up-table C. LUT is part of the nn model, so the weights for the LUT are learned. The rationale for using a learned embedding space is for the model to be able to generalize better, especially when it comes across input that is has not seen previously.\n",
    "\n",
    "## Output from the Model \n",
    "\n",
    "For each combination of 3 input characters, the model outputs a probability distribution for the 27 letters from the alphabet. Using the probability distribution we can sample letters.\n",
    "\n",
    "## Loss Function\n",
    "\n",
    "We need a way of measuring how well the model is doing so that the deep-learning model can learn based on the given examples. In order to do so, we need a loss function. We start by defining the likelihood function. Likelihood function is the joint probability of the observed data viewed as a function of the parameters of a statistical model (source: [Wikipedia](https://en.wikipedia.org/wiki/Likelihood_function)). In statistics, maximum likelihood estimation is a method of estimating the parameters of an assumed probability distribution, given observed data. For a set of independent and identically distributed points $X = \\{x_1, x_2,..., x_n\\}$, the likelihood is defined as follows:\n",
    "\n",
    "$$\\mathcal{L}(\\theta|x)=p(X|\\theta)=\\prod_{n=1}^{N}p(x_n|\\theta)$$\n",
    "\n",
    "$\\mathcal{L}(\\theta|x)$ is the likelihood function, $\\theta$ are the model parameters and $x$ are the observations. We want to maximize the likelihood of the data with respect to the parameters. In other words, we want to maximize the likelihood, by tweaking the parameters $\\theta$, that the model produces the observed data. Since we have many bigrams, we want to maximize the likelihood over all of them, which leads to a product over all of the probabilities. Since the probability for each individual observation is between $[0...1]$, multiplying these together leads to a small number and numerical instabilities. Therefore, we want to maximize the log-likelihood. Since $log(a \\cdot b)=log(a)+log(b)$, we get:\n",
    "\n",
    "$$log\\left(\\mathcal{L}(\\theta|x)\\right)=\\sum_{n=1}^{N}log\\left(p(x_n|\\theta)\\right)$$\n",
    "\n",
    "The way we train deep-learning networks is by minizing a loss function. Maximizing the log-likelihood is equivalent to minimizing the negative log-likelihood, and in order for the results to be comparable regardless the number of data points we are using, we normalize the negative log-likelihood by dividing it with the number of data points we have. Therefore, our loss function is:\n",
    "\n",
    "$$-\\dfrac{1}{N}\\sum_{n=1}^{N}log\\left(p(x_n|\\theta)\\right)$$"
   ]
  },
  {
   "cell_type": "code",
   "execution_count": 1,
   "id": "f455cd69",
   "metadata": {},
   "outputs": [],
   "source": [
    "import urllib.request\n",
    "import torch\n",
    "import torch.nn as nn\n",
    "from torch import functional as F\n",
    "import matplotlib.pyplot as plt\n",
    "import numpy as np\n",
    "import random"
   ]
  },
  {
   "cell_type": "code",
   "execution_count": 2,
   "id": "2f4f7549",
   "metadata": {},
   "outputs": [],
   "source": [
    "# Url to the file containing over 30k names\n",
    "url_source = \"https://raw.githubusercontent.com/karpathy/makemore/master/names.txt\"\n",
    "\n",
    "text = str('')\n",
    "\n",
    "# Read to a variable, line by line\n",
    "for line in urllib.request.urlopen(url_source):\n",
    "    text += line.decode('utf-8')"
   ]
  },
  {
   "cell_type": "code",
   "execution_count": 3,
   "id": "ac1a8121",
   "metadata": {},
   "outputs": [
    {
     "name": "stdout",
     "output_type": "stream",
     "text": [
      "['emma', 'olivia', 'ava', 'isabella', 'sophia', 'charlotte', 'mia', 'amelia', 'harper', 'evelyn']\n"
     ]
    }
   ],
   "source": [
    "# Split the file to lines and show the first 10 lines\n",
    "words = text.splitlines()\n",
    "print(words[:10])"
   ]
  },
  {
   "cell_type": "code",
   "execution_count": 4,
   "id": "b1aa67e5",
   "metadata": {},
   "outputs": [
    {
     "name": "stdout",
     "output_type": "stream",
     "text": [
      "stoi={'a': 1, 'b': 2, 'c': 3, 'd': 4, 'e': 5, 'f': 6, 'g': 7, 'h': 8, 'i': 9, 'j': 10, 'k': 11, 'l': 12, 'm': 13, 'n': 14, 'o': 15, 'p': 16, 'q': 17, 'r': 18, 's': 19, 't': 20, 'u': 21, 'v': 22, 'w': 23, 'x': 24, 'y': 25, 'z': 26, '.': 0}\n",
      "itos={1: 'a', 2: 'b', 3: 'c', 4: 'd', 5: 'e', 6: 'f', 7: 'g', 8: 'h', 9: 'i', 10: 'j', 11: 'k', 12: 'l', 13: 'm', 14: 'n', 15: 'o', 16: 'p', 17: 'q', 18: 'r', 19: 's', 20: 't', 21: 'u', 22: 'v', 23: 'w', 24: 'x', 25: 'y', 26: 'z', 0: '.'}\n"
     ]
    }
   ],
   "source": [
    "# Create the dictionaries to map characters to integers and vice versa\n",
    "chars = sorted(list(set(''.join(words))))\n",
    "stoi = {s:i+1 for i, s in enumerate(chars)}\n",
    "stoi['.'] = 0\n",
    "itos = {i:s for s, i in stoi.items()}\n",
    "print(f\"{stoi=}\")\n",
    "print(f\"{itos=}\")"
   ]
  },
  {
   "cell_type": "markdown",
   "id": "9218f9b0",
   "metadata": {},
   "source": [
    "## Training the Model"
   ]
  },
  {
   "cell_type": "code",
   "execution_count": 5,
   "id": "2a3dad53",
   "metadata": {},
   "outputs": [],
   "source": [
    "block_size = 3 # how many characters we use in order to predict the next one\n",
    "\n",
    "def build_dataset(words_in, block_size_in=3):\n",
    "    \n",
    "    X, Y = [], []\n",
    "\n",
    "    for w in words_in:\n",
    "        # This creates a list, filled with zeros:, that has the length defined by the variable block_size\n",
    "        context = [0] * block_size_in\n",
    "        for ch in w + '.':\n",
    "            ix = stoi[ch]\n",
    "            X.append(context)\n",
    "            Y.append(ix)\n",
    "            context = context[1:] + [ix]\n",
    "\n",
    "    X = torch.tensor(X)\n",
    "    Y = torch.tensor(Y)\n",
    "    return X, Y\n",
    "\n",
    "random.seed(42)\n",
    "random.shuffle(words)\n",
    "n1 = int(0.8*len(words))\n",
    "n2 = int(0.9*len(words))\n",
    "\n",
    "Xtr, Ytr = build_dataset(words[:n1], block_size)\n",
    "Xval, Yval = build_dataset(words[n1:n2], block_size)\n",
    "Xte, Yte = build_dataset(words[n2:], block_size)"
   ]
  },
  {
   "cell_type": "code",
   "execution_count": 6,
   "id": "bb93a90c",
   "metadata": {},
   "outputs": [],
   "source": [
    "def cmp(s, dt, t):\n",
    "    ex = torch.all(dt == t.grad).item()\n",
    "    app = torch.allclose(dt, t.grad)\n",
    "    maxdiff = (dt - t.grad).abs().max().item()\n",
    "    print(f\"{s:15s} | exact: {str(ex):5s} | approximate: {str(app):5s} | maxdiff: {maxdiff}\")"
   ]
  },
  {
   "cell_type": "code",
   "execution_count": 7,
   "id": "c37cb5c9",
   "metadata": {},
   "outputs": [],
   "source": [
    "embedding_size = 10\n",
    "hidden_layer_size = 64\n",
    "\n",
    "# As a good starting point, we would like the probability distribution to be roughly 1/27. This simply means\n",
    "# that each character has the same likelihood of being sampled.\n",
    "\n",
    "# We use Kaiming-normal for initialisation (https://pytorch.org/docs/stable/nn.init.html)\n",
    "# Gain for tanh is 5/3 (https://pytorch.org/docs/stable/nn.init.html)\n",
    "\n",
    "def kaiming(fan_in):\n",
    "    return (5/3) / (fan_in**0.5)\n",
    "\n",
    "g = torch.Generator().manual_seed(2147483647)\n",
    "C = torch.randn((27, embedding_size), generator=g)\n",
    "# Layer 1\n",
    "W1 = torch.randn((embedding_size*block_size, hidden_layer_size), generator=g) * kaiming(embedding_size*block_size)\n",
    "b1 = torch.randn(hidden_layer_size, generator=g) * 0.1\n",
    "# Layer 2\n",
    "W2 = torch.randn((hidden_layer_size, 27), generator=g) * 0.1\n",
    "b2 = torch.randn(27, generator=g) * 0.1\n",
    "# Batch normalization\n",
    "bngain = torch.randn((1, hidden_layer_size))*0.1 + 1.0\n",
    "bnbias = torch.randn((1, hidden_layer_size))*0.1\n",
    "\n",
    "parameters = [C, W1, b1, W2, b2, bngain, bnbias]\n",
    "\n",
    "for p in parameters:\n",
    "    p.requires_grad = True"
   ]
  },
  {
   "cell_type": "code",
   "execution_count": 8,
   "id": "93b2cb07",
   "metadata": {},
   "outputs": [],
   "source": [
    "losses = np.array([])\n",
    "batch_size = 32\n",
    "n = batch_size\n",
    "\n",
    "# Create a minibatch\n",
    "ix = torch.randint(0, Xtr.shape[0], (batch_size,), generator=g)\n",
    "Xb, Yb = Xtr[ix], Ytr[ix]"
   ]
  },
  {
   "cell_type": "code",
   "execution_count": 9,
   "id": "55380898",
   "metadata": {},
   "outputs": [],
   "source": [
    "#--- FORWARD PASS ---\n",
    "emb = C[Xb]\n",
    "embcat = emb.view(-1, W1.shape[0])\n",
    "\n",
    "# Linear layer\n",
    "z_pre_n = embcat @ W1 + b1\n",
    "\n",
    "# Batch normalization layer\n",
    "#---------------------------------------------------------------------------\n",
    "bnmean = 1/n * z_pre_n.sum(0, keepdim=True)\n",
    "bndiff = z_pre_n - bnmean\n",
    "bndiff2 = bndiff**2\n",
    "bnvar = 1/(n-1)*(bndiff).sum(0, keepdim=True)\n",
    "bnvar_inv = (bnvar + 1e-5)**-0.5\n",
    "bnraw = bndiff * bnvar_inv\n",
    "z_pre_act = bngain*bnraw + bnbias\n",
    "#---------------------------------------------------------------------------\n",
    "\n",
    "# Non-linearity/activation\n",
    "a1 = torch.tanh(z_pre_act) # hidden layer\n",
    "logits = a1 @ W2 + b2 # output layer\n",
    "\n",
    "# Cross entropy loss\n",
    "logit_maxes = logits.max(1, keepdim=True).values\n",
    "norm_logits = logits - logit_maxes # subtract max for numerical stability\n",
    "counts = norm_logits.exp()\n",
    "counts_sum = counts.sum(1, keepdims=True)\n",
    "counts_sum_inv = counts_sum**-1\n",
    "probs = counts * counts_sum_inv\n",
    "logprobs = probs.log()\n",
    "loss = -logprobs[range(n), Yb].mean()\n",
    "\n",
    "#--- BACKWARD PASS ---\n",
    "# Reset the gradients\n",
    "for p in parameters:\n",
    "    p.grad = None\n",
    "for t in [logprobs, probs, counts, counts_sum, counts_sum_inv,\n",
    "          norm_logits, logit_maxes, logits, a1, z_pre_act, bnraw,\n",
    "          bnvar_inv, bnvar, bndiff2, bndiff, z_pre_n, bnmean,\n",
    "          embcat, emb]:\n",
    "    t.retain_grad()\n",
    "loss.backward()"
   ]
  },
  {
   "cell_type": "code",
   "execution_count": 10,
   "id": "11b7949a",
   "metadata": {},
   "outputs": [
    {
     "data": {
      "text/plain": [
       "(torch.Size([32, 27]), torch.Size([32]))"
      ]
     },
     "execution_count": 10,
     "metadata": {},
     "output_type": "execute_result"
    }
   ],
   "source": [
    "logprobs.shape, Yb.shape"
   ]
  },
  {
   "cell_type": "code",
   "execution_count": 18,
   "id": "01a87482",
   "metadata": {},
   "outputs": [
    {
     "name": "stdout",
     "output_type": "stream",
     "text": [
      "logprobs        | exact: True  | approximate: True  | maxdiff: 0.0\n",
      "dprobs          | exact: True  | approximate: True  | maxdiff: 0.0\n",
      "counts_sum_inv  | exact: True  | approximate: True  | maxdiff: 0.0\n",
      "counts_sum      | exact: True  | approximate: True  | maxdiff: 0.0\n",
      "counts          | exact: True  | approximate: True  | maxdiff: 0.0\n",
      "dnorm_logits    | exact: True  | approximate: True  | maxdiff: 0.0\n"
     ]
    }
   ],
   "source": [
    "# Exercise 1: backprob through the whole thing manually\n",
    "# backpropagating through exactly all of the variables\n",
    "# as they are defined in the forward pass above, one by one\n",
    "\n",
    "# 1. dloss/dlogprobs, where loss = -logprobs[range(n), Yb].mean()\n",
    "# dlogprobs will hold the derivative of the loss with respect to all the elements in the logprobs tensor.\n",
    "# Suppose we have the following:\n",
    "# loss = -1/3*(a + b + c), then\n",
    "# dloss/da = -1/3\n",
    "# dloss/db = -1/3\n",
    "#, so in more general case where we have:\n",
    "# loss = -1/n*sum[i=1..n]f_i\n",
    "# dloss/df_i = -1/n\n",
    "dlogprobs = torch.zeros_like(logprobs)\n",
    "dlogprobs[range(n), Yb] = -1/n\n",
    "\n",
    "# 2. dloss/dprobs\n",
    "# dprobs will hold the derivative of the dlogprobs with respect to all the elements in the probs tensor\n",
    "# Chain rule: h(x) = f(g(x)), then h'(x) = f'(g(x))g'(x)\n",
    "# f'(g(x)) = dlogprobs\n",
    "# g'(x) = (1.0/probs)\n",
    "dprobs = dlogprobs * (1.0/probs)\n",
    "\n",
    "# 3. dloss/dcounts_sum_inv\n",
    "# probs = counts * counts_sum_inv, where counts_sum_inv gets 'replicated' to the correct shape\n",
    "dcounts_sum_inv = (counts * dprobs).sum(1, keepdim=True)\n",
    "# dprobs/dcounts\n",
    "dcounts = counts_sum_inv * dprobs\n",
    "\n",
    "# 4. dloss/dcounts_sum\n",
    "dcounts_sum = -1 * counts_sum**-2 * dcounts_sum_inv\n",
    "\n",
    "# 5. dcounts\n",
    "# This is the second branch of the dcounts, first is from dprobs/dcounts\n",
    "# This is a summation:\n",
    "# a11 a12 a13  --->  b1 (= a11 + a12 + a13)\n",
    "# a21 a22 a23  --->  b2 (= a21 + a22 + a23)\n",
    "# a31 a32 a33  --->  b3 (= a31 + a32 + a33)\n",
    "#, how to b:s depend on a:s?\n",
    "#          1 1 1\n",
    "# dA/db1 = 0 0 0\n",
    "#          0 0 0\n",
    "#\n",
    "dcounts += torch.ones_like(counts) * dcounts_sum\n",
    "\n",
    "# 6. dnorm_logits\n",
    "dnorm_logits = counts * dcounts\n",
    "\n",
    "# ...rest is still missing...\n",
    "\n",
    "cmp('logprobs', dlogprobs, logprobs)\n",
    "cmp('dprobs', dprobs, probs)\n",
    "cmp('counts_sum_inv', dcounts_sum_inv, counts_sum_inv)\n",
    "cmp('counts_sum', dcounts_sum, counts_sum)\n",
    "cmp('counts', dcounts, counts)\n",
    "cmp('dnorm_logits', dnorm_logits, norm_logits)"
   ]
  },
  {
   "cell_type": "code",
   "execution_count": null,
   "id": "956db454",
   "metadata": {},
   "outputs": [],
   "source": []
  }
 ],
 "metadata": {
  "kernelspec": {
   "display_name": "Python 3 (ipykernel)",
   "language": "python",
   "name": "python3"
  },
  "language_info": {
   "codemirror_mode": {
    "name": "ipython",
    "version": 3
   },
   "file_extension": ".py",
   "mimetype": "text/x-python",
   "name": "python",
   "nbconvert_exporter": "python",
   "pygments_lexer": "ipython3",
   "version": "3.9.16"
  }
 },
 "nbformat": 4,
 "nbformat_minor": 5
}
