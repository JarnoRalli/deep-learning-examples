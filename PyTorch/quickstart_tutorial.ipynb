{
 "cells": [
  {
   "cell_type": "markdown",
   "id": "c7e2844b",
   "metadata": {},
   "source": [
    "# PyTorch Getting Started Tutorial\n",
    "\n",
    "This tutorial from [PyTorch](https://pytorch.org/tutorials/beginner/basics/quickstart_tutorial.html) shows basic functionality of PyTorch related to data loaders, NN-models and training of NN-models. The tutorial shows how to use following concepts:\n",
    "\n",
    "* model.train()\n",
    "  * train() tells the model that it is in training mode\n",
    "* model.eval()\n",
    "  * eval() tells the model that it is in inference mode\n",
    "* torch.no_grad()"
   ]
  },
  {
   "cell_type": "code",
   "execution_count": 1,
   "id": "eeda330b",
   "metadata": {},
   "outputs": [],
   "source": [
    "import torch\n",
    "from torch import nn\n",
    "from torch.utils.data import DataLoader\n",
    "from torchvision import datasets\n",
    "from torchvision.transforms import ToTensor\n",
    "\n",
    "import matplotlib.pyplot as plt\n",
    "import itertools"
   ]
  },
  {
   "cell_type": "code",
   "execution_count": 2,
   "id": "e2ae3655",
   "metadata": {},
   "outputs": [],
   "source": [
    "# Domainspecific libraries TorchText, TorchVision and TorchAudio include datasets.\n",
    "\n",
    "# Download training data from opendatasets\n",
    "training_data = datasets.FashionMNIST(\n",
    "    root = \"data\",\n",
    "    train = True,\n",
    "    download = True,\n",
    "    transform = ToTensor()\n",
    ")\n",
    "\n",
    "test_data = datasets.FashionMNIST(\n",
    "    root = \"data\",\n",
    "    train = False,\n",
    "    download = True,\n",
    "    transform = ToTensor()\n",
    ")"
   ]
  },
  {
   "cell_type": "code",
   "execution_count": 3,
   "id": "0902b273",
   "metadata": {},
   "outputs": [
    {
     "name": "stdout",
     "output_type": "stream",
     "text": [
      "Shape of X [N, C, H, W]: torch.Size([64, 1, 28, 28])\n",
      "Shape of y: torch.Size([64]) torch.int64\n"
     ]
    }
   ],
   "source": [
    "BATCH_SIZE = 64\n",
    "\n",
    "train_dataloader = DataLoader(training_data, batch_size = BATCH_SIZE)\n",
    "test_dataloader = DataLoader(test_data, batch_size = BATCH_SIZE)\n",
    "\n",
    "for X, y in test_dataloader:\n",
    "    print(f\"Shape of X [N, C, H, W]: {X.shape}\")\n",
    "    print(f\"Shape of y: {y.shape} {y.dtype}\")\n",
    "    break"
   ]
  },
  {
   "cell_type": "code",
   "execution_count": 4,
   "id": "92daf4ad",
   "metadata": {},
   "outputs": [
    {
     "name": "stdout",
     "output_type": "stream",
     "text": [
      "Device: cuda\n",
      "NeuralNetwork(\n",
      "  (flatten): Flatten(start_dim=1, end_dim=-1)\n",
      "  (linear_relu_stack): Sequential(\n",
      "    (0): Linear(in_features=784, out_features=512, bias=True)\n",
      "    (1): ReLU()\n",
      "    (2): Linear(in_features=512, out_features=512, bias=True)\n",
      "    (3): ReLU()\n",
      "    (4): Linear(in_features=512, out_features=10, bias=True)\n",
      "  )\n",
      ")\n"
     ]
    }
   ],
   "source": [
    "# Set device to \"cuda\" is available, otherwise \"mps\" and fallback on \"cpu\" is nothing else is available\n",
    "# cuda -> cuda\n",
    "# mps -> Metal Performance Shaders on GPU for MacOS devices with Metal programming framework\n",
    "# cpu -> cpu\n",
    "device = \"cuda\" if torch.cuda.is_available() else \"mps\" if torch.backends.mps.is_available() else \"cpu\"\n",
    "\n",
    "print(f\"Device: {device}\")\n",
    "\n",
    "# Define the model\n",
    "class NeuralNetwork(nn.Module):\n",
    "    def __init__(self):\n",
    "        super().__init__()\n",
    "        self.flatten = nn.Flatten()\n",
    "        self.linear_relu_stack = nn.Sequential(\n",
    "            nn.Linear(28*28, 512),\n",
    "            nn.ReLU(),\n",
    "            nn.Linear(512, 512),\n",
    "            nn.ReLU(),\n",
    "            nn.Linear(512, 10)\n",
    "        )\n",
    "        \n",
    "    def forward(self, x):\n",
    "        x = self.flatten(x)\n",
    "        logits = self.linear_relu_stack(x)\n",
    "        return logits\n",
    "\n",
    "model = NeuralNetwork().to(device)\n",
    "print(model)"
   ]
  },
  {
   "cell_type": "code",
   "execution_count": 5,
   "id": "1f6a131e",
   "metadata": {},
   "outputs": [],
   "source": [
    "# Optimizing the parameters\n",
    "loss_fn = nn.CrossEntropyLoss()\n",
    "optimizer = torch.optim.SGD(model.parameters(), lr=1e-3)\n",
    "\n",
    "# Training function\n",
    "def train(dataloader, model, loss_fn, optimizer):\n",
    "    size = len(dataloader.dataset)\n",
    "    \n",
    "    # The train()-function tells the model that we are training the model. This informs\n",
    "    # layers such as Dropout and Batchnorm, which are designed to behave differently during\n",
    "    # training and evaluation.\n",
    "    model.train()\n",
    "    \n",
    "    for batch, (X, y) in enumerate(dataloader):\n",
    "        X, y = X.to(device), y.to(device)\n",
    "        \n",
    "        # Compute prediction error\n",
    "        pred = model(X)\n",
    "        loss = loss_fn(pred, y)\n",
    "        \n",
    "        # Backpropagation\n",
    "        optimizer.zero_grad()\n",
    "        loss.backward()\n",
    "        optimizer.step()\n",
    "        \n",
    "        if batch % 100 == 0:\n",
    "            loss, current = loss.item(), (batch + 1) * len(X)\n",
    "            print(f\"loss: {loss:>7f} [{current:>5d}/{size:>5d}]\")\n",
    "\n",
    "# Testing function\n",
    "def test(dataloader, model, loss_fn):\n",
    "    size = len(dataloader.dataset)\n",
    "    num_batches = len(dataloader)\n",
    "    \n",
    "    # The eval()-function tells the model that it is being used for inference.\n",
    "    model.eval()\n",
    "    test_loss, correct = 0, 0\n",
    "    \n",
    "    with torch.no_grad():\n",
    "        for X, y in dataloader:\n",
    "            X, y = X.to(device), y.to(device)\n",
    "            pred = model(X)\n",
    "            test_loss += loss_fn(pred, y).item()\n",
    "            correct += (pred.argmax(1) == y).type(torch.float).sum().item()\n",
    "    test_loss /= num_batches\n",
    "    correct /= size\n",
    "    print(f\"Test error: \\n Accuracy: {(100*correct):>0.1f}%, avg loss:: {test_loss:>8f}\\n\")"
   ]
  },
  {
   "cell_type": "code",
   "execution_count": 6,
   "id": "5b9b13ac",
   "metadata": {},
   "outputs": [
    {
     "name": "stdout",
     "output_type": "stream",
     "text": [
      "Epoch 1\n",
      "\n",
      "loss: 2.306638 [   64/60000]\n",
      "loss: 2.286437 [ 6464/60000]\n",
      "loss: 2.264489 [12864/60000]\n",
      "loss: 2.256693 [19264/60000]\n",
      "loss: 2.244888 [25664/60000]\n",
      "loss: 2.218241 [32064/60000]\n",
      "loss: 2.223208 [38464/60000]\n",
      "loss: 2.183665 [44864/60000]\n",
      "loss: 2.177569 [51264/60000]\n",
      "loss: 2.154699 [57664/60000]\n",
      "Test error: \n",
      " Accuracy: 45.6%, avg loss:: 2.137855\n",
      "\n",
      "Epoch 2\n",
      "\n",
      "loss: 2.145057 [   64/60000]\n",
      "loss: 2.130251 [ 6464/60000]\n",
      "loss: 2.061409 [12864/60000]\n",
      "loss: 2.082825 [19264/60000]\n",
      "loss: 2.030161 [25664/60000]\n",
      "loss: 1.967131 [32064/60000]\n",
      "loss: 1.997380 [38464/60000]\n",
      "loss: 1.903086 [44864/60000]\n",
      "loss: 1.906753 [51264/60000]\n",
      "loss: 1.844940 [57664/60000]\n",
      "Test error: \n",
      " Accuracy: 58.9%, avg loss:: 1.833279\n",
      "\n",
      "Epoch 3\n",
      "\n",
      "loss: 1.863599 [   64/60000]\n",
      "loss: 1.830390 [ 6464/60000]\n",
      "loss: 1.702945 [12864/60000]\n",
      "loss: 1.753121 [19264/60000]\n",
      "loss: 1.639766 [25664/60000]\n",
      "loss: 1.603336 [32064/60000]\n",
      "loss: 1.623403 [38464/60000]\n",
      "loss: 1.524527 [44864/60000]\n",
      "loss: 1.552864 [51264/60000]\n",
      "loss: 1.456600 [57664/60000]\n",
      "Test error: \n",
      " Accuracy: 61.2%, avg loss:: 1.470327\n",
      "\n",
      "Epoch 4\n",
      "\n",
      "loss: 1.534205 [   64/60000]\n",
      "loss: 1.500861 [ 6464/60000]\n",
      "loss: 1.351869 [12864/60000]\n",
      "loss: 1.429534 [19264/60000]\n",
      "loss: 1.314311 [25664/60000]\n",
      "loss: 1.317427 [32064/60000]\n",
      "loss: 1.328292 [38464/60000]\n",
      "loss: 1.257721 [44864/60000]\n",
      "loss: 1.297365 [51264/60000]\n",
      "loss: 1.204425 [57664/60000]\n",
      "Test error: \n",
      " Accuracy: 63.2%, avg loss:: 1.224232\n",
      "\n",
      "Epoch 5\n",
      "\n",
      "loss: 1.294591 [   64/60000]\n",
      "loss: 1.277571 [ 6464/60000]\n",
      "loss: 1.113683 [12864/60000]\n",
      "loss: 1.223343 [19264/60000]\n",
      "loss: 1.103581 [25664/60000]\n",
      "loss: 1.127625 [32064/60000]\n",
      "loss: 1.145957 [38464/60000]\n",
      "loss: 1.088894 [44864/60000]\n",
      "loss: 1.133537 [51264/60000]\n",
      "loss: 1.054424 [57664/60000]\n",
      "Test error: \n",
      " Accuracy: 64.8%, avg loss:: 1.068585\n",
      "\n"
     ]
    }
   ],
   "source": [
    "# Train for 5 epochs\n",
    "EPOCHS = 5\n",
    "\n",
    "for t in range(EPOCHS):\n",
    "    print(f\"Epoch {t+1}\\n\")\n",
    "    train(train_dataloader, model, loss_fn, optimizer)\n",
    "    test(test_dataloader, model, loss_fn)"
   ]
  },
  {
   "cell_type": "code",
   "execution_count": 7,
   "id": "c844669a",
   "metadata": {},
   "outputs": [
    {
     "data": {
      "image/png": "[encoded data removed]",
      "text/plain": [
       "<Figure size 640x480 with 1 Axes>"
      ]
     },
     "metadata": {},
     "output_type": "display_data"
    },
    {
     "data": {
      "image/png": "[encoded data removed]",
      "text/plain": [
       "<Figure size 640x480 with 1 Axes>"
      ]
     },
     "metadata": {},
     "output_type": "display_data"
    }
   ],
   "source": [
    "classes = [\n",
    "    \"T-shirt/top\",\n",
    "    \"Trouser\",\n",
    "    \"Pullover\",\n",
    "    \"Dress\",\n",
    "    \"Coat\",\n",
    "    \"Sandal\",\n",
    "    \"Shirt\",\n",
    "    \"Sneaker\",\n",
    "    \"Bag\",\n",
    "    \"Ankle boot\",\n",
    "]\n",
    "\n",
    "# Iterate over 2 samples from the test data and show prediction results.\n",
    "# no_grad(): disabling gradient calculation is useful for inference as it reduces memory consumption\n",
    "model.eval()\n",
    "with torch.no_grad():\n",
    "    for image, label in itertools.islice(test_data, 2):\n",
    "        class_gt = label\n",
    "\n",
    "        # Returns a new tensor, in numpy-format, from the graph\n",
    "        # detach() -> returns a tensor, detached from the graph\n",
    "        # cpu() -> returns a copy of the tensor in CPU memory\n",
    "        # numpy() -> converts tensor to numpy\n",
    "        # argmax() -> returns index to the maximum value\n",
    "        class_pred = model(image.to(device)).detach().cpu().numpy().argmax()\n",
    "\n",
    "        plt.imshow(image.squeeze(), cmap=\"gray\")\n",
    "        plt.title(f\"Predicted class: {classes[class_pred]}, true class: {classes[class_gt]}\")\n",
    "        plt.show()"
   ]
  },
  {
   "cell_type": "code",
   "execution_count": null,
   "id": "94515637",
   "metadata": {},
   "outputs": [],
   "source": []
  }
 ],
 "metadata": {
  "kernelspec": {
   "display_name": "Python 3 (ipykernel)",
   "language": "python",
   "name": "python3"
  },
  "language_info": {
   "codemirror_mode": {
    "name": "ipython",
    "version": 3
   },
   "file_extension": ".py",
   "mimetype": "text/x-python",
   "name": "python",
   "nbconvert_exporter": "python",
   "pygments_lexer": "ipython3",
   "version": "3.9.16"
  }
 },
 "nbformat": 4,
 "nbformat_minor": 5
}
