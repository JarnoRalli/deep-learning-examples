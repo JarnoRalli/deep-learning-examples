{
 "cells": [
  {
   "cell_type": "markdown",
   "id": "2bb3dda5",
   "metadata": {},
   "source": [
    "# Statistical Testing 1\n",
    "\n",
    "**Population**, in this context, refers to the **complete** set of the target population, whereas a **sample** refers to a randomly selected sub-set from the population. As it can be understood, the sample may or may not representative of the population with respect to certain characteristcs.\n",
    "\n",
    "Following **parameters** represent the population:\n",
    "\n",
    "* $\\mu$ population mean\n",
    "* $\\sigma^2$ population variance\n",
    "* $\\sigma$ population standard deviation\n",
    "\n",
    "Following **statistics** represent the sample:\n",
    "\n",
    "* $\\bar{x}$ sample mean\n",
    "* $s^2$ sample variance\n",
    "* $s$ sample standard deviation\n",
    "\n",
    "Standard Error (SE) is the the variance of the sample mean $\\bar{x}$: \n",
    "\n",
    "$$\\sigma_{\\bar{x}}^2 = \\dfrac{\\sigma^2}{n} \\rightarrow \\sigma_{\\bar{x}} = \\dfrac{\\sigma}{\\sqrt{n}}$$\n",
    "\n",
    "As it can be understood, when we are approximating the sample mean $\\bar{x}$, the larger our sample size $n$ is, the better our estimate is. Or in other words, as the number of samples used for calculating the sample mean increases, the smaller $\\sigma_{\\bar{x}}^2$ gets.\n",
    "\n",
    "\n",
    "## Hypothesis Testing\n",
    "\n",
    "> The null hypothesis and the alternative hypothesis are types of conjectures used in statistical tests, which are formal methods of reaching conclusions or making decisions on the basis of data. The hypotheses are conjectures about a statistical model of the population, which are based on a sample of the population.\n",
    "\n",
    "Source [Wikipedia](https://en.wikipedia.org/wiki/Null_hypothesis)\n",
    "\n",
    "In other words, hypothesis testing evaluates two mutually exclusive statements about a population.\n",
    "\n",
    "* **Null Hypothesis**, $H_0$\n",
    "  * Null hypothesis, $H_0$, is a statement saying that no difference or relationship exists between two sets of data or variables being analyzed. The null hypothesis claims that any experimentally observed difference is due to chance alone, and an underlying causative relationship does not exist.\n",
    "* **Alternate Hypothesis**, $H_a$\n",
    "  * Alternate hypothesis, $H_a$, the statement that is being tested against the null hypothesis, claims that a relationship does exist between two variables.\n",
    "\n",
    "Critical region in the region of values that corresponds to the rejection of the null hypothesis at some chosen probability level. The critical region is marked using red color in the following figure.\n",
    "\n",
    "![Hypothesis testing](resources/hypothesis_testing.png)\n",
    "Source [towardsdatascience.com](https://towardsdatascience.com/everything-you-need-to-know-about-hypothesis-testing-part-i-4de9abebbc8a)\n",
    "\n",
    "## P-Value\n",
    "\n",
    "The $p$-value is used to determine statistical significance of a hypothesis test. The $p$-value evaluates how well the sample data supports the argument that the null hypothesis is true.\n",
    "\n",
    "> In null-hypothesis significance testing, the $p$-value is the probability of obtaining a test result as extreme as the result actually observed, under the assumption that the null hypothesis is correct. A very small $p$-value means that such an extreme observed outcome would be very unlikely under the null hypothesis.\n",
    "\n",
    "> The lower the p-value is, the lower the probability of getting that result if the null hypothesis were true.\n",
    "\n",
    "Source [Wikipedia](https://en.wikipedia.org/wiki/P-value)"
   ]
  },
  {
   "cell_type": "code",
   "execution_count": 1,
   "id": "83449a3f",
   "metadata": {},
   "outputs": [],
   "source": [
    "from scipy.stats import jarque_bera, normaltest, norm, probplot, kstest, t, ttest_1samp\n",
    "import opendatasets as od\n",
    "import pandas as pd\n",
    "import numpy as np\n",
    "import matplotlib.pyplot as plt"
   ]
  },
  {
   "cell_type": "code",
   "execution_count": 2,
   "id": "32fb27af",
   "metadata": {},
   "outputs": [
    {
     "name": "stdout",
     "output_type": "stream",
     "text": [
      "Skipping, found downloaded files in \"./sandp500\" (use force=True to force download)\n"
     ]
    },
    {
     "data": {
      "text/html": [
       "<div>\n",
       "<style scoped>\n",
       "    .dataframe tbody tr th:only-of-type {\n",
       "        vertical-align: middle;\n",
       "    }\n",
       "\n",
       "    .dataframe tbody tr th {\n",
       "        vertical-align: top;\n",
       "    }\n",
       "\n",
       "    .dataframe thead th {\n",
       "        text-align: right;\n",
       "    }\n",
       "</style>\n",
       "<table border=\"1\" class=\"dataframe\">\n",
       "  <thead>\n",
       "    <tr style=\"text-align: right;\">\n",
       "      <th></th>\n",
       "      <th>date</th>\n",
       "      <th>open</th>\n",
       "      <th>high</th>\n",
       "      <th>low</th>\n",
       "      <th>close</th>\n",
       "      <th>volume</th>\n",
       "      <th>Name</th>\n",
       "    </tr>\n",
       "  </thead>\n",
       "  <tbody>\n",
       "    <tr>\n",
       "      <th>0</th>\n",
       "      <td>2013-02-08</td>\n",
       "      <td>15.07</td>\n",
       "      <td>15.12</td>\n",
       "      <td>14.63</td>\n",
       "      <td>14.75</td>\n",
       "      <td>8407500</td>\n",
       "      <td>AAL</td>\n",
       "    </tr>\n",
       "    <tr>\n",
       "      <th>1</th>\n",
       "      <td>2013-02-11</td>\n",
       "      <td>14.89</td>\n",
       "      <td>15.01</td>\n",
       "      <td>14.26</td>\n",
       "      <td>14.46</td>\n",
       "      <td>8882000</td>\n",
       "      <td>AAL</td>\n",
       "    </tr>\n",
       "    <tr>\n",
       "      <th>2</th>\n",
       "      <td>2013-02-12</td>\n",
       "      <td>14.45</td>\n",
       "      <td>14.51</td>\n",
       "      <td>14.10</td>\n",
       "      <td>14.27</td>\n",
       "      <td>8126000</td>\n",
       "      <td>AAL</td>\n",
       "    </tr>\n",
       "    <tr>\n",
       "      <th>3</th>\n",
       "      <td>2013-02-13</td>\n",
       "      <td>14.30</td>\n",
       "      <td>14.94</td>\n",
       "      <td>14.25</td>\n",
       "      <td>14.66</td>\n",
       "      <td>10259500</td>\n",
       "      <td>AAL</td>\n",
       "    </tr>\n",
       "    <tr>\n",
       "      <th>4</th>\n",
       "      <td>2013-02-14</td>\n",
       "      <td>14.94</td>\n",
       "      <td>14.96</td>\n",
       "      <td>13.16</td>\n",
       "      <td>13.99</td>\n",
       "      <td>31879900</td>\n",
       "      <td>AAL</td>\n",
       "    </tr>\n",
       "  </tbody>\n",
       "</table>\n",
       "</div>"
      ],
      "text/plain": [
       "         date   open   high    low  close    volume Name\n",
       "0  2013-02-08  15.07  15.12  14.63  14.75   8407500  AAL\n",
       "1  2013-02-11  14.89  15.01  14.26  14.46   8882000  AAL\n",
       "2  2013-02-12  14.45  14.51  14.10  14.27   8126000  AAL\n",
       "3  2013-02-13  14.30  14.94  14.25  14.66  10259500  AAL\n",
       "4  2013-02-14  14.94  14.96  13.16  13.99  31879900  AAL"
      ]
     },
     "execution_count": 2,
     "metadata": {},
     "output_type": "execute_result"
    }
   ],
   "source": [
    "# Download the S&P500 data from Kaggle\n",
    "od.download(\"https://www.kaggle.com/datasets/camnugent/sandp500/download?datasetVersionNumber=4\")\n",
    "data = pd.read_csv('./sandp500/all_stocks_5yr.csv', parse_dates=True)\n",
    "data.head()"
   ]
  },
  {
   "cell_type": "code",
   "execution_count": 3,
   "id": "049eba28",
   "metadata": {},
   "outputs": [
    {
     "data": {
      "text/html": [
       "<div>\n",
       "<style scoped>\n",
       "    .dataframe tbody tr th:only-of-type {\n",
       "        vertical-align: middle;\n",
       "    }\n",
       "\n",
       "    .dataframe tbody tr th {\n",
       "        vertical-align: top;\n",
       "    }\n",
       "\n",
       "    .dataframe thead th {\n",
       "        text-align: right;\n",
       "    }\n",
       "</style>\n",
       "<table border=\"1\" class=\"dataframe\">\n",
       "  <thead>\n",
       "    <tr style=\"text-align: right;\">\n",
       "      <th></th>\n",
       "      <th>date</th>\n",
       "      <th>open</th>\n",
       "      <th>high</th>\n",
       "      <th>low</th>\n",
       "      <th>close</th>\n",
       "      <th>volume</th>\n",
       "      <th>Name</th>\n",
       "      <th>return</th>\n",
       "      <th>log return</th>\n",
       "    </tr>\n",
       "  </thead>\n",
       "  <tbody>\n",
       "    <tr>\n",
       "      <th>498152</th>\n",
       "      <td>2013-02-08</td>\n",
       "      <td>27.920</td>\n",
       "      <td>28.325</td>\n",
       "      <td>27.920</td>\n",
       "      <td>28.185</td>\n",
       "      <td>7146296</td>\n",
       "      <td>SBUX</td>\n",
       "      <td>NaN</td>\n",
       "      <td>NaN</td>\n",
       "    </tr>\n",
       "    <tr>\n",
       "      <th>498153</th>\n",
       "      <td>2013-02-11</td>\n",
       "      <td>28.260</td>\n",
       "      <td>28.260</td>\n",
       "      <td>27.930</td>\n",
       "      <td>28.070</td>\n",
       "      <td>5457354</td>\n",
       "      <td>SBUX</td>\n",
       "      <td>-0.004080</td>\n",
       "      <td>-0.004089</td>\n",
       "    </tr>\n",
       "    <tr>\n",
       "      <th>498154</th>\n",
       "      <td>2013-02-12</td>\n",
       "      <td>28.000</td>\n",
       "      <td>28.275</td>\n",
       "      <td>27.975</td>\n",
       "      <td>28.130</td>\n",
       "      <td>8665592</td>\n",
       "      <td>SBUX</td>\n",
       "      <td>0.002138</td>\n",
       "      <td>0.002135</td>\n",
       "    </tr>\n",
       "    <tr>\n",
       "      <th>498155</th>\n",
       "      <td>2013-02-13</td>\n",
       "      <td>28.230</td>\n",
       "      <td>28.230</td>\n",
       "      <td>27.750</td>\n",
       "      <td>27.915</td>\n",
       "      <td>7022056</td>\n",
       "      <td>SBUX</td>\n",
       "      <td>-0.007643</td>\n",
       "      <td>-0.007672</td>\n",
       "    </tr>\n",
       "    <tr>\n",
       "      <th>498156</th>\n",
       "      <td>2013-02-14</td>\n",
       "      <td>27.765</td>\n",
       "      <td>27.905</td>\n",
       "      <td>27.675</td>\n",
       "      <td>27.775</td>\n",
       "      <td>8899188</td>\n",
       "      <td>SBUX</td>\n",
       "      <td>-0.005015</td>\n",
       "      <td>-0.005028</td>\n",
       "    </tr>\n",
       "  </tbody>\n",
       "</table>\n",
       "</div>"
      ],
      "text/plain": [
       "              date    open    high     low   close   volume  Name    return  \\\n",
       "498152  2013-02-08  27.920  28.325  27.920  28.185  7146296  SBUX       NaN   \n",
       "498153  2013-02-11  28.260  28.260  27.930  28.070  5457354  SBUX -0.004080   \n",
       "498154  2013-02-12  28.000  28.275  27.975  28.130  8665592  SBUX  0.002138   \n",
       "498155  2013-02-13  28.230  28.230  27.750  27.915  7022056  SBUX -0.007643   \n",
       "498156  2013-02-14  27.765  27.905  27.675  27.775  8899188  SBUX -0.005015   \n",
       "\n",
       "        log return  \n",
       "498152         NaN  \n",
       "498153   -0.004089  \n",
       "498154    0.002135  \n",
       "498155   -0.007672  \n",
       "498156   -0.005028  "
      ]
     },
     "execution_count": 3,
     "metadata": {},
     "output_type": "execute_result"
    }
   ],
   "source": [
    "# Calculate returns for Starbucks\n",
    "sbux = data[data['Name'] == 'SBUX']\n",
    "sbux.insert(len(sbux.columns), 'return', sbux['close'].pct_change(1))\n",
    "sbux.insert(len(sbux.columns), 'log return', np.log(sbux['return'] + 1.0))\n",
    "sbux.head()"
   ]
  },
  {
   "cell_type": "code",
   "execution_count": 4,
   "id": "4284f75f",
   "metadata": {},
   "outputs": [
    {
     "data": {
      "image/png": "[encoded data removed]",
      "text/plain": [
       "<Figure size 640x480 with 1 Axes>"
      ]
     },
     "metadata": {},
     "output_type": "display_data"
    }
   ],
   "source": [
    "# Plot the histogram of returns, and corresponding normal distribution, for Starbucks' returns\n",
    "x = np.linspace(sbux['return'].min(), sbux['return'].max(), 100)\n",
    "y = norm.pdf(x, loc=sbux['return'].mean(), scale=sbux['return'].std())\n",
    "\n",
    "plt.hist(sbux['return'].dropna().to_numpy(), bins=100, density=True)\n",
    "plt.plot(x, y, label='Normal distribution')\n",
    "plt.title('Histogram of returns, Starbucks')\n",
    "plt.legend()\n",
    "plt.show()"
   ]
  },
  {
   "cell_type": "markdown",
   "id": "99c7ab5d",
   "metadata": {},
   "source": [
    "## Normal Distribution Testing"
   ]
  },
  {
   "cell_type": "markdown",
   "id": "0a7b5de1",
   "metadata": {},
   "source": [
    "The **Jarque-Bera** test tests whether the sample data has the **skewness** and **kurtosis** matching a normal distribution. The null hypothesis is a joint hypothesis of the skewness being zero and the excess kurtosis being zero. The test statistic is always nonnegative. If it is far from zero, it signals that the data do not have a normal distribution. The $p$-value reflects the probability of accepting the null hypothesis."
   ]
  },
  {
   "cell_type": "code",
   "execution_count": 5,
   "id": "410e125c",
   "metadata": {},
   "outputs": [
    {
     "data": {
      "text/plain": [
       "SignificanceResult(statistic=1639.028438655224, pvalue=0.0)"
      ]
     },
     "execution_count": 5,
     "metadata": {},
     "output_type": "execute_result"
    }
   ],
   "source": [
    "# Jarque-Bera test using returns\n",
    "# We reject the null hypothesis since 0.0 < 0.05\n",
    "jarque_bera(sbux['return'].dropna())"
   ]
  },
  {
   "cell_type": "markdown",
   "id": "42fb3fb0",
   "metadata": {},
   "source": [
    "The **normaltest** tests whether a sample differs from a normal distribution. The null hypothesis is that the sample comes from a normal distribution. "
   ]
  },
  {
   "cell_type": "code",
   "execution_count": 6,
   "id": "932f04ae",
   "metadata": {},
   "outputs": [
    {
     "data": {
      "text/plain": [
       "NormaltestResult(statistic=172.6819672061636, pvalue=3.1811727900119636e-38)"
      ]
     },
     "execution_count": 6,
     "metadata": {},
     "output_type": "execute_result"
    }
   ],
   "source": [
    "# Normaltest using returns\n",
    "normaltest(sbux['return'].dropna())"
   ]
  },
  {
   "cell_type": "code",
   "execution_count": 7,
   "id": "6bc0a735",
   "metadata": {},
   "outputs": [
    {
     "data": {
      "text/plain": [
       "SignificanceResult(statistic=1882.1814629047703, pvalue=0.0)"
      ]
     },
     "execution_count": 7,
     "metadata": {},
     "output_type": "execute_result"
    }
   ],
   "source": [
    "# Jarque-Bera test using log-returns\n",
    "# We reject the null hypothesis since 0.0 < 0.05\n",
    "jarque_bera(sbux['log return'].dropna())"
   ]
  },
  {
   "cell_type": "code",
   "execution_count": 8,
   "id": "e22937d4",
   "metadata": {},
   "outputs": [
    {
     "data": {
      "text/plain": [
       "NormaltestResult(statistic=198.54738937007733, pvalue=7.690989175882069e-44)"
      ]
     },
     "execution_count": 8,
     "metadata": {},
     "output_type": "execute_result"
    }
   ],
   "source": [
    "# Normaltest using log-returns\n",
    "normaltest(sbux['log return'].dropna())"
   ]
  },
  {
   "cell_type": "markdown",
   "id": "9d03e0ed",
   "metadata": {},
   "source": [
    "## Kolmogorov-Smirnov Testing\n",
    "\n",
    "Kolmogorov-Smirnov performs either one- or two-sample test for goodness of fit.\n",
    "\n",
    "* The one-sample test compares the underlying distribution F(x) of a sample against a given distribution G(X)\n",
    "* The two-sample test compares the underlying distributions of two independent samples\n",
    "\n",
    "There are three options for the null and corresponding alternative hypothesis that can be selected using the alternative parameter.\n",
    "\n",
    "* two-sided: The null hypothesis is that the two distributions are identical, F(x)=G(x) for all x; the alternative is that they are not identical.\n",
    "* less: The null hypothesis is that F(x) >= G(x) for all x; the alternative is that F(x) < G(x) for at least one x.\n",
    "* greater: The null hypothesis is that F(x) <= G(x) for all x; the alternative is that F(x) > G(x) for at least one x.\n",
    "\n",
    "Note that the alternative hypotheses describe the CDFs of the underlying distributions, not the observed values. For example, suppose x1 ~ F and x2 ~ G. If F(x) > G(x) for all x, the values in x1 tend to be less than those in x2."
   ]
  },
  {
   "cell_type": "code",
   "execution_count": 9,
   "id": "7856d35a",
   "metadata": {},
   "outputs": [],
   "source": [
    "# Now that we're pretty convinced that the returns are not from a normal distribution,\n",
    "# let's try if t-distribution (Student's distribution) is a better fit\n",
    "df, loc, scale = t.fit(sbux['return'].dropna())\n",
    "def cdf(x):\n",
    "    return t.cdf(x, df, loc, scale)"
   ]
  },
  {
   "cell_type": "code",
   "execution_count": 10,
   "id": "5091a487",
   "metadata": {},
   "outputs": [
    {
     "data": {
      "text/plain": [
       "KstestResult(statistic=0.01887566203844726, pvalue=0.7537785475444063, statistic_location=-0.0003257859586252021, statistic_sign=1)"
      ]
     },
     "execution_count": 10,
     "metadata": {},
     "output_type": "execute_result"
    }
   ],
   "source": [
    "# We fail to reject the null hypothesis since 0.75 > 0.05 and therefore conclude that\n",
    "# the sample is from t-distribution.\n",
    "kstest(sbux['return'].dropna(), cdf)"
   ]
  },
  {
   "cell_type": "code",
   "execution_count": 11,
   "id": "f9b37b35",
   "metadata": {},
   "outputs": [],
   "source": [
    "df, loc, scale = t.fit(sbux['log return'].dropna())\n",
    "def cdf(x):\n",
    "    return t.cdf(x, df, loc, scale)"
   ]
  },
  {
   "cell_type": "code",
   "execution_count": 12,
   "id": "e68a1e82",
   "metadata": {},
   "outputs": [
    {
     "data": {
      "text/plain": [
       "KstestResult(statistic=0.01837990941957013, pvalue=0.7818301159274575, statistic_location=-0.0003258390383993639, statistic_sign=1)"
      ]
     },
     "execution_count": 12,
     "metadata": {},
     "output_type": "execute_result"
    }
   ],
   "source": [
    "# We fail to reject the null hypothesis since 0.78 > 0.05 and therefore conclude that\n",
    "# the sample is from a t-distribution.\n",
    "kstest(sbux['log return'].dropna(), cdf)"
   ]
  },
  {
   "cell_type": "markdown",
   "id": "9f412315",
   "metadata": {},
   "source": [
    "## One-Sample t-Test\n",
    "\n",
    "This is a test for the null hypothesis that the expected value (mean) of a sample of given independent observations is equal to the given population mean. We're not testing if values are from a distribution, but how the data compares to some given value."
   ]
  },
  {
   "cell_type": "code",
   "execution_count": 47,
   "id": "bb7c7b7d",
   "metadata": {},
   "outputs": [
    {
     "name": "stdout",
     "output_type": "stream",
     "text": [
      "Critical value +/-: 1.9618530205569116\n"
     ]
    }
   ],
   "source": [
    "# Calculating critical value for t-test. For a two-sided test, the significance level is 1 - alpha/2\n",
    "cv = t.ppf(q=1-0.05/2, df = len(sbux['return'].dropna())-1)\n",
    "print(f'Critical value +/-: {cv}')"
   ]
  },
  {
   "cell_type": "code",
   "execution_count": 25,
   "id": "5dad0dce",
   "metadata": {},
   "outputs": [
    {
     "data": {
      "text/plain": [
       "TtestResult(statistic=1.7223010261810556, pvalue=0.08526098717694539, df=1257)"
      ]
     },
     "execution_count": 25,
     "metadata": {},
     "output_type": "execute_result"
    }
   ],
   "source": [
    "# Null hypothesis: returns of Starbucks are from a distribution with a mean of 0\n",
    "# 0.085 > 0.05 => we fail to reject the null hypothesis\n",
    "ttest_1samp(sbux['return'].dropna(), popmean=0)"
   ]
  },
  {
   "cell_type": "code",
   "execution_count": 26,
   "id": "72aeccb0",
   "metadata": {},
   "outputs": [
    {
     "data": {
      "text/plain": [
       "TtestResult(statistic=1.4999195047533647, pvalue=0.13388636615667793, df=1257)"
      ]
     },
     "execution_count": 26,
     "metadata": {},
     "output_type": "execute_result"
    }
   ],
   "source": [
    "# Null hypothesis: log returns of Starbucks are from a distribution with a mean of 0\n",
    "ttest_1samp(sbux['log return'].dropna(), popmean=0)"
   ]
  },
  {
   "cell_type": "markdown",
   "id": "d9c2cf86",
   "metadata": {},
   "source": [
    "### Calculate T-test for the Mean of Returns for 3M"
   ]
  },
  {
   "cell_type": "code",
   "execution_count": 16,
   "id": "8cca39bc",
   "metadata": {},
   "outputs": [
    {
     "data": {
      "text/html": [
       "<div>\n",
       "<style scoped>\n",
       "    .dataframe tbody tr th:only-of-type {\n",
       "        vertical-align: middle;\n",
       "    }\n",
       "\n",
       "    .dataframe tbody tr th {\n",
       "        vertical-align: top;\n",
       "    }\n",
       "\n",
       "    .dataframe thead th {\n",
       "        text-align: right;\n",
       "    }\n",
       "</style>\n",
       "<table border=\"1\" class=\"dataframe\">\n",
       "  <thead>\n",
       "    <tr style=\"text-align: right;\">\n",
       "      <th></th>\n",
       "      <th>date</th>\n",
       "      <th>open</th>\n",
       "      <th>high</th>\n",
       "      <th>low</th>\n",
       "      <th>close</th>\n",
       "      <th>volume</th>\n",
       "      <th>Name</th>\n",
       "    </tr>\n",
       "  </thead>\n",
       "  <tbody>\n",
       "    <tr>\n",
       "      <th>380126</th>\n",
       "      <td>2013-02-08</td>\n",
       "      <td>102.34</td>\n",
       "      <td>103.330</td>\n",
       "      <td>102.0400</td>\n",
       "      <td>102.66</td>\n",
       "      <td>1937721</td>\n",
       "      <td>MMM</td>\n",
       "    </tr>\n",
       "    <tr>\n",
       "      <th>380127</th>\n",
       "      <td>2013-02-11</td>\n",
       "      <td>102.39</td>\n",
       "      <td>102.880</td>\n",
       "      <td>102.0401</td>\n",
       "      <td>102.62</td>\n",
       "      <td>1715444</td>\n",
       "      <td>MMM</td>\n",
       "    </tr>\n",
       "    <tr>\n",
       "      <th>380128</th>\n",
       "      <td>2013-02-12</td>\n",
       "      <td>102.66</td>\n",
       "      <td>103.590</td>\n",
       "      <td>102.6300</td>\n",
       "      <td>103.46</td>\n",
       "      <td>1927930</td>\n",
       "      <td>MMM</td>\n",
       "    </tr>\n",
       "    <tr>\n",
       "      <th>380129</th>\n",
       "      <td>2013-02-13</td>\n",
       "      <td>103.03</td>\n",
       "      <td>103.395</td>\n",
       "      <td>102.5800</td>\n",
       "      <td>102.86</td>\n",
       "      <td>1699804</td>\n",
       "      <td>MMM</td>\n",
       "    </tr>\n",
       "    <tr>\n",
       "      <th>380130</th>\n",
       "      <td>2013-02-14</td>\n",
       "      <td>102.43</td>\n",
       "      <td>103.140</td>\n",
       "      <td>102.2200</td>\n",
       "      <td>102.78</td>\n",
       "      <td>2217419</td>\n",
       "      <td>MMM</td>\n",
       "    </tr>\n",
       "  </tbody>\n",
       "</table>\n",
       "</div>"
      ],
      "text/plain": [
       "              date    open     high       low   close   volume Name\n",
       "380126  2013-02-08  102.34  103.330  102.0400  102.66  1937721  MMM\n",
       "380127  2013-02-11  102.39  102.880  102.0401  102.62  1715444  MMM\n",
       "380128  2013-02-12  102.66  103.590  102.6300  103.46  1927930  MMM\n",
       "380129  2013-02-13  103.03  103.395  102.5800  102.86  1699804  MMM\n",
       "380130  2013-02-14  102.43  103.140  102.2200  102.78  2217419  MMM"
      ]
     },
     "execution_count": 16,
     "metadata": {},
     "output_type": "execute_result"
    }
   ],
   "source": [
    "mmm = data[data['Name'] == 'MMM'].copy()\n",
    "mmm.head()"
   ]
  },
  {
   "cell_type": "code",
   "execution_count": 17,
   "id": "e03f83b5",
   "metadata": {},
   "outputs": [
    {
     "data": {
      "image/png": "[encoded data removed]",
      "text/plain": [
       "<Figure size 640x480 with 1 Axes>"
      ]
     },
     "metadata": {},
     "output_type": "display_data"
    }
   ],
   "source": [
    "mmm['close'].plot(title='Closing prices of 3M');"
   ]
  },
  {
   "cell_type": "code",
   "execution_count": 18,
   "id": "17b87845",
   "metadata": {},
   "outputs": [
    {
     "data": {
      "text/html": [
       "<div>\n",
       "<style scoped>\n",
       "    .dataframe tbody tr th:only-of-type {\n",
       "        vertical-align: middle;\n",
       "    }\n",
       "\n",
       "    .dataframe tbody tr th {\n",
       "        vertical-align: top;\n",
       "    }\n",
       "\n",
       "    .dataframe thead th {\n",
       "        text-align: right;\n",
       "    }\n",
       "</style>\n",
       "<table border=\"1\" class=\"dataframe\">\n",
       "  <thead>\n",
       "    <tr style=\"text-align: right;\">\n",
       "      <th></th>\n",
       "      <th>date</th>\n",
       "      <th>open</th>\n",
       "      <th>high</th>\n",
       "      <th>low</th>\n",
       "      <th>close</th>\n",
       "      <th>volume</th>\n",
       "      <th>Name</th>\n",
       "      <th>return</th>\n",
       "      <th>log return</th>\n",
       "    </tr>\n",
       "  </thead>\n",
       "  <tbody>\n",
       "    <tr>\n",
       "      <th>380126</th>\n",
       "      <td>2013-02-08</td>\n",
       "      <td>102.34</td>\n",
       "      <td>103.330</td>\n",
       "      <td>102.0400</td>\n",
       "      <td>102.66</td>\n",
       "      <td>1937721</td>\n",
       "      <td>MMM</td>\n",
       "      <td>NaN</td>\n",
       "      <td>NaN</td>\n",
       "    </tr>\n",
       "    <tr>\n",
       "      <th>380127</th>\n",
       "      <td>2013-02-11</td>\n",
       "      <td>102.39</td>\n",
       "      <td>102.880</td>\n",
       "      <td>102.0401</td>\n",
       "      <td>102.62</td>\n",
       "      <td>1715444</td>\n",
       "      <td>MMM</td>\n",
       "      <td>-0.000390</td>\n",
       "      <td>-0.000390</td>\n",
       "    </tr>\n",
       "    <tr>\n",
       "      <th>380128</th>\n",
       "      <td>2013-02-12</td>\n",
       "      <td>102.66</td>\n",
       "      <td>103.590</td>\n",
       "      <td>102.6300</td>\n",
       "      <td>103.46</td>\n",
       "      <td>1927930</td>\n",
       "      <td>MMM</td>\n",
       "      <td>0.008186</td>\n",
       "      <td>0.008152</td>\n",
       "    </tr>\n",
       "    <tr>\n",
       "      <th>380129</th>\n",
       "      <td>2013-02-13</td>\n",
       "      <td>103.03</td>\n",
       "      <td>103.395</td>\n",
       "      <td>102.5800</td>\n",
       "      <td>102.86</td>\n",
       "      <td>1699804</td>\n",
       "      <td>MMM</td>\n",
       "      <td>-0.005799</td>\n",
       "      <td>-0.005816</td>\n",
       "    </tr>\n",
       "    <tr>\n",
       "      <th>380130</th>\n",
       "      <td>2013-02-14</td>\n",
       "      <td>102.43</td>\n",
       "      <td>103.140</td>\n",
       "      <td>102.2200</td>\n",
       "      <td>102.78</td>\n",
       "      <td>2217419</td>\n",
       "      <td>MMM</td>\n",
       "      <td>-0.000778</td>\n",
       "      <td>-0.000778</td>\n",
       "    </tr>\n",
       "  </tbody>\n",
       "</table>\n",
       "</div>"
      ],
      "text/plain": [
       "              date    open     high       low   close   volume Name    return  \\\n",
       "380126  2013-02-08  102.34  103.330  102.0400  102.66  1937721  MMM       NaN   \n",
       "380127  2013-02-11  102.39  102.880  102.0401  102.62  1715444  MMM -0.000390   \n",
       "380128  2013-02-12  102.66  103.590  102.6300  103.46  1927930  MMM  0.008186   \n",
       "380129  2013-02-13  103.03  103.395  102.5800  102.86  1699804  MMM -0.005799   \n",
       "380130  2013-02-14  102.43  103.140  102.2200  102.78  2217419  MMM -0.000778   \n",
       "\n",
       "        log return  \n",
       "380126         NaN  \n",
       "380127   -0.000390  \n",
       "380128    0.008152  \n",
       "380129   -0.005816  \n",
       "380130   -0.000778  "
      ]
     },
     "execution_count": 18,
     "metadata": {},
     "output_type": "execute_result"
    }
   ],
   "source": [
    "mmm['return'] = mmm['close'].pct_change(1)\n",
    "mmm['log return'] = np.log(mmm['return'] + 1)\n",
    "mmm.head()"
   ]
  },
  {
   "cell_type": "code",
   "execution_count": 19,
   "id": "1e664e69",
   "metadata": {},
   "outputs": [
    {
     "data": {
      "text/plain": [
       "(0.0007001182500580143, 0.009768718404053094)"
      ]
     },
     "execution_count": 19,
     "metadata": {},
     "output_type": "execute_result"
    }
   ],
   "source": [
    "mmm['return'].mean(), mmm['return'].std()"
   ]
  },
  {
   "cell_type": "code",
   "execution_count": 20,
   "id": "e9cf1e60",
   "metadata": {},
   "outputs": [
    {
     "name": "stdout",
     "output_type": "stream",
     "text": [
      "mean: 0.0007001182500580143\n",
      "std: 0.009768718404053094\n",
      "Confidence interval (returns), low limit: 0.0001605072466054154\n",
      "Confidence interval (returns), high limit: 0.0012397292535106133\n"
     ]
    }
   ],
   "source": [
    "m = mmm['return'].mean()\n",
    "s = mmm['return'].std(ddof=1)\n",
    "low = m - 1.96 * s / np.sqrt(len(mmm['return']))\n",
    "high = m + 1.96 * s / np.sqrt(len(mmm['return']))\n",
    "print(f'mean: {m}')\n",
    "print(f'std: {s}')\n",
    "print(f'Confidence interval (returns), low limit: {low}')\n",
    "print(f'Confidence interval (returns), high limit: {high}')"
   ]
  },
  {
   "cell_type": "code",
   "execution_count": 21,
   "id": "d7f8b5d2",
   "metadata": {},
   "outputs": [
    {
     "data": {
      "image/png": "[encoded data removed]",
      "text/plain": [
       "<Figure size 640x480 with 1 Axes>"
      ]
     },
     "metadata": {},
     "output_type": "display_data"
    }
   ],
   "source": [
    "plt.hist(mmm['return'].dropna(), bins=100, density=True)\n",
    "plt.axvline(m, color='k', linestyle='dashed', linewidth=1, label=f'mean: {m:0.3}')\n",
    "plt.axvline(high, color='b', linestyle='dashed', linewidth=1, label=f'high: {high:0.3}')\n",
    "plt.axvline(low, color='r', linestyle='dashed', linewidth=1, label=f'low: {low:0.3}')\n",
    "plt.title('3M returns')\n",
    "plt.legend()\n",
    "plt.show()"
   ]
  },
  {
   "cell_type": "code",
   "execution_count": 22,
   "id": "ca8fcfda",
   "metadata": {},
   "outputs": [
    {
     "data": {
      "image/png": "[encoded data removed]",
      "text/plain": [
       "<Figure size 640x480 with 1 Axes>"
      ]
     },
     "metadata": {},
     "output_type": "display_data"
    }
   ],
   "source": [
    "plt.vlines(m, ymin=0, ymax= 1, color='k', linestyle='dashed', linewidth=1, label=f'mean: {m:0.3}')\n",
    "plt.vlines(high, ymin=0, ymax= 1, color='b', linestyle='dashed', linewidth=1, label=f'high: {high:0.3}')\n",
    "plt.vlines(low, ymin=0, ymax= 1, color='r', linestyle='dashed', linewidth=1, label=f'low: {low:0.3}')\n",
    "plt.vlines(0, ymin=0, ymax= 1, color='g', linestyle='dashed', linewidth=1, label=f'zero')\n",
    "plt.legend()\n",
    "plt.title('Confidence interval for returns (3M)')\n",
    "plt.show()"
   ]
  },
  {
   "cell_type": "code",
   "execution_count": 48,
   "id": "6e603771",
   "metadata": {},
   "outputs": [
    {
     "name": "stdout",
     "output_type": "stream",
     "text": [
      "Critical value +/-: 1.9618530205569116\n"
     ]
    }
   ],
   "source": [
    "# Calculate critical values for two-sided test. Values outside of the critical\n",
    "# areas mean that the null hypothesis should be rejected.\n",
    "cv = t.ppf(q=1-0.05/2, df = len(mmm['return'].dropna())-1)\n",
    "print(f'Critical value +/-: {cv}')"
   ]
  },
  {
   "cell_type": "code",
   "execution_count": 23,
   "id": "5a7aacac",
   "metadata": {},
   "outputs": [
    {
     "data": {
      "text/plain": [
       "TtestResult(statistic=2.541991701703365, pvalue=0.011141496531324404, df=1257)"
      ]
     },
     "execution_count": 23,
     "metadata": {},
     "output_type": "execute_result"
    }
   ],
   "source": [
    "# Null hypothesis: returns are from a probability distribution with 0 mean\n",
    "# 0.01 < 0.05 => we reject the null hypothesis\n",
    "ttest_1samp(mmm['return'].dropna(), 0)"
   ]
  },
  {
   "cell_type": "code",
   "execution_count": 24,
   "id": "fd66648d",
   "metadata": {},
   "outputs": [
    {
     "data": {
      "text/plain": [
       "TtestResult(statistic=2.365963115873947, pvalue=0.018134246809755054, df=1257)"
      ]
     },
     "execution_count": 24,
     "metadata": {},
     "output_type": "execute_result"
    }
   ],
   "source": [
    "# Null hypothesis: log returns are from a probability distribution with 0 mean\n",
    "# We reject the null hypothesis due to the p-value being small\n",
    "ttest_1samp(mmm['log return'].dropna(), 0)"
   ]
  },
  {
   "cell_type": "code",
   "execution_count": null,
   "id": "06ec5b14",
   "metadata": {},
   "outputs": [],
   "source": []
  }
 ],
 "metadata": {
  "kernelspec": {
   "display_name": "Python 3 (ipykernel)",
   "language": "python",
   "name": "python3"
  },
  "language_info": {
   "codemirror_mode": {
    "name": "ipython",
    "version": 3
   },
   "file_extension": ".py",
   "mimetype": "text/x-python",
   "name": "python",
   "nbconvert_exporter": "python",
   "pygments_lexer": "ipython3",
   "version": "3.8.10"
  }
 },
 "nbformat": 4,
 "nbformat_minor": 5
}
