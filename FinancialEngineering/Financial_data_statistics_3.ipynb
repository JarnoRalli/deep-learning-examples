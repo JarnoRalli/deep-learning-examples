{
 "cells": [
  {
   "cell_type": "markdown",
   "id": "774d1a8a",
   "metadata": {},
   "source": [
    "# Confidence Interval\n",
    "\n",
    "## Standardization\n",
    "\n",
    "Suppose that we have a randomly distributed random variable $\\bar{X} \\sim N(\\mu, \\sigma)$. Standardizing a normal distribution is to convert a normal-distibution to the standard normal-distribution defined by $N(\\mu = 0, \\sigma=1)$. Therefore, we can convert $\\bar{X}$ to $\\bar{Z}$ as follows:\n",
    "\n",
    "$$\\bar{Z} = \\dfrac{\\bar{X} - \\mu}{\\sigma}$$\n",
    "\n",
    "## Confidence Interval\n",
    "\n",
    "$\\bar{X}$ is our point estimate of the sample mean.\n",
    "\n",
    "$$\\bar{X} \\sim N\\left(\\mu, \\sigma^2/N \\right)$$\n",
    "\n",
    "We now stadardize the estimate. We first subtract $\\mu$\n",
    "\n",
    "$$\\bar{X} - \\mu \\sim N\\left(0, \\sigma^2/N \\right)$$\n",
    "\n",
    "And then divide using the standard deviation $\\sigma / \\sqrt{N}$\n",
    "\n",
    "$$\\dfrac{\\bar{X} - \\mu}{\\sigma / \\sqrt{N}} \\sim N\\left(0, \\sigma^2/N \\right)$$\n",
    "\n",
    "95% confidence interval for a standard normal is defined as follows:\n",
    "\n",
    "$$-1.96 \\le \\dfrac{\\bar{X}-\\mu}{\\sigma \\sqrt{N}} \\le 1.96$$\n",
    "\n",
    "After rearranging we get:\n",
    "\n",
    "$$\\bar{X} - 1.96\\dfrac{\\sigma}{\\sqrt{N}} \\le \\mu \\le \\bar{X} + 1.96\\dfrac{\\sigma}{\\sqrt{N}}$$"
   ]
  },
  {
   "cell_type": "code",
   "execution_count": 1,
   "id": "fcb421da",
   "metadata": {},
   "outputs": [],
   "source": [
    "import opendatasets as od\n",
    "import pandas as pd\n",
    "import numpy as np\n",
    "import matplotlib.pyplot as plt"
   ]
  },
  {
   "cell_type": "code",
   "execution_count": 2,
   "id": "48017742",
   "metadata": {},
   "outputs": [
    {
     "name": "stdout",
     "output_type": "stream",
     "text": [
      "Skipping, found downloaded files in \"./sandp500\" (use force=True to force download)\n"
     ]
    },
    {
     "data": {
      "text/html": [
       "<div>\n",
       "<style scoped>\n",
       "    .dataframe tbody tr th:only-of-type {\n",
       "        vertical-align: middle;\n",
       "    }\n",
       "\n",
       "    .dataframe tbody tr th {\n",
       "        vertical-align: top;\n",
       "    }\n",
       "\n",
       "    .dataframe thead th {\n",
       "        text-align: right;\n",
       "    }\n",
       "</style>\n",
       "<table border=\"1\" class=\"dataframe\">\n",
       "  <thead>\n",
       "    <tr style=\"text-align: right;\">\n",
       "      <th></th>\n",
       "      <th>date</th>\n",
       "      <th>open</th>\n",
       "      <th>high</th>\n",
       "      <th>low</th>\n",
       "      <th>close</th>\n",
       "      <th>volume</th>\n",
       "      <th>Name</th>\n",
       "    </tr>\n",
       "  </thead>\n",
       "  <tbody>\n",
       "    <tr>\n",
       "      <th>0</th>\n",
       "      <td>2013-02-08</td>\n",
       "      <td>15.07</td>\n",
       "      <td>15.12</td>\n",
       "      <td>14.63</td>\n",
       "      <td>14.75</td>\n",
       "      <td>8407500</td>\n",
       "      <td>AAL</td>\n",
       "    </tr>\n",
       "    <tr>\n",
       "      <th>1</th>\n",
       "      <td>2013-02-11</td>\n",
       "      <td>14.89</td>\n",
       "      <td>15.01</td>\n",
       "      <td>14.26</td>\n",
       "      <td>14.46</td>\n",
       "      <td>8882000</td>\n",
       "      <td>AAL</td>\n",
       "    </tr>\n",
       "    <tr>\n",
       "      <th>2</th>\n",
       "      <td>2013-02-12</td>\n",
       "      <td>14.45</td>\n",
       "      <td>14.51</td>\n",
       "      <td>14.10</td>\n",
       "      <td>14.27</td>\n",
       "      <td>8126000</td>\n",
       "      <td>AAL</td>\n",
       "    </tr>\n",
       "    <tr>\n",
       "      <th>3</th>\n",
       "      <td>2013-02-13</td>\n",
       "      <td>14.30</td>\n",
       "      <td>14.94</td>\n",
       "      <td>14.25</td>\n",
       "      <td>14.66</td>\n",
       "      <td>10259500</td>\n",
       "      <td>AAL</td>\n",
       "    </tr>\n",
       "    <tr>\n",
       "      <th>4</th>\n",
       "      <td>2013-02-14</td>\n",
       "      <td>14.94</td>\n",
       "      <td>14.96</td>\n",
       "      <td>13.16</td>\n",
       "      <td>13.99</td>\n",
       "      <td>31879900</td>\n",
       "      <td>AAL</td>\n",
       "    </tr>\n",
       "  </tbody>\n",
       "</table>\n",
       "</div>"
      ],
      "text/plain": [
       "         date   open   high    low  close    volume Name\n",
       "0  2013-02-08  15.07  15.12  14.63  14.75   8407500  AAL\n",
       "1  2013-02-11  14.89  15.01  14.26  14.46   8882000  AAL\n",
       "2  2013-02-12  14.45  14.51  14.10  14.27   8126000  AAL\n",
       "3  2013-02-13  14.30  14.94  14.25  14.66  10259500  AAL\n",
       "4  2013-02-14  14.94  14.96  13.16  13.99  31879900  AAL"
      ]
     },
     "execution_count": 2,
     "metadata": {},
     "output_type": "execute_result"
    }
   ],
   "source": [
    "# Download the S&P500 data from Kaggle\n",
    "od.download(\"https://www.kaggle.com/datasets/camnugent/sandp500/download?datasetVersionNumber=4\")\n",
    "df = pd.read_csv('./sandp500/all_stocks_5yr.csv', parse_dates=True)\n",
    "df.head()"
   ]
  },
  {
   "cell_type": "code",
   "execution_count": 3,
   "id": "543a053a",
   "metadata": {},
   "outputs": [
    {
     "data": {
      "text/html": [
       "<div>\n",
       "<style scoped>\n",
       "    .dataframe tbody tr th:only-of-type {\n",
       "        vertical-align: middle;\n",
       "    }\n",
       "\n",
       "    .dataframe tbody tr th {\n",
       "        vertical-align: top;\n",
       "    }\n",
       "\n",
       "    .dataframe thead th {\n",
       "        text-align: right;\n",
       "    }\n",
       "</style>\n",
       "<table border=\"1\" class=\"dataframe\">\n",
       "  <thead>\n",
       "    <tr style=\"text-align: right;\">\n",
       "      <th></th>\n",
       "      <th>date</th>\n",
       "      <th>open</th>\n",
       "      <th>high</th>\n",
       "      <th>low</th>\n",
       "      <th>close</th>\n",
       "      <th>volume</th>\n",
       "      <th>Name</th>\n",
       "      <th>return</th>\n",
       "    </tr>\n",
       "  </thead>\n",
       "  <tbody>\n",
       "    <tr>\n",
       "      <th>498152</th>\n",
       "      <td>2013-02-08</td>\n",
       "      <td>27.920</td>\n",
       "      <td>28.325</td>\n",
       "      <td>27.920</td>\n",
       "      <td>28.185</td>\n",
       "      <td>7146296</td>\n",
       "      <td>SBUX</td>\n",
       "      <td>NaN</td>\n",
       "    </tr>\n",
       "    <tr>\n",
       "      <th>498153</th>\n",
       "      <td>2013-02-11</td>\n",
       "      <td>28.260</td>\n",
       "      <td>28.260</td>\n",
       "      <td>27.930</td>\n",
       "      <td>28.070</td>\n",
       "      <td>5457354</td>\n",
       "      <td>SBUX</td>\n",
       "      <td>-0.004080</td>\n",
       "    </tr>\n",
       "    <tr>\n",
       "      <th>498154</th>\n",
       "      <td>2013-02-12</td>\n",
       "      <td>28.000</td>\n",
       "      <td>28.275</td>\n",
       "      <td>27.975</td>\n",
       "      <td>28.130</td>\n",
       "      <td>8665592</td>\n",
       "      <td>SBUX</td>\n",
       "      <td>0.002138</td>\n",
       "    </tr>\n",
       "    <tr>\n",
       "      <th>498155</th>\n",
       "      <td>2013-02-13</td>\n",
       "      <td>28.230</td>\n",
       "      <td>28.230</td>\n",
       "      <td>27.750</td>\n",
       "      <td>27.915</td>\n",
       "      <td>7022056</td>\n",
       "      <td>SBUX</td>\n",
       "      <td>-0.007643</td>\n",
       "    </tr>\n",
       "    <tr>\n",
       "      <th>498156</th>\n",
       "      <td>2013-02-14</td>\n",
       "      <td>27.765</td>\n",
       "      <td>27.905</td>\n",
       "      <td>27.675</td>\n",
       "      <td>27.775</td>\n",
       "      <td>8899188</td>\n",
       "      <td>SBUX</td>\n",
       "      <td>-0.005015</td>\n",
       "    </tr>\n",
       "  </tbody>\n",
       "</table>\n",
       "</div>"
      ],
      "text/plain": [
       "              date    open    high     low   close   volume  Name    return\n",
       "498152  2013-02-08  27.920  28.325  27.920  28.185  7146296  SBUX       NaN\n",
       "498153  2013-02-11  28.260  28.260  27.930  28.070  5457354  SBUX -0.004080\n",
       "498154  2013-02-12  28.000  28.275  27.975  28.130  8665592  SBUX  0.002138\n",
       "498155  2013-02-13  28.230  28.230  27.750  27.915  7022056  SBUX -0.007643\n",
       "498156  2013-02-14  27.765  27.905  27.675  27.775  8899188  SBUX -0.005015"
      ]
     },
     "execution_count": 3,
     "metadata": {},
     "output_type": "execute_result"
    }
   ],
   "source": [
    "sbux = df[df['Name'] == 'SBUX']\n",
    "sbux.insert(len(sbux.columns), 'return', sbux['close'].pct_change(1))\n",
    "sbux.head()"
   ]
  },
  {
   "cell_type": "code",
   "execution_count": 4,
   "id": "c85a3799",
   "metadata": {},
   "outputs": [],
   "source": [
    "values = sbux['return'].dropna().to_numpy()\n",
    "m = values.mean()\n",
    "s = values.std(ddof=1)"
   ]
  },
  {
   "cell_type": "code",
   "execution_count": 5,
   "id": "941ec395",
   "metadata": {},
   "outputs": [],
   "source": [
    "low = m - 1.96 * s / np.sqrt(len(values))\n",
    "high = m + 1.96 * s / np.sqrt(len(values))"
   ]
  },
  {
   "cell_type": "code",
   "execution_count": 6,
   "id": "d6438550",
   "metadata": {},
   "outputs": [
    {
     "name": "stdout",
     "output_type": "stream",
     "text": [
      "Mean of returns: 0.0006002332205830914\n",
      "Standard deviation of returns: 0.012360934026133879\n",
      "Skewness of returns: -0.2680784195824153\n",
      "Kurtosis of returns: 5.593158903424731\n",
      "Confidence interval (returns), low limit: -8.283965370502102e-05\n",
      "Confidence interval (returns), high limit: 0.001283306094871204\n"
     ]
    }
   ],
   "source": [
    "print(f\"Mean of returns: {m}\")\n",
    "print(f\"Standard deviation of returns: {s}\")\n",
    "print(f\"Skewness of returns: {sbux['return'].skew()}\")\n",
    "print(f\"Kurtosis of returns: {sbux['return'].kurtosis()}\")\n",
    "print(f\"Confidence interval (returns), low limit: {low}\")\n",
    "print(f\"Confidence interval (returns), high limit: {high}\")"
   ]
  },
  {
   "cell_type": "code",
   "execution_count": 7,
   "id": "14521fa8",
   "metadata": {},
   "outputs": [
    {
     "data": {
      "image/png": "[encoded data removed]",
      "text/plain": [
       "<Figure size 640x480 with 1 Axes>"
      ]
     },
     "metadata": {},
     "output_type": "display_data"
    }
   ],
   "source": [
    "plt.hist(values, bins=100, density=True)\n",
    "plt.axvline(values.mean(), color='k', linestyle='dashed', linewidth=1, label=f'mean: {values.mean():0.3}')\n",
    "plt.axvline(high, color='b', linestyle='dashed', linewidth=1, label=f'high: {high:0.3}')\n",
    "plt.axvline(low, color='r', linestyle='dashed', linewidth=1, label=f'low: {low:0.3}')\n",
    "plt.legend()\n",
    "plt.show()"
   ]
  },
  {
   "cell_type": "code",
   "execution_count": 8,
   "id": "0c0ffed3",
   "metadata": {},
   "outputs": [
    {
     "data": {
      "image/png": "[encoded data removed]",
      "text/plain": [
       "<Figure size 640x480 with 1 Axes>"
      ]
     },
     "metadata": {},
     "output_type": "display_data"
    }
   ],
   "source": [
    "plt.axvline(values.mean(), color='k', linestyle='dashed', linewidth=1, label=f'mean: {values.mean():0.3}')\n",
    "plt.axvline(high, color='b', linestyle='dashed', linewidth=1, label=f'high: {high:0.3}')\n",
    "plt.axvline(low, color='r', linestyle='dashed', linewidth=1, label=f'low: {low:0.3}')\n",
    "plt.axvline(0, color='g', linestyle='dashed', linewidth=1, label=f'zero')\n",
    "plt.legend()\n",
    "plt.title('Confidence interval for returns (Starbucks)')\n",
    "plt.show()"
   ]
  },
  {
   "cell_type": "code",
   "execution_count": null,
   "id": "19dc5fe0",
   "metadata": {},
   "outputs": [],
   "source": []
  }
 ],
 "metadata": {
  "kernelspec": {
   "display_name": "Python 3 (ipykernel)",
   "language": "python",
   "name": "python3"
  },
  "language_info": {
   "codemirror_mode": {
    "name": "ipython",
    "version": 3
   },
   "file_extension": ".py",
   "mimetype": "text/x-python",
   "name": "python",
   "nbconvert_exporter": "python",
   "pygments_lexer": "ipython3",
   "version": "3.8.15"
  }
 },
 "nbformat": 4,
 "nbformat_minor": 5
}
