{
 "cells": [
  {
   "cell_type": "markdown",
   "id": "7b213370",
   "metadata": {},
   "source": [
    "# Return on Investment (ROI)\n",
    "\n",
    "## Net return\n",
    "\n",
    "$$R_{t} = \\dfrac{P_{t} - P_{t-1}}{P_{t-1}} = \\dfrac{P_{t}}{P_{t-1}} - 1$$\n",
    "\n",
    "## Simple gross return\n",
    "\n",
    "Ratio of the latest value with respect to the previous value:\n",
    "\n",
    "$$1 + R_{t} = \\dfrac{P_t}{P_{t-1}}$$\n",
    "\n",
    "## Log return\n",
    "\n",
    "Continuously compounded return:\n",
    "\n",
    "$$r_t = log \\left(1+R_t\\right) = log \\left(\\dfrac{P_t}{P_{t-1}}\\right) = log \\left(P_t\\right) - log\\left(P_{t-1}\\right)$$\n",
    "\n",
    "Log price: $p_t = log \\left(P_t\\right)$\n",
    "\n",
    "## Cumulative Returns\n",
    "\n",
    "Given: $R_1, R_2, R_2,...,R_{252}, P_0$\n",
    "\n",
    "Want: $P_{252}$\n",
    "\n",
    "Formula: $P_t = P_{t-1} \\left(1 + R_t \\right)$\n",
    "\n",
    "Answer: $P_{252} = P_{0} \\left(1+R_{1}\\right)\\left(1+R_{2}\\right)...\\left(1+R_{252}\\right)$"
   ]
  },
  {
   "cell_type": "code",
   "execution_count": null,
   "id": "044edc37",
   "metadata": {},
   "outputs": [],
   "source": [
    "import pandas as pd"
   ]
  }
 ],
 "metadata": {
  "kernelspec": {
   "display_name": "Python 3 (ipykernel)",
   "language": "python",
   "name": "python3"
  },
  "language_info": {
   "codemirror_mode": {
    "name": "ipython",
    "version": 3
   },
   "file_extension": ".py",
   "mimetype": "text/x-python",
   "name": "python",
   "nbconvert_exporter": "python",
   "pygments_lexer": "ipython3",
   "version": "3.8.15"
  }
 },
 "nbformat": 4,
 "nbformat_minor": 5
}
