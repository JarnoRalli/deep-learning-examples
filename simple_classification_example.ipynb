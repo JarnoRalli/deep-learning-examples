{
 "cells": [
  {
   "cell_type": "markdown",
   "id": "ad3cbe91",
   "metadata": {},
   "source": [
    "# Simple Linear Classification Example\n",
    "\n",
    "This example uses the breast cancer data from Sklearn to train a simple binary classifier to predict whether the sample contains cancer."
   ]
  },
  {
   "cell_type": "code",
   "execution_count": 1,
   "id": "c5060fe7",
   "metadata": {},
   "outputs": [
    {
     "name": "stdout",
     "output_type": "stream",
     "text": [
      "tensorflow version: 2.6.0\n"
     ]
    }
   ],
   "source": [
    "import os\n",
    "os.environ['TF_CPP_MIN_LOG_LEVEL'] = '3' # Reduce TF verbosity\n",
    "import tensorflow as tf\n",
    "tf.get_logger().setLevel('INFO') # Reduce TF verbosity\n",
    "print(f\"tensorflow version: {tf.__version__}\")\n",
    "\n",
    "from sklearn.model_selection import train_test_split\n",
    "from sklearn.preprocessing import StandardScaler\n",
    "\n",
    "import matplotlib.pyplot as plt"
   ]
  },
  {
   "cell_type": "code",
   "execution_count": 2,
   "id": "b4c28a12",
   "metadata": {},
   "outputs": [
    {
     "name": "stdout",
     "output_type": "stream",
     "text": [
      "Type of data: <class 'sklearn.utils.Bunch'>\n",
      "Keys: dict_keys(['data', 'target', 'frame', 'target_names', 'DESCR', 'feature_names', 'filename', 'data_module'])\n",
      "Shape of the data: (569, 30)\n",
      "Shape of the target: (569,)\n",
      "Feature names: ['mean radius' 'mean texture' 'mean perimeter' 'mean area'\n",
      " 'mean smoothness' 'mean compactness' 'mean concavity'\n",
      " 'mean concave points' 'mean symmetry' 'mean fractal dimension'\n",
      " 'radius error' 'texture error' 'perimeter error' 'area error'\n",
      " 'smoothness error' 'compactness error' 'concavity error'\n",
      " 'concave points error' 'symmetry error' 'fractal dimension error'\n",
      " 'worst radius' 'worst texture' 'worst perimeter' 'worst area'\n",
      " 'worst smoothness' 'worst compactness' 'worst concavity'\n",
      " 'worst concave points' 'worst symmetry' 'worst fractal dimension']\n",
      "Target names: ['malignant' 'benign']\n"
     ]
    }
   ],
   "source": [
    "#Load the breast cancer data\n",
    "from sklearn.datasets import load_breast_cancer\n",
    "data = load_breast_cancer()\n",
    "\n",
    "# Check type of data and print the keys\n",
    "print(f\"Type of data: {type(data)}\")\n",
    "print(f\"Keys: {data.keys()}\")\n",
    "print(f\"Shape of the data: {data.data.shape}\")\n",
    "print(f\"Shape of the target: {data.target.shape}\")\n",
    "print(f\"Feature names: {data.feature_names}\")\n",
    "print(f\"Target names: {data.target_names}\")"
   ]
  },
  {
   "cell_type": "code",
   "execution_count": 3,
   "id": "3832c942",
   "metadata": {},
   "outputs": [],
   "source": [
    "# Split input features and target into train- and test sets\n",
    "X_train, X_test, y_train, y_test = train_test_split(data.data, data.target, test_size=0.33)\n",
    "N, D = X_train.shape\n",
    "\n",
    "# Scale the data\n",
    "scaler = StandardScaler()\n",
    "X_train = scaler.fit_transform(X_train)\n",
    "X_test = scaler.fit_transform(X_test)"
   ]
  },
  {
   "cell_type": "code",
   "execution_count": 4,
   "id": "a335b791",
   "metadata": {},
   "outputs": [
    {
     "name": "stdout",
     "output_type": "stream",
     "text": [
      "Model: \"sequential\"\n",
      "_________________________________________________________________\n",
      "Layer (type)                 Output Shape              Param #   \n",
      "=================================================================\n",
      "dense (Dense)                (None, 1)                 31        \n",
      "=================================================================\n",
      "Total params: 31\n",
      "Trainable params: 31\n",
      "Non-trainable params: 0\n",
      "_________________________________________________________________\n"
     ]
    }
   ],
   "source": [
    "# Create the model\n",
    "model = tf.keras.models.Sequential([\n",
    "    tf.keras.layers.Input(shape=(D,)),\n",
    "    tf.keras.layers.Dense(1, activation='sigmoid')\n",
    "])\n",
    "\n",
    "model.summary()"
   ]
  },
  {
   "cell_type": "code",
   "execution_count": 5,
   "id": "76c3ef4d",
   "metadata": {},
   "outputs": [
    {
     "name": "stdout",
     "output_type": "stream",
     "text": [
      "Epoch 1/100\n",
      "12/12 [==============================] - 1s 13ms/step - loss: 0.6931 - accuracy: 0.5564 - val_loss: 0.6194 - val_accuracy: 0.6436\n",
      "Epoch 2/100\n",
      "12/12 [==============================] - 0s 5ms/step - loss: 0.6159 - accuracy: 0.6457 - val_loss: 0.5522 - val_accuracy: 0.7287\n",
      "Epoch 3/100\n",
      "12/12 [==============================] - 0s 4ms/step - loss: 0.5475 - accuracy: 0.7297 - val_loss: 0.4959 - val_accuracy: 0.7606\n",
      "Epoch 4/100\n",
      "12/12 [==============================] - 0s 4ms/step - loss: 0.4912 - accuracy: 0.7927 - val_loss: 0.4486 - val_accuracy: 0.8191\n",
      "Epoch 5/100\n",
      "12/12 [==============================] - 0s 5ms/step - loss: 0.4439 - accuracy: 0.8714 - val_loss: 0.4095 - val_accuracy: 0.8723\n",
      "Epoch 6/100\n",
      "12/12 [==============================] - 0s 4ms/step - loss: 0.4047 - accuracy: 0.8845 - val_loss: 0.3775 - val_accuracy: 0.9043\n",
      "Epoch 7/100\n",
      "12/12 [==============================] - 0s 4ms/step - loss: 0.3728 - accuracy: 0.9134 - val_loss: 0.3506 - val_accuracy: 0.9255\n",
      "Epoch 8/100\n",
      "12/12 [==============================] - 0s 4ms/step - loss: 0.3462 - accuracy: 0.9239 - val_loss: 0.3280 - val_accuracy: 0.9362\n",
      "Epoch 9/100\n",
      "12/12 [==============================] - 0s 5ms/step - loss: 0.3231 - accuracy: 0.9291 - val_loss: 0.3095 - val_accuracy: 0.9362\n",
      "Epoch 10/100\n",
      "12/12 [==============================] - 0s 4ms/step - loss: 0.3044 - accuracy: 0.9370 - val_loss: 0.2933 - val_accuracy: 0.9415\n",
      "Epoch 11/100\n",
      "12/12 [==============================] - 0s 4ms/step - loss: 0.2878 - accuracy: 0.9344 - val_loss: 0.2797 - val_accuracy: 0.9468\n",
      "Epoch 12/100\n",
      "12/12 [==============================] - 0s 5ms/step - loss: 0.2740 - accuracy: 0.9344 - val_loss: 0.2676 - val_accuracy: 0.9415\n",
      "Epoch 13/100\n",
      "12/12 [==============================] - 0s 4ms/step - loss: 0.2619 - accuracy: 0.9475 - val_loss: 0.2568 - val_accuracy: 0.9468\n",
      "Epoch 14/100\n",
      "12/12 [==============================] - 0s 4ms/step - loss: 0.2510 - accuracy: 0.9501 - val_loss: 0.2476 - val_accuracy: 0.9468\n",
      "Epoch 15/100\n",
      "12/12 [==============================] - 0s 4ms/step - loss: 0.2417 - accuracy: 0.9501 - val_loss: 0.2391 - val_accuracy: 0.9415\n",
      "Epoch 16/100\n",
      "12/12 [==============================] - 0s 4ms/step - loss: 0.2329 - accuracy: 0.9528 - val_loss: 0.2318 - val_accuracy: 0.9468\n",
      "Epoch 17/100\n",
      "12/12 [==============================] - 0s 4ms/step - loss: 0.2255 - accuracy: 0.9528 - val_loss: 0.2250 - val_accuracy: 0.9468\n",
      "Epoch 18/100\n",
      "12/12 [==============================] - 0s 5ms/step - loss: 0.2187 - accuracy: 0.9554 - val_loss: 0.2189 - val_accuracy: 0.9468\n",
      "Epoch 19/100\n",
      "12/12 [==============================] - 0s 5ms/step - loss: 0.2125 - accuracy: 0.9554 - val_loss: 0.2133 - val_accuracy: 0.9468\n",
      "Epoch 20/100\n",
      "12/12 [==============================] - 0s 5ms/step - loss: 0.2068 - accuracy: 0.9554 - val_loss: 0.2082 - val_accuracy: 0.9468\n",
      "Epoch 21/100\n",
      "12/12 [==============================] - 0s 5ms/step - loss: 0.2016 - accuracy: 0.9554 - val_loss: 0.2035 - val_accuracy: 0.9468\n",
      "Epoch 22/100\n",
      "12/12 [==============================] - 0s 4ms/step - loss: 0.1968 - accuracy: 0.9580 - val_loss: 0.1991 - val_accuracy: 0.9468\n",
      "Epoch 23/100\n",
      "12/12 [==============================] - 0s 5ms/step - loss: 0.1925 - accuracy: 0.9580 - val_loss: 0.1950 - val_accuracy: 0.9468\n",
      "Epoch 24/100\n",
      "12/12 [==============================] - 0s 4ms/step - loss: 0.1883 - accuracy: 0.9580 - val_loss: 0.1912 - val_accuracy: 0.9521\n",
      "Epoch 25/100\n",
      "12/12 [==============================] - 0s 4ms/step - loss: 0.1845 - accuracy: 0.9580 - val_loss: 0.1877 - val_accuracy: 0.9521\n",
      "Epoch 26/100\n",
      "12/12 [==============================] - 0s 5ms/step - loss: 0.1810 - accuracy: 0.9554 - val_loss: 0.1842 - val_accuracy: 0.9521\n",
      "Epoch 27/100\n",
      "12/12 [==============================] - 0s 4ms/step - loss: 0.1775 - accuracy: 0.9554 - val_loss: 0.1810 - val_accuracy: 0.9521\n",
      "Epoch 28/100\n",
      "12/12 [==============================] - 0s 4ms/step - loss: 0.1744 - accuracy: 0.9554 - val_loss: 0.1780 - val_accuracy: 0.9521\n",
      "Epoch 29/100\n",
      "12/12 [==============================] - 0s 4ms/step - loss: 0.1714 - accuracy: 0.9580 - val_loss: 0.1753 - val_accuracy: 0.9521\n",
      "Epoch 30/100\n",
      "12/12 [==============================] - 0s 4ms/step - loss: 0.1687 - accuracy: 0.9580 - val_loss: 0.1725 - val_accuracy: 0.9521\n",
      "Epoch 31/100\n",
      "12/12 [==============================] - 0s 5ms/step - loss: 0.1660 - accuracy: 0.9580 - val_loss: 0.1699 - val_accuracy: 0.9574\n",
      "Epoch 32/100\n",
      "12/12 [==============================] - 0s 4ms/step - loss: 0.1634 - accuracy: 0.9580 - val_loss: 0.1676 - val_accuracy: 0.9574\n",
      "Epoch 33/100\n",
      "12/12 [==============================] - 0s 4ms/step - loss: 0.1611 - accuracy: 0.9580 - val_loss: 0.1653 - val_accuracy: 0.9574\n",
      "Epoch 34/100\n",
      "12/12 [==============================] - 0s 4ms/step - loss: 0.1588 - accuracy: 0.9580 - val_loss: 0.1630 - val_accuracy: 0.9574\n",
      "Epoch 35/100\n",
      "12/12 [==============================] - 0s 4ms/step - loss: 0.1565 - accuracy: 0.9580 - val_loss: 0.1610 - val_accuracy: 0.9574\n",
      "Epoch 36/100\n",
      "12/12 [==============================] - 0s 4ms/step - loss: 0.1545 - accuracy: 0.9606 - val_loss: 0.1589 - val_accuracy: 0.9574\n",
      "Epoch 37/100\n",
      "12/12 [==============================] - 0s 4ms/step - loss: 0.1525 - accuracy: 0.9633 - val_loss: 0.1569 - val_accuracy: 0.9574\n",
      "Epoch 38/100\n",
      "12/12 [==============================] - 0s 4ms/step - loss: 0.1505 - accuracy: 0.9633 - val_loss: 0.1551 - val_accuracy: 0.9574\n",
      "Epoch 39/100\n",
      "12/12 [==============================] - 0s 5ms/step - loss: 0.1487 - accuracy: 0.9633 - val_loss: 0.1533 - val_accuracy: 0.9574\n",
      "Epoch 40/100\n",
      "12/12 [==============================] - 0s 4ms/step - loss: 0.1470 - accuracy: 0.9633 - val_loss: 0.1515 - val_accuracy: 0.9574\n",
      "Epoch 41/100\n",
      "12/12 [==============================] - 0s 4ms/step - loss: 0.1453 - accuracy: 0.9633 - val_loss: 0.1499 - val_accuracy: 0.9574\n",
      "Epoch 42/100\n",
      "12/12 [==============================] - 0s 4ms/step - loss: 0.1436 - accuracy: 0.9633 - val_loss: 0.1483 - val_accuracy: 0.9574\n",
      "Epoch 43/100\n",
      "12/12 [==============================] - 0s 5ms/step - loss: 0.1420 - accuracy: 0.9633 - val_loss: 0.1468 - val_accuracy: 0.9574\n",
      "Epoch 44/100\n",
      "12/12 [==============================] - 0s 5ms/step - loss: 0.1405 - accuracy: 0.9633 - val_loss: 0.1453 - val_accuracy: 0.9574\n",
      "Epoch 45/100\n",
      "12/12 [==============================] - 0s 4ms/step - loss: 0.1390 - accuracy: 0.9633 - val_loss: 0.1439 - val_accuracy: 0.9574\n",
      "Epoch 46/100\n",
      "12/12 [==============================] - 0s 5ms/step - loss: 0.1377 - accuracy: 0.9633 - val_loss: 0.1424 - val_accuracy: 0.9574\n",
      "Epoch 47/100\n",
      "12/12 [==============================] - 0s 4ms/step - loss: 0.1363 - accuracy: 0.9659 - val_loss: 0.1411 - val_accuracy: 0.9574\n",
      "Epoch 48/100\n",
      "12/12 [==============================] - 0s 4ms/step - loss: 0.1349 - accuracy: 0.9659 - val_loss: 0.1398 - val_accuracy: 0.9574\n",
      "Epoch 49/100\n",
      "12/12 [==============================] - 0s 5ms/step - loss: 0.1336 - accuracy: 0.9659 - val_loss: 0.1385 - val_accuracy: 0.9574\n",
      "Epoch 50/100\n",
      "12/12 [==============================] - 0s 5ms/step - loss: 0.1324 - accuracy: 0.9659 - val_loss: 0.1373 - val_accuracy: 0.9574\n",
      "Epoch 51/100\n",
      "12/12 [==============================] - 0s 4ms/step - loss: 0.1312 - accuracy: 0.9659 - val_loss: 0.1362 - val_accuracy: 0.9574\n",
      "Epoch 52/100\n",
      "12/12 [==============================] - 0s 4ms/step - loss: 0.1300 - accuracy: 0.9685 - val_loss: 0.1350 - val_accuracy: 0.9574\n",
      "Epoch 53/100\n",
      "12/12 [==============================] - 0s 4ms/step - loss: 0.1289 - accuracy: 0.9685 - val_loss: 0.1340 - val_accuracy: 0.9574\n",
      "Epoch 54/100\n",
      "12/12 [==============================] - 0s 4ms/step - loss: 0.1278 - accuracy: 0.9685 - val_loss: 0.1329 - val_accuracy: 0.9574\n",
      "Epoch 55/100\n",
      "12/12 [==============================] - 0s 4ms/step - loss: 0.1267 - accuracy: 0.9685 - val_loss: 0.1319 - val_accuracy: 0.9574\n",
      "Epoch 56/100\n",
      "12/12 [==============================] - 0s 4ms/step - loss: 0.1257 - accuracy: 0.9711 - val_loss: 0.1308 - val_accuracy: 0.9574\n",
      "Epoch 57/100\n",
      "12/12 [==============================] - 0s 5ms/step - loss: 0.1246 - accuracy: 0.9738 - val_loss: 0.1298 - val_accuracy: 0.9574\n",
      "Epoch 58/100\n",
      "12/12 [==============================] - 0s 4ms/step - loss: 0.1237 - accuracy: 0.9738 - val_loss: 0.1289 - val_accuracy: 0.9574\n"
     ]
    },
    {
     "name": "stdout",
     "output_type": "stream",
     "text": [
      "Epoch 59/100\n",
      "12/12 [==============================] - 0s 5ms/step - loss: 0.1227 - accuracy: 0.9738 - val_loss: 0.1280 - val_accuracy: 0.9574\n",
      "Epoch 60/100\n",
      "12/12 [==============================] - 0s 5ms/step - loss: 0.1218 - accuracy: 0.9738 - val_loss: 0.1271 - val_accuracy: 0.9574\n",
      "Epoch 61/100\n",
      "12/12 [==============================] - 0s 4ms/step - loss: 0.1208 - accuracy: 0.9738 - val_loss: 0.1262 - val_accuracy: 0.9574\n",
      "Epoch 62/100\n",
      "12/12 [==============================] - 0s 4ms/step - loss: 0.1200 - accuracy: 0.9738 - val_loss: 0.1254 - val_accuracy: 0.9574\n",
      "Epoch 63/100\n",
      "12/12 [==============================] - 0s 5ms/step - loss: 0.1191 - accuracy: 0.9738 - val_loss: 0.1246 - val_accuracy: 0.9574\n",
      "Epoch 64/100\n",
      "12/12 [==============================] - 0s 5ms/step - loss: 0.1183 - accuracy: 0.9738 - val_loss: 0.1238 - val_accuracy: 0.9574\n",
      "Epoch 65/100\n",
      "12/12 [==============================] - 0s 5ms/step - loss: 0.1174 - accuracy: 0.9764 - val_loss: 0.1230 - val_accuracy: 0.9574\n",
      "Epoch 66/100\n",
      "12/12 [==============================] - 0s 5ms/step - loss: 0.1166 - accuracy: 0.9764 - val_loss: 0.1222 - val_accuracy: 0.9574\n",
      "Epoch 67/100\n",
      "12/12 [==============================] - 0s 5ms/step - loss: 0.1159 - accuracy: 0.9764 - val_loss: 0.1215 - val_accuracy: 0.9574\n",
      "Epoch 68/100\n",
      "12/12 [==============================] - 0s 4ms/step - loss: 0.1151 - accuracy: 0.9764 - val_loss: 0.1207 - val_accuracy: 0.9574\n",
      "Epoch 69/100\n",
      "12/12 [==============================] - 0s 4ms/step - loss: 0.1143 - accuracy: 0.9764 - val_loss: 0.1201 - val_accuracy: 0.9574\n",
      "Epoch 70/100\n",
      "12/12 [==============================] - 0s 5ms/step - loss: 0.1136 - accuracy: 0.9764 - val_loss: 0.1194 - val_accuracy: 0.9574\n",
      "Epoch 71/100\n",
      "12/12 [==============================] - 0s 5ms/step - loss: 0.1129 - accuracy: 0.9764 - val_loss: 0.1187 - val_accuracy: 0.9574\n",
      "Epoch 72/100\n",
      "12/12 [==============================] - 0s 4ms/step - loss: 0.1122 - accuracy: 0.9764 - val_loss: 0.1180 - val_accuracy: 0.9574\n",
      "Epoch 73/100\n",
      "12/12 [==============================] - 0s 4ms/step - loss: 0.1115 - accuracy: 0.9764 - val_loss: 0.1175 - val_accuracy: 0.9574\n",
      "Epoch 74/100\n",
      "12/12 [==============================] - 0s 4ms/step - loss: 0.1109 - accuracy: 0.9764 - val_loss: 0.1169 - val_accuracy: 0.9574\n",
      "Epoch 75/100\n",
      "12/12 [==============================] - 0s 4ms/step - loss: 0.1102 - accuracy: 0.9764 - val_loss: 0.1162 - val_accuracy: 0.9574\n",
      "Epoch 76/100\n",
      "12/12 [==============================] - 0s 5ms/step - loss: 0.1096 - accuracy: 0.9764 - val_loss: 0.1156 - val_accuracy: 0.9574\n",
      "Epoch 77/100\n",
      "12/12 [==============================] - 0s 5ms/step - loss: 0.1090 - accuracy: 0.9764 - val_loss: 0.1151 - val_accuracy: 0.9574\n",
      "Epoch 78/100\n",
      "12/12 [==============================] - 0s 5ms/step - loss: 0.1084 - accuracy: 0.9764 - val_loss: 0.1145 - val_accuracy: 0.9574\n",
      "Epoch 79/100\n",
      "12/12 [==============================] - 0s 5ms/step - loss: 0.1078 - accuracy: 0.9764 - val_loss: 0.1140 - val_accuracy: 0.9574\n",
      "Epoch 80/100\n",
      "12/12 [==============================] - 0s 5ms/step - loss: 0.1072 - accuracy: 0.9764 - val_loss: 0.1134 - val_accuracy: 0.9574\n",
      "Epoch 81/100\n",
      "12/12 [==============================] - 0s 5ms/step - loss: 0.1066 - accuracy: 0.9764 - val_loss: 0.1130 - val_accuracy: 0.9574\n",
      "Epoch 82/100\n",
      "12/12 [==============================] - 0s 4ms/step - loss: 0.1060 - accuracy: 0.9764 - val_loss: 0.1125 - val_accuracy: 0.9574\n",
      "Epoch 83/100\n",
      "12/12 [==============================] - 0s 4ms/step - loss: 0.1055 - accuracy: 0.9764 - val_loss: 0.1120 - val_accuracy: 0.9574\n",
      "Epoch 84/100\n",
      "12/12 [==============================] - 0s 5ms/step - loss: 0.1049 - accuracy: 0.9764 - val_loss: 0.1115 - val_accuracy: 0.9574\n",
      "Epoch 85/100\n",
      "12/12 [==============================] - 0s 5ms/step - loss: 0.1044 - accuracy: 0.9764 - val_loss: 0.1110 - val_accuracy: 0.9574\n",
      "Epoch 86/100\n",
      "12/12 [==============================] - 0s 4ms/step - loss: 0.1039 - accuracy: 0.9764 - val_loss: 0.1106 - val_accuracy: 0.9574\n",
      "Epoch 87/100\n",
      "12/12 [==============================] - 0s 5ms/step - loss: 0.1034 - accuracy: 0.9764 - val_loss: 0.1101 - val_accuracy: 0.9574\n",
      "Epoch 88/100\n",
      "12/12 [==============================] - 0s 4ms/step - loss: 0.1029 - accuracy: 0.9764 - val_loss: 0.1097 - val_accuracy: 0.9574\n",
      "Epoch 89/100\n",
      "12/12 [==============================] - 0s 5ms/step - loss: 0.1024 - accuracy: 0.9764 - val_loss: 0.1092 - val_accuracy: 0.9574\n",
      "Epoch 90/100\n",
      "12/12 [==============================] - 0s 5ms/step - loss: 0.1019 - accuracy: 0.9764 - val_loss: 0.1087 - val_accuracy: 0.9574\n",
      "Epoch 91/100\n",
      "12/12 [==============================] - 0s 5ms/step - loss: 0.1014 - accuracy: 0.9764 - val_loss: 0.1084 - val_accuracy: 0.9574\n",
      "Epoch 92/100\n",
      "12/12 [==============================] - 0s 5ms/step - loss: 0.1010 - accuracy: 0.9764 - val_loss: 0.1079 - val_accuracy: 0.9574\n",
      "Epoch 93/100\n",
      "12/12 [==============================] - 0s 5ms/step - loss: 0.1005 - accuracy: 0.9764 - val_loss: 0.1076 - val_accuracy: 0.9574\n",
      "Epoch 94/100\n",
      "12/12 [==============================] - 0s 5ms/step - loss: 0.1001 - accuracy: 0.9764 - val_loss: 0.1072 - val_accuracy: 0.9574\n",
      "Epoch 95/100\n",
      "12/12 [==============================] - 0s 5ms/step - loss: 0.0997 - accuracy: 0.9764 - val_loss: 0.1069 - val_accuracy: 0.9574\n",
      "Epoch 96/100\n",
      "12/12 [==============================] - 0s 5ms/step - loss: 0.0992 - accuracy: 0.9764 - val_loss: 0.1065 - val_accuracy: 0.9574\n",
      "Epoch 97/100\n",
      "12/12 [==============================] - 0s 5ms/step - loss: 0.0988 - accuracy: 0.9764 - val_loss: 0.1060 - val_accuracy: 0.9521\n",
      "Epoch 98/100\n",
      "12/12 [==============================] - 0s 5ms/step - loss: 0.0984 - accuracy: 0.9764 - val_loss: 0.1057 - val_accuracy: 0.9574\n",
      "Epoch 99/100\n",
      "12/12 [==============================] - 0s 4ms/step - loss: 0.0980 - accuracy: 0.9764 - val_loss: 0.1054 - val_accuracy: 0.9521\n",
      "Epoch 100/100\n",
      "12/12 [==============================] - 0s 4ms/step - loss: 0.0976 - accuracy: 0.9764 - val_loss: 0.1050 - val_accuracy: 0.9521\n"
     ]
    }
   ],
   "source": [
    "model.compile(\n",
    "    optimizer='adam',\n",
    "    loss='binary_crossentropy',\n",
    "    metrics=['accuracy'])\n",
    "\n",
    "# Train the model\n",
    "r = model.fit(X_train, y_train, validation_data=(X_test, y_test), epochs=100)"
   ]
  },
  {
   "cell_type": "code",
   "execution_count": 6,
   "id": "3865023c",
   "metadata": {},
   "outputs": [
    {
     "name": "stdout",
     "output_type": "stream",
     "text": [
      "12/12 [==============================] - 0s 2ms/step - loss: 0.0973 - accuracy: 0.9764\n",
      "Train score: [0.0972985103726387, 0.9763779640197754]\n",
      "6/6 [==============================] - 0s 2ms/step - loss: 0.1050 - accuracy: 0.9521\n",
      "Test score: [0.10498710721731186, 0.9521276354789734]\n"
     ]
    }
   ],
   "source": [
    "# Evaluate the model\n",
    "print(f\"Train score: {model.evaluate(X_train, y_train)}\")\n",
    "print(f\"Test score: {model.evaluate(X_test, y_test)}\")"
   ]
  },
  {
   "cell_type": "code",
   "execution_count": 7,
   "id": "dcb1efa8",
   "metadata": {},
   "outputs": [
    {
     "name": "stdout",
     "output_type": "stream",
     "text": [
      "Layer weights: [<tf.Variable 'dense/kernel:0' shape=(30, 1) dtype=float32, numpy=\n",
      "array([[-0.3702999 ],\n",
      "       [-0.40736818],\n",
      "       [-0.29944852],\n",
      "       [-0.3097781 ],\n",
      "       [-0.00170927],\n",
      "       [ 0.11645979],\n",
      "       [-0.33081937],\n",
      "       [-0.65532684],\n",
      "       [-0.03708185],\n",
      "       [ 0.0814961 ],\n",
      "       [-0.00286496],\n",
      "       [-0.06598173],\n",
      "       [-0.53549385],\n",
      "       [-0.73899126],\n",
      "       [ 0.15505415],\n",
      "       [ 0.09804538],\n",
      "       [ 0.02972806],\n",
      "       [ 0.00935297],\n",
      "       [-0.30322513],\n",
      "       [ 0.3820191 ],\n",
      "       [-0.5600164 ],\n",
      "       [-0.3702078 ],\n",
      "       [-0.6996638 ],\n",
      "       [-0.20665441],\n",
      "       [-0.7620285 ],\n",
      "       [-0.6230919 ],\n",
      "       [-0.15796661],\n",
      "       [-0.76213086],\n",
      "       [ 0.05083484],\n",
      "       [ 0.06752412]], dtype=float32)>, <tf.Variable 'dense/bias:0' shape=(1,) dtype=float32, numpy=array([0.18612032], dtype=float32)>]\n",
      "Layer bias: <tf.Variable 'dense/bias:0' shape=(1,) dtype=float32, numpy=array([0.18612032], dtype=float32)>\n",
      "---\n"
     ]
    }
   ],
   "source": [
    "# Model weights\n",
    "for layer in model.layers:\n",
    "    print(f\"Layer weights: {layer.weights}\")\n",
    "    print(f\"Layer bias: {layer.bias}\")\n",
    "    print(\"---\")"
   ]
  },
  {
   "cell_type": "code",
   "execution_count": 8,
   "id": "a0613a87",
   "metadata": {},
   "outputs": [
    {
     "data": {
      "text/plain": [
       "<matplotlib.legend.Legend at 0x7f11a85e8d60>"
      ]
     },
     "execution_count": 8,
     "metadata": {},
     "output_type": "execute_result"
    },
    {
     "data": {
      "image/png": "[encoded data removed]",
      "text/plain": [
       "<Figure size 432x288 with 1 Axes>"
      ]
     },
     "metadata": {
      "needs_background": "light"
     },
     "output_type": "display_data"
    }
   ],
   "source": [
    "# Plot loss\n",
    "plt.plot(r.history['loss'], label='Loss')\n",
    "plt.plot(r.history['val_loss'], label='Validation loss')\n",
    "plt.legend()"
   ]
  },
  {
   "cell_type": "code",
   "execution_count": 9,
   "id": "d33d515b",
   "metadata": {},
   "outputs": [
    {
     "data": {
      "text/plain": [
       "[<matplotlib.lines.Line2D at 0x7f11a8539850>]"
      ]
     },
     "execution_count": 9,
     "metadata": {},
     "output_type": "execute_result"
    },
    {
     "data": {
      "image/png": "[encoded data removed]",
      "text/plain": [
       "<Figure size 432x288 with 1 Axes>"
      ]
     },
     "metadata": {
      "needs_background": "light"
     },
     "output_type": "display_data"
    }
   ],
   "source": [
    "# Plot accuracy\n",
    "plt.plot(r.history['accuracy'], label='Accuracy')\n",
    "plt.plot(r.history['val_accuracy'], label='Validation accuracy')"
   ]
  },
  {
   "cell_type": "code",
   "execution_count": 10,
   "id": "1fe07479",
   "metadata": {},
   "outputs": [
    {
     "name": "stdout",
     "output_type": "stream",
     "text": [
      "6/6 [==============================] - 0s 2ms/step - loss: 0.1050 - accuracy: 0.9521\n",
      "Model accuracy with the test data: [0.10498710721731186, 0.9521276354789734]\n"
     ]
    }
   ],
   "source": [
    "print(f\"Model accuracy with the test data: {model.evaluate(X_test, y_test)}\")"
   ]
  }
 ],
 "metadata": {
  "kernelspec": {
   "display_name": "Python 3 (ipykernel)",
   "language": "python",
   "name": "python3"
  },
  "language_info": {
   "codemirror_mode": {
    "name": "ipython",
    "version": 3
   },
   "file_extension": ".py",
   "mimetype": "text/x-python",
   "name": "python",
   "nbconvert_exporter": "python",
   "pygments_lexer": "ipython3",
   "version": "3.8.12"
  }
 },
 "nbformat": 4,
 "nbformat_minor": 5
}
