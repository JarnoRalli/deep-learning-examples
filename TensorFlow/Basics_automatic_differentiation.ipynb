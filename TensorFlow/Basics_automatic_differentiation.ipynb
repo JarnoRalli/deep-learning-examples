{
 "cells": [
  {
   "cell_type": "markdown",
   "id": "b3075e48",
   "metadata": {},
   "source": [
    "# Automatic differentiation examples using TensorFlow"
   ]
  },
  {
   "cell_type": "code",
   "execution_count": 1,
   "id": "ebb6430e",
   "metadata": {},
   "outputs": [
    {
     "name": "stdout",
     "output_type": "stream",
     "text": [
      "tensorflow version: 2.10.0\n"
     ]
    }
   ],
   "source": [
    "import os\n",
    "os.environ['TF_CPP_MIN_LOG_LEVEL'] = '3' # Reduce TF verbosity\n",
    "import tensorflow as tf\n",
    "tf.get_logger().setLevel('INFO') # Reduce TF verbosity\n",
    "print(f\"tensorflow version: {tf.__version__}\")\n",
    "\n",
    "import matplotlib.pyplot as plt\n",
    "import numpy as np"
   ]
  },
  {
   "cell_type": "markdown",
   "id": "27be9df3",
   "metadata": {},
   "source": [
    "## Automatic differentiation using GradientTape"
   ]
  },
  {
   "cell_type": "markdown",
   "id": "0dac849f",
   "metadata": {},
   "source": [
    "Following example will not work, as 'x' has not been defined to be a tf-variable"
   ]
  },
  {
   "cell_type": "code",
   "execution_count": 2,
   "id": "ae06de04",
   "metadata": {},
   "outputs": [
    {
     "name": "stdout",
     "output_type": "stream",
     "text": [
      "Derivative df/dx of f(x)=x^2 with x=2 is None\n"
     ]
    }
   ],
   "source": [
    "# Assign a value to x\n",
    "x = tf.constant(2.0)\n",
    "\n",
    "# GradientTape records operations for automatic differentiation\n",
    "with tf.GradientTape(persistent=False, watch_accessed_variables=True) as tape:\n",
    "    # f(x) = x^2\n",
    "    f = x ** 2\n",
    "    \n",
    "    # Print the value of the gradient\n",
    "    print(f\"Derivative df/dx of f(x)=x^2 with x=2 is {tape.gradient(f, x)}\")"
   ]
  },
  {
   "cell_type": "markdown",
   "id": "9698d0f2",
   "metadata": {},
   "source": [
    "Following example works, as 'x' has been defined to be a tf-variable"
   ]
  },
  {
   "cell_type": "code",
   "execution_count": 3,
   "id": "78309e0e",
   "metadata": {},
   "outputs": [
    {
     "name": "stdout",
     "output_type": "stream",
     "text": [
      "Derivative df/dx of f(x)=x^2 with x=2 is 4.0\n"
     ]
    }
   ],
   "source": [
    "# Assign a value to x and make it a tensorflow variable\n",
    "x = tf.constant(2.0)\n",
    "x = tf.Variable(x)\n",
    "\n",
    "# GradientTape records operations for automatic differentiation\n",
    "with tf.GradientTape(persistent=False, watch_accessed_variables=True) as tape:\n",
    "    # f(x) = x^2\n",
    "    f = x ** 2\n",
    "    \n",
    "    # Print the value of the gradient\n",
    "    print(f\"Derivative df/dx of f(x)=x^2 with x=2 is {tape.gradient(f, x)}\")"
   ]
  },
  {
   "cell_type": "markdown",
   "id": "16b77006",
   "metadata": {},
   "source": [
    "Instead of explicitly defining 'x' as a tf-variable, we can instruct the tape to 'watch' the variable."
   ]
  },
  {
   "cell_type": "code",
   "execution_count": 4,
   "id": "85617728",
   "metadata": {},
   "outputs": [
    {
     "name": "stdout",
     "output_type": "stream",
     "text": [
      "Derivative df/dx of f(x)=x^2 with x=2 is 4.0\n"
     ]
    }
   ],
   "source": [
    "# Assign a value to x\n",
    "x = tf.constant(2.0)\n",
    "\n",
    "# GradientTape records operations for automatic differentiation\n",
    "with tf.GradientTape(persistent=False, watch_accessed_variables=True) as tape:\n",
    "    tape.watch(x)\n",
    "    \n",
    "    # f(x) = x^2\n",
    "    f = x ** 2\n",
    "    \n",
    "    # Print the value of the gradient\n",
    "    print(f\"Derivative df/dx of f(x)=x^2 with x=2 is {tape.gradient(f, x)}\")"
   ]
  },
  {
   "cell_type": "markdown",
   "id": "b97b787c",
   "metadata": {},
   "source": [
    "## Chain rule example\n",
    "\n",
    "Chain rule expresses the derivative of a composition of functions. For example, if $h(x) = f(g(x))$, then the chain rule is $h' = f'(g(x))g'(x)$ using Lagrange's notation. The chain rule may also be expressed using Leibniz's notation as follows:\n",
    "\n",
    "$$\n",
    "\\frac{dh}{dx} = \\frac{df}{dg} \\cdot \\frac{dg}{dx}\n",
    "$$\n",
    "\n",
    "For example, if $f=0.5 \\cdot g(x)$ and $g(x) = x^2$, then $\\frac{df}{dg}=0.5$ and $\\frac{dg}{dx}=2x$, then the derivative is\n",
    "\n",
    "$$\n",
    "\\frac{dh}{dx} = 0.5 \\cdot 2 \\cdot x = x\n",
    "$$"
   ]
  },
  {
   "cell_type": "code",
   "execution_count": 5,
   "id": "b97f1fa6",
   "metadata": {},
   "outputs": [
    {
     "name": "stdout",
     "output_type": "stream",
     "text": [
      "Derivative df/dx of f(g(x))=0.5*g(x) and g(x)=x^2, with x=2 is 2.0\n"
     ]
    }
   ],
   "source": [
    "# Assign a value to x\n",
    "x = tf.constant(x)\n",
    "x = tf.Variable(x)\n",
    "\n",
    "with tf.GradientTape() as tape:\n",
    "    \n",
    "    g = x ** 2\n",
    "    f = 0.5 * g\n",
    "    \n",
    "    print(f\"Derivative df/dx of f(g(x))=0.5*g(x) and g(x)=x^2, with x=2 is {tape.gradient(f, x)}\")"
   ]
  }
 ],
 "metadata": {
  "kernelspec": {
   "display_name": "Python 3 (ipykernel)",
   "language": "python",
   "name": "python3"
  },
  "language_info": {
   "codemirror_mode": {
    "name": "ipython",
    "version": 3
   },
   "file_extension": ".py",
   "mimetype": "text/x-python",
   "name": "python",
   "nbconvert_exporter": "python",
   "pygments_lexer": "ipython3",
   "version": "3.9.13"
  }
 },
 "nbformat": 4,
 "nbformat_minor": 5
}
