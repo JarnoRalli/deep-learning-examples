{
 "cells": [
  {
   "cell_type": "markdown",
   "id": "f762f3da",
   "metadata": {},
   "source": [
    "# CNN Classification in a Nutshell\n",
    "\n",
    "This example demontrates how global average pooling (GAP) can replace a dense layer in CNN based classification while enabling generation and visualization of class activation maps simultaneously. The input image, size 6x6, is divided into 4 quadrants as follows: \n",
    "\n",
    "$$\n",
    "\\begin{bmatrix}\n",
    "0 & 1 \\\\\n",
    "2 & 3\n",
    "\\end{bmatrix}\n",
    "$$\n",
    "\n",
    "Each of the quadrants can have one of the following objects:\n",
    "\n",
    "* empty, class 0\n",
    "* horizontal line, class 1\n",
    "* vertical line, class 2\n",
    "\n",
    "Following example contains a horizontal line in the 0th quadrant and a vertical line in the 3rd quadrant:\n",
    "\n",
    "$$\n",
    "\\begin{bmatrix}\n",
    "0 & 0 & 0 & 0 & 0 & 0 \\\\\n",
    "1 & 1 & 1 & 0 & 0 & 0 \\\\\n",
    "0 & 0 & 0 & 0 & 0 & 0 \\\\\n",
    "0 & 0 & 0 & 0 & 1 & 0 \\\\\n",
    "0 & 0 & 0 & 0 & 1 & 0 \\\\\n",
    "0 & 0 & 0 & 0 & 1 & 0 \\\\\n",
    "\\end{bmatrix}\n",
    "$$\n",
    "\n",
    "\n",
    "Then we create a simple CNN where the convolutional kernel has a shape $(3, 3, 2)$, i.e. it has two $(3, 3)$ kernels. Each of the kernels is intended to capture either horizontal- or vertical features in the input image. After the convolutional layer we have a global average pooling instead of flattening."
   ]
  },
  {
   "cell_type": "code",
   "execution_count": 1,
   "id": "71882e47",
   "metadata": {},
   "outputs": [
    {
     "name": "stdout",
     "output_type": "stream",
     "text": [
      "tensorflow version: 2.8.0\n"
     ]
    }
   ],
   "source": [
    "from __future__ import print_function, division\n",
    "from builtins import range, input\n",
    "\n",
    "import os\n",
    "os.environ['TF_CPP_MIN_LOG_LEVEL'] = '3' # Reduce TF verbosity\n",
    "import tensorflow as tf\n",
    "tf.get_logger().setLevel('INFO') # Reduce TF verbosity\n",
    "print(f\"tensorflow version: {tf.__version__}\")\n",
    "\n",
    "from tensorflow.keras.models import Model\n",
    "from tensorflow.keras.preprocessing import image\n",
    "from tensorflow.keras.layers import Input, Conv2D, Flatten, Dropout, Dense, GlobalAveragePooling2D, BatchNormalization, MaxPool2D, LeakyReLU\n",
    "import matplotlib.pyplot as plt\n",
    "import numpy as np\n",
    "import scipy as sp\n",
    "import utils\n",
    "import random"
   ]
  },
  {
   "cell_type": "code",
   "execution_count": 2,
   "id": "c9c912e3",
   "metadata": {},
   "outputs": [],
   "source": [
    "def quadrant_center(quadrant):\n",
    "    if quadrant == 0:\n",
    "        return (1, 1)\n",
    "    elif quadrant == 1:\n",
    "        return (1, 4)\n",
    "    elif quadrant == 2:\n",
    "        return (4, 1)\n",
    "    elif quadrant == 3:\n",
    "        return (4, 4)\n",
    "    else:\n",
    "        raise RuntimeError('Quadrant must be between 0..3')\n",
    "\n",
    "def create_image():\n",
    "    '''Creates an image, size (6, 6), that contains 0..4 vertical lines\n",
    "    and 0..4 horizontal lines that are randomly placed at quadrants:\n",
    "    -----\n",
    "    |0|1|\n",
    "    -----\n",
    "    |2|3|\n",
    "    -----\n",
    "    For example,\n",
    "    0 0 0 0 0 0\n",
    "    1 1 1 0 0 0\n",
    "    0 0 0 0 0 0\n",
    "    0 0 0 0 1 0\n",
    "    0 0 0 0 1 0\n",
    "    0 0 0 0 1 0\n",
    "    '''\n",
    "    \n",
    "    nr = np.random.randint(0, 4)\n",
    "    quadrants = random.sample(range(0, 4), nr)\n",
    "    orientation = np.random.randint(1, 3)\n",
    "    \n",
    "    image = np.zeros((6, 6))\n",
    "    y = 0\n",
    "    \n",
    "    for quadrant in quadrants:\n",
    "        (x_, y_) = quadrant_center(quadrant)\n",
    "        y = orientation\n",
    "        \n",
    "        if orientation == 1:\n",
    "            # horizontal line\n",
    "            image[y_, x_-1:x_+2] = 1\n",
    "        elif orientation == 2:\n",
    "            # vertical line\n",
    "            image[y_-1:y_+2, x_,] = 1\n",
    "        else:\n",
    "            raise RuntimeError('Invalid orientation')\n",
    "    \n",
    "    return image, y"
   ]
  },
  {
   "cell_type": "markdown",
   "id": "e05d7a3e",
   "metadata": {},
   "source": [
    "# Create training- and test data"
   ]
  },
  {
   "cell_type": "code",
   "execution_count": 3,
   "id": "c0aeb7d3",
   "metadata": {},
   "outputs": [
    {
     "name": "stdout",
     "output_type": "stream",
     "text": [
      "X_train.shape: (10000, 6, 6)\n",
      "y_train.shape: (10000,)\n",
      "unique values in y_train: [0. 1. 2.]. Number of samples per unique value: [2544 3760 3696]\n"
     ]
    }
   ],
   "source": [
    "nr_training_samples = 10000\n",
    "X_train = np.empty((nr_training_samples, 6, 6))\n",
    "y_train = np.empty((nr_training_samples))\n",
    "\n",
    "X_test = np.empty((100, 6, 6))\n",
    "y_test = np.empty((100))\n",
    "\n",
    "for ind in range(nr_training_samples):\n",
    "    X, y = create_image()\n",
    "    X_train[ind,:] = X\n",
    "    y_train[ind] = y\n",
    "\n",
    "for ind in range(100):\n",
    "    X, y = create_image()\n",
    "    X_test[ind,:] = X\n",
    "    y_test[ind] = y    \n",
    "\n",
    "values, counts = np.unique(y_train, return_counts=True)\n",
    "print(f'X_train.shape: {X_train.shape}')\n",
    "print(f'y_train.shape: {y_train.shape}')\n",
    "print(f'unique values in y_train: {values}. Number of samples per unique value: {counts}')"
   ]
  },
  {
   "cell_type": "markdown",
   "id": "f77d6673",
   "metadata": {},
   "source": [
    "# Display some X_test and y_test values"
   ]
  },
  {
   "cell_type": "code",
   "execution_count": 4,
   "id": "94752cd5",
   "metadata": {},
   "outputs": [
    {
     "name": "stdout",
     "output_type": "stream",
     "text": [
      "X_test: \n",
      "[[0. 1. 0. 0. 1. 0.]\n",
      " [0. 1. 0. 0. 1. 0.]\n",
      " [0. 1. 0. 0. 1. 0.]\n",
      " [0. 0. 0. 0. 0. 0.]\n",
      " [0. 0. 0. 0. 0. 0.]\n",
      " [0. 0. 0. 0. 0. 0.]]\n",
      "y_test: 2.0\n",
      "----------------\n",
      "X_test: \n",
      "[[0. 0. 0. 0. 1. 0.]\n",
      " [0. 0. 0. 0. 1. 0.]\n",
      " [0. 0. 0. 0. 1. 0.]\n",
      " [0. 0. 0. 0. 1. 0.]\n",
      " [0. 0. 0. 0. 1. 0.]\n",
      " [0. 0. 0. 0. 1. 0.]]\n",
      "y_test: 2.0\n",
      "----------------\n",
      "X_test: \n",
      "[[0. 0. 0. 0. 0. 0.]\n",
      " [0. 0. 0. 1. 1. 1.]\n",
      " [0. 0. 0. 0. 0. 0.]\n",
      " [0. 0. 0. 0. 0. 0.]\n",
      " [1. 1. 1. 0. 0. 0.]\n",
      " [0. 0. 0. 0. 0. 0.]]\n",
      "y_test: 1.0\n",
      "----------------\n",
      "X_test: \n",
      "[[0. 0. 0. 0. 0. 0.]\n",
      " [0. 0. 0. 0. 0. 0.]\n",
      " [0. 0. 0. 0. 0. 0.]\n",
      " [0. 0. 0. 0. 0. 0.]\n",
      " [0. 0. 0. 0. 0. 0.]\n",
      " [0. 0. 0. 0. 0. 0.]]\n",
      "y_test: 0.0\n",
      "----------------\n",
      "X_test: \n",
      "[[0. 0. 0. 0. 0. 0.]\n",
      " [0. 0. 0. 1. 1. 1.]\n",
      " [0. 0. 0. 0. 0. 0.]\n",
      " [0. 0. 0. 0. 0. 0.]\n",
      " [0. 0. 0. 1. 1. 1.]\n",
      " [0. 0. 0. 0. 0. 0.]]\n",
      "y_test: 1.0\n",
      "----------------\n"
     ]
    }
   ],
   "source": [
    "for ind in range(5):\n",
    "    print(f'X_test: \\n{X_test[ind]}')\n",
    "    print(f'y_test: {y_test[ind]}')\n",
    "    print('----------------')"
   ]
  },
  {
   "cell_type": "markdown",
   "id": "85dbe5cd",
   "metadata": {},
   "source": [
    "# Create a simple model"
   ]
  },
  {
   "cell_type": "code",
   "execution_count": 5,
   "id": "3a693579",
   "metadata": {},
   "outputs": [
    {
     "name": "stdout",
     "output_type": "stream",
     "text": [
      "Model: \"model\"\n",
      "_________________________________________________________________\n",
      " Layer (type)                Output Shape              Param #   \n",
      "=================================================================\n",
      " input_1 (InputLayer)        [(None, 6, 6, 1)]         0         \n",
      "                                                                 \n",
      " conv2d (Conv2D)             (None, 2, 2, 2)           20        \n",
      "                                                                 \n",
      " batch_normalization (BatchN  (None, 2, 2, 2)          8         \n",
      " ormalization)                                                   \n",
      "                                                                 \n",
      " global_average_pooling2d (G  (None, 2)                0         \n",
      " lobalAveragePooling2D)                                          \n",
      "                                                                 \n",
      " dense (Dense)               (None, 3)                 9         \n",
      "                                                                 \n",
      "=================================================================\n",
      "Total params: 37\n",
      "Trainable params: 33\n",
      "Non-trainable params: 4\n",
      "_________________________________________________________________\n"
     ]
    }
   ],
   "source": [
    "i = Input(shape=(6, 6, 1))\n",
    "l1 = Conv2D(2, (3, 3), activation=LeakyReLU(), padding='valid', strides=(3, 3))(i)\n",
    "l2 = BatchNormalization()(l1)\n",
    "l3 = GlobalAveragePooling2D()(l2)\n",
    "l4 = Dense(3, activation='softmax')(l3)\n",
    "model = Model(i, outputs=l4)\n",
    "model_feature_map = Model(model.input, outputs=l1)\n",
    "\n",
    "model.summary()\n",
    "\n",
    "# Create the model\n",
    "model.compile(\n",
    "    optimizer='adam',\n",
    "    loss='sparse_categorical_crossentropy',\n",
    "    metrics=['accuracy']\n",
    ")"
   ]
  },
  {
   "cell_type": "markdown",
   "id": "403ffe84",
   "metadata": {},
   "source": [
    "# Train the model"
   ]
  },
  {
   "cell_type": "code",
   "execution_count": 6,
   "id": "663d2ef5",
   "metadata": {},
   "outputs": [
    {
     "name": "stdout",
     "output_type": "stream",
     "text": [
      "Epoch 1/10\n",
      "313/313 [==============================] - 2s 4ms/step - loss: 0.6232 - accuracy: 0.8091 - val_loss: 0.6848 - val_accuracy: 1.0000\n",
      "Epoch 2/10\n",
      "313/313 [==============================] - 1s 4ms/step - loss: 0.3694 - accuracy: 0.9903 - val_loss: 0.2706 - val_accuracy: 1.0000\n",
      "Epoch 3/10\n",
      "313/313 [==============================] - 1s 4ms/step - loss: 0.2513 - accuracy: 0.9907 - val_loss: 0.1708 - val_accuracy: 1.0000\n",
      "Epoch 4/10\n",
      "313/313 [==============================] - 1s 4ms/step - loss: 0.1778 - accuracy: 0.9872 - val_loss: 0.1191 - val_accuracy: 1.0000\n",
      "Epoch 5/10\n",
      "313/313 [==============================] - 1s 4ms/step - loss: 0.1322 - accuracy: 0.9958 - val_loss: 0.0846 - val_accuracy: 1.0000\n",
      "Epoch 6/10\n",
      "313/313 [==============================] - 1s 4ms/step - loss: 0.0986 - accuracy: 0.9957 - val_loss: 0.0602 - val_accuracy: 1.0000\n",
      "Epoch 7/10\n",
      "313/313 [==============================] - 1s 4ms/step - loss: 0.0760 - accuracy: 0.9976 - val_loss: 0.0423 - val_accuracy: 1.0000\n",
      "Epoch 8/10\n",
      "313/313 [==============================] - 1s 4ms/step - loss: 0.0596 - accuracy: 0.9973 - val_loss: 0.0302 - val_accuracy: 1.0000\n",
      "Epoch 9/10\n",
      "313/313 [==============================] - 1s 4ms/step - loss: 0.0470 - accuracy: 0.9972 - val_loss: 0.0218 - val_accuracy: 1.0000\n",
      "Epoch 10/10\n",
      "313/313 [==============================] - 1s 4ms/step - loss: 0.0377 - accuracy: 0.9976 - val_loss: 0.0168 - val_accuracy: 1.0000\n"
     ]
    }
   ],
   "source": [
    "# Fit the model\n",
    "r = model.fit(X_train, y_train, validation_data=(X_test, y_test), epochs=10)"
   ]
  },
  {
   "cell_type": "markdown",
   "id": "4a151137",
   "metadata": {},
   "source": [
    "# Show predictions for different inputs"
   ]
  },
  {
   "cell_type": "code",
   "execution_count": 7,
   "id": "554228a3",
   "metadata": {},
   "outputs": [
    {
     "name": "stdout",
     "output_type": "stream",
     "text": [
      "input:\n",
      "[[0. 0. 0. 0. 0. 0.]\n",
      " [0. 0. 0. 0. 0. 0.]\n",
      " [0. 0. 0. 0. 0. 0.]\n",
      " [0. 0. 0. 0. 0. 0.]\n",
      " [0. 0. 0. 0. 0. 0.]\n",
      " [0. 0. 0. 0. 0. 0.]]\n",
      "y: 0\n",
      "predicted y: 0\n",
      "----\n",
      "input:\n",
      "[[0. 0. 0. 0. 0. 0.]\n",
      " [1. 1. 1. 0. 0. 0.]\n",
      " [0. 0. 0. 0. 0. 0.]\n",
      " [0. 0. 0. 0. 0. 0.]\n",
      " [1. 1. 1. 0. 0. 0.]\n",
      " [0. 0. 0. 0. 0. 0.]]\n",
      "y: 1\n",
      "predicted y: 1\n",
      "----\n",
      "input:\n",
      "[[0. 0. 0. 0. 1. 0.]\n",
      " [0. 0. 0. 0. 1. 0.]\n",
      " [0. 0. 0. 0. 1. 0.]\n",
      " [0. 1. 0. 0. 0. 0.]\n",
      " [0. 1. 0. 0. 0. 0.]\n",
      " [0. 1. 0. 0. 0. 0.]]\n",
      "y: 2\n",
      "predicted y: 2\n",
      "----\n",
      "input:\n",
      "[[0. 0. 0. 0. 0. 0.]\n",
      " [1. 1. 1. 1. 1. 1.]\n",
      " [0. 0. 0. 0. 0. 0.]\n",
      " [0. 0. 0. 0. 0. 0.]\n",
      " [1. 1. 1. 0. 0. 0.]\n",
      " [0. 0. 0. 0. 0. 0.]]\n",
      "y: 1\n",
      "predicted y: 1\n",
      "----\n",
      "input:\n",
      "[[0. 0. 0. 0. 0. 0.]\n",
      " [1. 1. 1. 1. 1. 1.]\n",
      " [0. 0. 0. 0. 0. 0.]\n",
      " [0. 0. 0. 0. 0. 0.]\n",
      " [0. 0. 0. 0. 0. 0.]\n",
      " [0. 0. 0. 0. 0. 0.]]\n",
      "y: 1\n",
      "predicted y: 1\n",
      "----\n"
     ]
    }
   ],
   "source": [
    "for ind in range(5):\n",
    "    X, y = create_image()\n",
    "    predicted = model.predict(X.reshape((1, 6, 6)))\n",
    "    print(f'input:\\n{X}')\n",
    "    print(f'y: {y}')\n",
    "    print(f'predicted y: {np.argmax(predicted)}')\n",
    "    print('----')"
   ]
  },
  {
   "cell_type": "markdown",
   "id": "10bca75d",
   "metadata": {},
   "source": [
    "# Generate class activation map"
   ]
  },
  {
   "cell_type": "code",
   "execution_count": 8,
   "id": "8eeed012",
   "metadata": {},
   "outputs": [
    {
     "name": "stdout",
     "output_type": "stream",
     "text": [
      "Input:\n",
      "[[0. 0. 0. 0. 0. 0.]\n",
      " [0. 0. 0. 0. 0. 0.]\n",
      " [0. 0. 0. 0. 0. 0.]\n",
      " [0. 0. 0. 0. 0. 0.]\n",
      " [0. 0. 0. 0. 0. 0.]\n",
      " [0. 0. 0. 0. 0. 0.]]\n",
      "\n",
      "Predicted class:\n",
      "0\n",
      "\n",
      "Classification layer weights:\n",
      "[[ 2.3277636 -1.4843239  1.5353967]\n",
      " [ 1.5944918  1.474136  -2.6543083]]\n",
      "\n",
      "Classification layer weights for predicted class:\n",
      "[2.3277636 1.5944918]\n",
      "\n",
      "Feature map:\n",
      "[[[[0.5412227  0.39143062]\n",
      "   [0.5412227  0.39143062]]\n",
      "\n",
      "  [[0.5412227  0.39143062]\n",
      "   [0.5412227  0.39143062]]]]\n",
      "\n"
     ]
    },
    {
     "data": {
      "image/png": "[encoded data removed]",
      "text/plain": [
       "<Figure size 432x288 with 1 Axes>"
      ]
     },
     "metadata": {
      "needs_background": "light"
     },
     "output_type": "display_data"
    },
    {
     "data": {
      "image/png": "[encoded data removed]",
      "text/plain": [
       "<Figure size 432x288 with 1 Axes>"
      ]
     },
     "metadata": {
      "needs_background": "light"
     },
     "output_type": "display_data"
    }
   ],
   "source": [
    "# Extract weights of the classification layer\n",
    "W = model.layers[-1].get_weights()[0]\n",
    "\n",
    "# Generate a test image\n",
    "X, y = create_image()\n",
    "\n",
    "# Predict the class\n",
    "prediction = model.predict(X.reshape((1, 6, 6)))\n",
    "predicted_class = np.argmax(prediction)\n",
    "\n",
    "# Generate a feature map\n",
    "feature_map = model_feature_map.predict(X.reshape((1, 6, 6)))\n",
    "\n",
    "# Weights that correspond to the predicted class\n",
    "W_class = W[:,predicted_class]\n",
    "\n",
    "print(f'Input:\\n{X}\\n')\n",
    "print(f'Predicted class:\\n{predicted_class}\\n')\n",
    "print(f'Classification layer weights:\\n{W}\\n')\n",
    "print(f'Classification layer weights for predicted class:\\n{W_class}\\n')\n",
    "print(f'Feature map:\\n{feature_map}\\n')\n",
    "\n",
    "# Create the activation map\n",
    "activation_map = feature_map.dot(W_class)[0]\n",
    "\n",
    "# Upscale the activation map\n",
    "activation_map = sp.ndimage.zoom(activation_map, (6, 6))\n",
    "\n",
    "plt.imshow(X)\n",
    "plt.title('Input')\n",
    "plt.show()\n",
    "\n",
    "plt.imshow(activation_map, cmap='jet')\n",
    "plt.title('Activation map')\n",
    "plt.show()"
   ]
  },
  {
   "cell_type": "code",
   "execution_count": null,
   "id": "c1a4be96",
   "metadata": {},
   "outputs": [],
   "source": []
  }
 ],
 "metadata": {
  "kernelspec": {
   "display_name": "Python 3 (ipykernel)",
   "language": "python",
   "name": "python3"
  },
  "language_info": {
   "codemirror_mode": {
    "name": "ipython",
    "version": 3
   },
   "file_extension": ".py",
   "mimetype": "text/x-python",
   "name": "python",
   "nbconvert_exporter": "python",
   "pygments_lexer": "ipython3",
   "version": "3.8.13"
  }
 },
 "nbformat": 4,
 "nbformat_minor": 5
}
