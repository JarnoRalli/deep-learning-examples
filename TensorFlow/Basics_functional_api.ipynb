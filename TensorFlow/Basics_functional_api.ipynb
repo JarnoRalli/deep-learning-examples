{
 "cells": [
  {
   "cell_type": "markdown",
   "id": "ab9e526c",
   "metadata": {},
   "source": [
    "# TensorFlow 2 Functional API"
   ]
  },
  {
   "cell_type": "code",
   "execution_count": 1,
   "id": "659138eb",
   "metadata": {},
   "outputs": [
    {
     "name": "stdout",
     "output_type": "stream",
     "text": [
      "tensorflow version: 2.10.0\n"
     ]
    }
   ],
   "source": [
    "import os\n",
    "os.environ['TF_CPP_MIN_LOG_LEVEL'] = '3' # Reduce TF verbosity\n",
    "import tensorflow as tf\n",
    "tf.get_logger().setLevel('INFO') # Reduce TF verbosity\n",
    "print(f\"tensorflow version: {tf.__version__}\")\n",
    "\n",
    "import matplotlib.pyplot as plt\n",
    "import numpy as np\n",
    "from tensorflow import keras"
   ]
  },
  {
   "cell_type": "markdown",
   "id": "87d8502d",
   "metadata": {},
   "source": [
    "## Sequential API\n",
    "\n",
    "As the name suggests, with the sequential API you can only achieve sequential flows. We are limited to one input and one output."
   ]
  },
  {
   "cell_type": "code",
   "execution_count": 2,
   "id": "658c639c",
   "metadata": {},
   "outputs": [
    {
     "name": "stdout",
     "output_type": "stream",
     "text": [
      "Model: \"sequential\"\n",
      "_________________________________________________________________\n",
      " Layer (type)                Output Shape              Param #   \n",
      "=================================================================\n",
      " flatten (Flatten)           (None, 16384)             0         \n",
      "                                                                 \n",
      " dense (Dense)               (None, 128)               2097280   \n",
      "                                                                 \n",
      " dense_1 (Dense)             (None, 10)                1290      \n",
      "                                                                 \n",
      "=================================================================\n",
      "Total params: 2,098,570\n",
      "Trainable params: 2,098,570\n",
      "Non-trainable params: 0\n",
      "_________________________________________________________________\n",
      "None\n"
     ]
    }
   ],
   "source": [
    "model = keras.models.Sequential([\n",
    "    keras.layers.Flatten(input_shape=(128, 128)),\n",
    "    keras.layers.Dense(128, activation='relu'),\n",
    "    keras.layers.Dense(10),\n",
    "])\n",
    "print(model.summary())"
   ]
  },
  {
   "cell_type": "markdown",
   "id": "ed8de49a",
   "metadata": {},
   "source": [
    "## Functional API\n",
    "\n",
    "The functional API allows creating networks with multiple inputs and outputs."
   ]
  },
  {
   "cell_type": "code",
   "execution_count": 3,
   "id": "1f884f26",
   "metadata": {},
   "outputs": [
    {
     "name": "stdout",
     "output_type": "stream",
     "text": [
      "Model: \"functional model\"\n",
      "_________________________________________________________________\n",
      " Layer (type)                Output Shape              Param #   \n",
      "=================================================================\n",
      " input_1 (InputLayer)        [(None, 128, 128)]        0         \n",
      "                                                                 \n",
      " flatten_1 (Flatten)         (None, 16384)             0         \n",
      "                                                                 \n",
      " dense_2 (Dense)             (None, 128)               2097280   \n",
      "                                                                 \n",
      " dense_3 (Dense)             (None, 10)                1290      \n",
      "                                                                 \n",
      "=================================================================\n",
      "Total params: 2,098,570\n",
      "Trainable params: 2,098,570\n",
      "Non-trainable params: 0\n",
      "_________________________________________________________________\n",
      "None\n"
     ]
    }
   ],
   "source": [
    "inputs = keras.Input(shape=(128, 128))\n",
    "flatten = keras.layers.Flatten()\n",
    "dense1 = keras.layers.Dense(128, activation='relu')\n",
    "dense2 = keras.layers.Dense(10)\n",
    "\n",
    "x = flatten(inputs)\n",
    "x = dense1(x)\n",
    "outputs = dense2(x)\n",
    "\n",
    "model2 = keras.Model(inputs=inputs, outputs=outputs, name='functional model')\n",
    "print(model2.summary())"
   ]
  },
  {
   "cell_type": "code",
   "execution_count": null,
   "id": "f3636305",
   "metadata": {},
   "outputs": [],
   "source": []
  }
 ],
 "metadata": {
  "kernelspec": {
   "display_name": "Python 3 (ipykernel)",
   "language": "python",
   "name": "python3"
  },
  "language_info": {
   "codemirror_mode": {
    "name": "ipython",
    "version": 3
   },
   "file_extension": ".py",
   "mimetype": "text/x-python",
   "name": "python",
   "nbconvert_exporter": "python",
   "pygments_lexer": "ipython3",
   "version": "3.9.13"
  }
 },
 "nbformat": 4,
 "nbformat_minor": 5
}
