{
 "cells": [
  {
   "cell_type": "markdown",
   "id": "9e5e3c75",
   "metadata": {},
   "source": [
    "# Tensor Shapes in Keras\n",
    "\n",
    "Let's take a look at defining models in Keras, using the functional API, and how to test the model using Numpy arrays. First, let's take a quick look at Numpy's `ndarray` type and some pecularities related to it.\n",
    "\n",
    "\n",
    "## Numpy ndarray\n",
    "\n",
    "When using Numpy objects with TensorFlow, it is sometimes slightly confusing that depending on how a shape of an [ndarray](https://numpy.org/doc/stable/reference/generated/numpy.ndarray.html) object is defined, it can behave differently. For example, a vector defined as `np.array([1, 2, 3])`, with a shape (3, ) can behave as a row- or column vector. Following simple Python program highlights this:\n",
    "\n",
    "```\n",
    "import numpy as np\n",
    "arr = np.array([1, 2, 3])\n",
    "mat = np.array([[1, 0, 0], [0, 2, 0], [0, 0, 3]])\n",
    "result1 = arr@mat\n",
    "result2 = mat@arr\n",
    "```\n",
    "\n",
    ", where `@` indicates matrix multiplication. When we calculate `arr @ mat`, `arr` behaves as follows:\n",
    "\n",
    "$$\n",
    "\\begin{bmatrix}\n",
    "1 & 2 & 3\n",
    "\\end{bmatrix}\n",
    "\\begin{bmatrix}\n",
    "1 & 0 & 0 \\\\\n",
    "0 & 2 & 0 \\\\\n",
    "0 & 0 & 3 \\\\\n",
    "\\end{bmatrix} = \n",
    "\\begin{bmatrix}\n",
    "1 & 4 & 9\n",
    "\\end{bmatrix}\n",
    "$$\n",
    "\n",
    "However, when we calculate `mat @ arr`, `arr` behaves as follows:\n",
    "\n",
    "$$\n",
    "\\begin{bmatrix}\n",
    "1 & 0 & 0 \\\\\n",
    "0 & 2 & 0 \\\\\n",
    "0 & 0 & 3 \\\\\n",
    "\\end{bmatrix}\n",
    "\\begin{bmatrix}\n",
    "1 \\\\ 2 \\\\ 3\n",
    "\\end{bmatrix} = \n",
    "\\begin{bmatrix}\n",
    "1 \\\\ 4 \\\\ 9\n",
    "\\end{bmatrix}\n",
    "$$\n",
    "\n",
    "In both of the above cases, shapes of both `result1` and `result2` would be (3, ). Now, if we define the shape of the `arr` to be (3,1), then only `mat @ arr` would work, and the resulting shape would be (3, 1).\n",
    "\n",
    "Therefore, an array which shape is (n, ) can be thought of being a 1D object that has n-number of elements, and it can behave as either a row- or column vector in matrix calculations. On the other hand, a vector with a shape (3, 1) or (1, 3) is a 2D object that has clearly defined shape.\n",
    "\n",
    "## Keras Input Layer\n",
    "\n",
    "When building a model, using the functional API, we typically use `tf.keras.Input`. Now, let's see what the documentation has to say regarding this element.\n",
    "\n",
    "> `Input()` is used to instantiate a Keras tensor.\n",
    "A Keras tensor is a symbolic tensor-like object, which we augment with certain attributes that allow us to build a Keras model just by knowing the inputs and outputs of the model.\n",
    "\n",
    ">For instance, if a, b and c are Keras tensors, it becomes possible to do: `model = Model(input=[a, b], output=c)`\n",
    "\n",
    "One of the parameters, when building an `Input` layer, is the `shape`of the input:\n",
    "\n",
    "> **shape** : A shape tuple (integers), not including the batch size. For instance, shape=(32,) indicates that the expected input will be batches of 32-dimensional vectors. Elements of this tuple can be None; 'None' elements represent dimensions where the shape is not known. \n",
    "\n",
    "[Source](https://www.tensorflow.org/api_docs/python/tf/keras/Input)\n",
    "\n",
    "For more information regarding tensor ranks, take a look at [source](https://chromium.googlesource.com/external/github.com/tensorflow/tensorflow/+/r0.7/tensorflow/g3doc/resources/dims_types.md)"
   ]
  },
  {
   "cell_type": "code",
   "execution_count": 1,
   "id": "70b08b18",
   "metadata": {},
   "outputs": [
    {
     "name": "stdout",
     "output_type": "stream",
     "text": [
      "tensorflow version: 2.11.0\n"
     ]
    }
   ],
   "source": [
    "import os\n",
    "os.environ['TF_CPP_MIN_LOG_LEVEL'] = '3' # Reduce TF verbosity\n",
    "import tensorflow as tf\n",
    "from tensorflow import keras\n",
    "tf.get_logger().setLevel('INFO') # Reduce TF verbosity\n",
    "print(f\"tensorflow version: {tf.__version__}\")\n",
    "\n",
    "import numpy as np"
   ]
  },
  {
   "cell_type": "markdown",
   "id": "21eb2d65",
   "metadata": {},
   "source": [
    "# Keras Models with Numpy Input Vectors\n",
    "\n",
    "Here we test what input shapes different kinds of simple Keras models expect to get. Hopefully\n",
    "this will shed some light on how to test Keras models using numpy data."
   ]
  },
  {
   "cell_type": "code",
   "execution_count": 2,
   "id": "76f6c8e8",
   "metadata": {},
   "outputs": [
    {
     "name": "stdout",
     "output_type": "stream",
     "text": [
      "Scalar: 3.0\n",
      "arr, shape: (3,), data: [1 2 3]\n",
      "row_vector, shape: (1, 3), data: [[1 2 3]]\n",
      "column_vector, shape: (3, 1), data: [[1]\n",
      " [2]\n",
      " [3]]\n"
     ]
    }
   ],
   "source": [
    "# Numpy test data\n",
    "scalar = 3.0\n",
    "arr = np.array([1, 2, 3])\n",
    "row_vector = np.array([1, 2, 3]).reshape(1, 3)\n",
    "column_vector = np.array([1, 2, 3]).reshape(3, 1)\n",
    "\n",
    "print(f'Scalar: {scalar}')\n",
    "print(f'arr, shape: {arr.shape}, data: {arr}')\n",
    "print(f'row_vector, shape: {row_vector.shape}, data: {row_vector}')\n",
    "print(f'column_vector, shape: {column_vector.shape}, data: {column_vector}')"
   ]
  },
  {
   "cell_type": "code",
   "execution_count": 3,
   "id": "5499287f",
   "metadata": {},
   "outputs": [],
   "source": [
    "# Function to output the results\n",
    "def model_output(model, input_type, input):\n",
    "    print(f'EXECUTING MODEL WITH INPUT TYPE: {input_type} -> shape: {input.shape}')\n",
    "    \n",
    "    result = np.array([0])\n",
    "    try:\n",
    "        result = model(input).numpy()\n",
    "    except Exception as exc:\n",
    "        print(f'Failed: {exc}')\n",
    "        print('-------------------------------------------------------------------')\n",
    "        return\n",
    "    \n",
    "    print(f'result shape: {result.shape}, result: {result}')\n",
    "    print('-------------------------------------------------------------------')\n",
    "    "
   ]
  },
  {
   "cell_type": "code",
   "execution_count": 4,
   "id": "857f995e",
   "metadata": {},
   "outputs": [
    {
     "name": "stdout",
     "output_type": "stream",
     "text": [
      "--- MODEL INFORMATION ---\n",
      "Model: \"model 1\"\n",
      "_________________________________________________________________\n",
      " Layer (type)                Output Shape              Param #   \n",
      "=================================================================\n",
      " input_1 (InputLayer)        [(None, 3)]               0         \n",
      "                                                                 \n",
      " tf.math.multiply (TFOpLambd  (None, 3)                0         \n",
      " a)                                                              \n",
      "                                                                 \n",
      "=================================================================\n",
      "Total params: 0\n",
      "Trainable params: 0\n",
      "Non-trainable params: 0\n",
      "_________________________________________________________________\n",
      "None\n"
     ]
    }
   ],
   "source": [
    "# Keras model that multiplies all the values with 2.0. Since no linear algebra calculations are done,\n",
    "# any array or vector shape should work\n",
    "inputs = tf.keras.Input(shape=(3,))\n",
    "outputs = 2*inputs\n",
    "model1 = tf.keras.Model(inputs=inputs, outputs=outputs, name='model 1')\n",
    "\n",
    "print('--- MODEL INFORMATION ---')\n",
    "print(model1.summary())"
   ]
  },
  {
   "cell_type": "code",
   "execution_count": 5,
   "id": "a8de7714",
   "metadata": {},
   "outputs": [
    {
     "name": "stdout",
     "output_type": "stream",
     "text": [
      "EXECUTING MODEL WITH INPUT TYPE: arr -> shape: (3,)\n",
      "result shape: (3,), result: [2. 4. 6.]\n",
      "-------------------------------------------------------------------\n",
      "EXECUTING MODEL WITH INPUT TYPE: row_vector -> shape: (1, 3)\n",
      "result shape: (1, 3), result: [[2. 4. 6.]]\n",
      "-------------------------------------------------------------------\n",
      "EXECUTING MODEL WITH INPUT TYPE: column_vector -> shape: (3, 1)\n",
      "result shape: (3, 1), result: [[2.]\n",
      " [4.]\n",
      " [6.]]\n",
      "-------------------------------------------------------------------\n"
     ]
    }
   ],
   "source": [
    "# All input shapes work\n",
    "model_output(model1, \"arr\", arr)\n",
    "model_output(model1, \"row_vector\", row_vector)\n",
    "model_output(model1, \"column_vector\", column_vector)"
   ]
  },
  {
   "cell_type": "code",
   "execution_count": 6,
   "id": "c8700adc",
   "metadata": {},
   "outputs": [
    {
     "name": "stdout",
     "output_type": "stream",
     "text": [
      "--- MODEL INFORMATION ---\n",
      "Model: \"model 2\"\n",
      "__________________________________________________________________________________________________\n",
      " Layer (type)                   Output Shape         Param #     Connected to                     \n",
      "==================================================================================================\n",
      " input_2 (InputLayer)           [(None, 3)]          0           []                               \n",
      "                                                                                                  \n",
      " tf.compat.v1.transpose (TFOpLa  (3, None)           0           ['input_2[0][0]']                \n",
      " mbda)                                                                                            \n",
      "                                                                                                  \n",
      " tf.tensordot (TFOpLambda)      (None, None)         0           ['input_2[0][0]',                \n",
      "                                                                  'tf.compat.v1.transpose[0][0]'] \n",
      "                                                                                                  \n",
      "==================================================================================================\n",
      "Total params: 0\n",
      "Trainable params: 0\n",
      "Non-trainable params: 0\n",
      "__________________________________________________________________________________________________\n",
      "None\n"
     ]
    }
   ],
   "source": [
    "# Keras model that calculates dot product between the input tensor and transpose of the input tensor.\n",
    "# output = dot(inputs, inputs'). This model should work with arrays and row- and column- vectors, but\n",
    "# the outcome is different depending on the shape\n",
    "inputs = tf.keras.Input(shape=(3,))\n",
    "outputs = tf.tensordot(inputs, tf.transpose(inputs), axes=1)\n",
    "model2 = tf.keras.Model(inputs=inputs, outputs=outputs, name='model 2')\n",
    "\n",
    "print('--- MODEL INFORMATION ---')\n",
    "print(model2.summary())"
   ]
  },
  {
   "cell_type": "code",
   "execution_count": 7,
   "id": "722c0782",
   "metadata": {},
   "outputs": [
    {
     "name": "stdout",
     "output_type": "stream",
     "text": [
      "EXECUTING MODEL WITH INPUT TYPE: arr -> shape: (3,)\n",
      "result shape: (), result: 14.0\n",
      "-------------------------------------------------------------------\n",
      "EXECUTING MODEL WITH INPUT TYPE: row_vector -> shape: (1, 3)\n",
      "result shape: (1, 1), result: [[14.]]\n",
      "-------------------------------------------------------------------\n",
      "EXECUTING MODEL WITH INPUT TYPE: column_vector -> shape: (3, 1)\n",
      "result shape: (3, 3), result: [[1. 2. 3.]\n",
      " [2. 4. 6.]\n",
      " [3. 6. 9.]]\n",
      "-------------------------------------------------------------------\n"
     ]
    }
   ],
   "source": [
    "# All vector input shapes work\n",
    "model_output(model2, \"arr\", arr)\n",
    "model_output(model2, \"row_vector\", row_vector)\n",
    "model_output(model2, \"column_vector\", column_vector)"
   ]
  },
  {
   "cell_type": "code",
   "execution_count": 8,
   "id": "a4c09886",
   "metadata": {},
   "outputs": [
    {
     "name": "stdout",
     "output_type": "stream",
     "text": [
      "--- MODEL INFORMATION ---\n",
      "Model: \"model 3\"\n",
      "_________________________________________________________________\n",
      " Layer (type)                Output Shape              Param #   \n",
      "=================================================================\n",
      " input_3 (InputLayer)        [(None, 3)]               0         \n",
      "                                                                 \n",
      " dense (Dense)               (None, 4)                 16        \n",
      "                                                                 \n",
      " dense_1 (Dense)             (None, 1)                 5         \n",
      "                                                                 \n",
      "=================================================================\n",
      "Total params: 21\n",
      "Trainable params: 21\n",
      "Non-trainable params: 0\n",
      "_________________________________________________________________\n",
      "None\n"
     ]
    }
   ],
   "source": [
    "inputs = tf.keras.Input(shape=(3,))\n",
    "x = tf.keras.layers.Dense(4)(inputs)\n",
    "outputs = tf.keras.layers.Dense(1)(x)\n",
    "model3 = tf.keras.Model(inputs=inputs, outputs=outputs, name='model 3')\n",
    "\n",
    "print('--- MODEL INFORMATION ---')\n",
    "print(model3.summary())"
   ]
  },
  {
   "cell_type": "code",
   "execution_count": 9,
   "id": "8237906e",
   "metadata": {},
   "outputs": [
    {
     "name": "stdout",
     "output_type": "stream",
     "text": [
      "EXECUTING MODEL WITH INPUT TYPE: arr -> shape: (3,)\n",
      "Failed: Exception encountered when calling layer 'model 3' (type Functional).\n",
      "\n",
      "Input 0 of layer \"dense\" is incompatible with the layer: expected min_ndim=2, found ndim=1. Full shape received: (3,)\n",
      "\n",
      "Call arguments received by layer 'model 3' (type Functional):\n",
      "  • inputs=tf.Tensor(shape=(3,), dtype=int64)\n",
      "  • training=None\n",
      "  • mask=None\n",
      "-------------------------------------------------------------------\n",
      "EXECUTING MODEL WITH INPUT TYPE: row_vector -> shape: (1, 3)\n",
      "result shape: (1, 1), result: [[4.2222095]]\n",
      "-------------------------------------------------------------------\n",
      "EXECUTING MODEL WITH INPUT TYPE: column_vector -> shape: (3, 1)\n",
      "Failed: Exception encountered when calling layer 'model 3' (type Functional).\n",
      "\n",
      "Input 0 of layer \"dense\" is incompatible with the layer: expected axis -1 of input shape to have value 3, but received input with shape (3, 1)\n",
      "\n",
      "Call arguments received by layer 'model 3' (type Functional):\n",
      "  • inputs=tf.Tensor(shape=(3, 1), dtype=int64)\n",
      "  • training=None\n",
      "  • mask=None\n",
      "-------------------------------------------------------------------\n"
     ]
    }
   ],
   "source": [
    "# Only the row-vector, with shape (1, 3), works with the network with a dense layer connected\n",
    "# to the input layer.\n",
    "model_output(model3, \"arr\", arr)\n",
    "model_output(model3, \"row_vector\", row_vector)\n",
    "model_output(model3, \"column_vector\", column_vector)"
   ]
  }
 ],
 "metadata": {
  "kernelspec": {
   "display_name": "Python 3 (ipykernel)",
   "language": "python",
   "name": "python3"
  },
  "language_info": {
   "codemirror_mode": {
    "name": "ipython",
    "version": 3
   },
   "file_extension": ".py",
   "mimetype": "text/x-python",
   "name": "python",
   "nbconvert_exporter": "python",
   "pygments_lexer": "ipython3",
   "version": "3.8.10"
  }
 },
 "nbformat": 4,
 "nbformat_minor": 5
}
