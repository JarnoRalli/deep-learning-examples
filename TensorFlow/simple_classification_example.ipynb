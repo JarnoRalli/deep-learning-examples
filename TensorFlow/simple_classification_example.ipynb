{
 "cells": [
  {
   "cell_type": "markdown",
   "id": "ad3cbe91",
   "metadata": {},
   "source": [
    "# Simple Linear Classification Example\n",
    "\n",
    "This example uses the breast cancer dataset from Sklearn to train a simple binary classifier to predict whether the given samples contains cancer. For a given sample, defined by a feature vector $x$, the network outputs a prediction $\\hat{y} = p(y=1|x) = \\rho(w^tx + b)$ which is the probability that $y=1$ given $x$. Here $y=1$ means that the hypothesis that the sample contains cancer is true. Mathematically this can be expressed as follows\n",
    "\n",
    "$$\n",
    "\\begin{align*}\n",
    "z &= w^tx + b \\\\\n",
    "\\hat{y} &= \\rho(z) \\\\\n",
    "\\rho(z) &= \\frac{1}{1 + e^{-z}}\n",
    "\\end{align*}\n",
    "$$\n",
    "\n",
    ", where $x$ is the feature vector, $w$ are the network weights and $b$ is a bias term. This is a logistic regression model, where the activation function $\\rho$ is a Sigmoid function."
   ]
  },
  {
   "cell_type": "code",
   "execution_count": 1,
   "id": "c5060fe7",
   "metadata": {},
   "outputs": [
    {
     "name": "stdout",
     "output_type": "stream",
     "text": [
      "tensorflow version: 2.8.0\n"
     ]
    }
   ],
   "source": [
    "import os\n",
    "os.environ['TF_CPP_MIN_LOG_LEVEL'] = '3' # Reduce TF verbosity\n",
    "import tensorflow as tf\n",
    "tf.get_logger().setLevel('INFO') # Reduce TF verbosity\n",
    "print(f\"tensorflow version: {tf.__version__}\")\n",
    "\n",
    "from sklearn.model_selection import train_test_split\n",
    "from sklearn.preprocessing import StandardScaler\n",
    "\n",
    "import matplotlib.pyplot as plt\n",
    "import numpy as np"
   ]
  },
  {
   "cell_type": "markdown",
   "id": "4770e452",
   "metadata": {},
   "source": [
    "## Load the breast cancer dataset, and display feature names"
   ]
  },
  {
   "cell_type": "code",
   "execution_count": 2,
   "id": "b4c28a12",
   "metadata": {},
   "outputs": [
    {
     "name": "stdout",
     "output_type": "stream",
     "text": [
      "Type of data: <class 'sklearn.utils.Bunch'>\n",
      "Keys: dict_keys(['data', 'target', 'frame', 'target_names', 'DESCR', 'feature_names', 'filename', 'data_module'])\n",
      "Shape of the data: (569, 30)\n",
      "Shape of the target: (569,)\n",
      "Feature names: ['mean radius' 'mean texture' 'mean perimeter' 'mean area'\n",
      " 'mean smoothness' 'mean compactness' 'mean concavity'\n",
      " 'mean concave points' 'mean symmetry' 'mean fractal dimension'\n",
      " 'radius error' 'texture error' 'perimeter error' 'area error'\n",
      " 'smoothness error' 'compactness error' 'concavity error'\n",
      " 'concave points error' 'symmetry error' 'fractal dimension error'\n",
      " 'worst radius' 'worst texture' 'worst perimeter' 'worst area'\n",
      " 'worst smoothness' 'worst compactness' 'worst concavity'\n",
      " 'worst concave points' 'worst symmetry' 'worst fractal dimension']\n",
      "Target names: ['malignant' 'benign']\n"
     ]
    }
   ],
   "source": [
    "#Load the breast cancer data\n",
    "from sklearn.datasets import load_breast_cancer\n",
    "data = load_breast_cancer()\n",
    "\n",
    "# Check type of data and print the keys\n",
    "print(f\"Type of data: {type(data)}\")\n",
    "print(f\"Keys: {data.keys()}\")\n",
    "print(f\"Shape of the data: {data.data.shape}\")\n",
    "print(f\"Shape of the target: {data.target.shape}\")\n",
    "print(f\"Feature names: {data.feature_names}\")\n",
    "print(f\"Target names: {data.target_names}\")"
   ]
  },
  {
   "cell_type": "markdown",
   "id": "e2b8fcdb",
   "metadata": {},
   "source": [
    "## Split the dataset into training- and testing sets, and scale the data"
   ]
  },
  {
   "cell_type": "code",
   "execution_count": 3,
   "id": "3832c942",
   "metadata": {},
   "outputs": [],
   "source": [
    "# Split input features and target into train- and test sets\n",
    "X_train, X_test, y_train, y_test = train_test_split(data.data, data.target, test_size=0.33)\n",
    "N, D = X_train.shape\n",
    "\n",
    "# Scale the data\n",
    "scaler = StandardScaler()\n",
    "X_train = scaler.fit_transform(X_train)\n",
    "X_test = scaler.fit_transform(X_test)"
   ]
  },
  {
   "cell_type": "markdown",
   "id": "252f7111",
   "metadata": {},
   "source": [
    "## Create the model, and display the summary"
   ]
  },
  {
   "cell_type": "code",
   "execution_count": 4,
   "id": "a335b791",
   "metadata": {},
   "outputs": [
    {
     "name": "stdout",
     "output_type": "stream",
     "text": [
      "Model: \"sequential\"\n",
      "_________________________________________________________________\n",
      " Layer (type)                Output Shape              Param #   \n",
      "=================================================================\n",
      " dense (Dense)               (None, 1)                 31        \n",
      "                                                                 \n",
      "=================================================================\n",
      "Total params: 31\n",
      "Trainable params: 31\n",
      "Non-trainable params: 0\n",
      "_________________________________________________________________\n"
     ]
    }
   ],
   "source": [
    "# Create the model\n",
    "model = tf.keras.models.Sequential([\n",
    "    tf.keras.layers.Input(shape=(D,)),\n",
    "    tf.keras.layers.Dense(1, activation='sigmoid')\n",
    "])\n",
    "\n",
    "model.summary()"
   ]
  },
  {
   "cell_type": "markdown",
   "id": "78c3754b",
   "metadata": {},
   "source": [
    "## Compile and train the model"
   ]
  },
  {
   "cell_type": "code",
   "execution_count": 5,
   "id": "76c3ef4d",
   "metadata": {},
   "outputs": [
    {
     "name": "stdout",
     "output_type": "stream",
     "text": [
      "Epoch 1/100\n",
      "12/12 [==============================] - 1s 16ms/step - loss: 0.7743 - accuracy: 0.6430 - val_loss: 0.7423 - val_accuracy: 0.6596\n",
      "Epoch 2/100\n",
      "12/12 [==============================] - 0s 6ms/step - loss: 0.7137 - accuracy: 0.6929 - val_loss: 0.6928 - val_accuracy: 0.6809\n",
      "Epoch 3/100\n",
      "12/12 [==============================] - 0s 6ms/step - loss: 0.6595 - accuracy: 0.7192 - val_loss: 0.6488 - val_accuracy: 0.7128\n",
      "Epoch 4/100\n",
      "12/12 [==============================] - 0s 7ms/step - loss: 0.6119 - accuracy: 0.7507 - val_loss: 0.6099 - val_accuracy: 0.7340\n",
      "Epoch 5/100\n",
      "12/12 [==============================] - 0s 6ms/step - loss: 0.5706 - accuracy: 0.7769 - val_loss: 0.5745 - val_accuracy: 0.7553\n",
      "Epoch 6/100\n",
      "12/12 [==============================] - 0s 6ms/step - loss: 0.5347 - accuracy: 0.7927 - val_loss: 0.5424 - val_accuracy: 0.7660\n",
      "Epoch 7/100\n",
      "12/12 [==============================] - 0s 6ms/step - loss: 0.5022 - accuracy: 0.8084 - val_loss: 0.5137 - val_accuracy: 0.7713\n",
      "Epoch 8/100\n",
      "12/12 [==============================] - 0s 6ms/step - loss: 0.4724 - accuracy: 0.8320 - val_loss: 0.4887 - val_accuracy: 0.7766\n",
      "Epoch 9/100\n",
      "12/12 [==============================] - 0s 6ms/step - loss: 0.4475 - accuracy: 0.8425 - val_loss: 0.4653 - val_accuracy: 0.7926\n",
      "Epoch 10/100\n",
      "12/12 [==============================] - 0s 6ms/step - loss: 0.4237 - accuracy: 0.8504 - val_loss: 0.4441 - val_accuracy: 0.8032\n",
      "Epoch 11/100\n",
      "12/12 [==============================] - 0s 6ms/step - loss: 0.4025 - accuracy: 0.8635 - val_loss: 0.4249 - val_accuracy: 0.8351\n",
      "Epoch 12/100\n",
      "12/12 [==============================] - 0s 6ms/step - loss: 0.3838 - accuracy: 0.8714 - val_loss: 0.4066 - val_accuracy: 0.8351\n",
      "Epoch 13/100\n",
      "12/12 [==============================] - 0s 6ms/step - loss: 0.3666 - accuracy: 0.8793 - val_loss: 0.3899 - val_accuracy: 0.8564\n",
      "Epoch 14/100\n",
      "12/12 [==============================] - 0s 6ms/step - loss: 0.3498 - accuracy: 0.8845 - val_loss: 0.3751 - val_accuracy: 0.8617\n",
      "Epoch 15/100\n",
      "12/12 [==============================] - 0s 6ms/step - loss: 0.3352 - accuracy: 0.8924 - val_loss: 0.3614 - val_accuracy: 0.8723\n",
      "Epoch 16/100\n",
      "12/12 [==============================] - 0s 6ms/step - loss: 0.3216 - accuracy: 0.8924 - val_loss: 0.3486 - val_accuracy: 0.8936\n",
      "Epoch 17/100\n",
      "12/12 [==============================] - 0s 6ms/step - loss: 0.3091 - accuracy: 0.9029 - val_loss: 0.3367 - val_accuracy: 0.8936\n",
      "Epoch 18/100\n",
      "12/12 [==============================] - 0s 6ms/step - loss: 0.2976 - accuracy: 0.9081 - val_loss: 0.3255 - val_accuracy: 0.8989\n",
      "Epoch 19/100\n",
      "12/12 [==============================] - 0s 5ms/step - loss: 0.2868 - accuracy: 0.9134 - val_loss: 0.3151 - val_accuracy: 0.8989\n",
      "Epoch 20/100\n",
      "12/12 [==============================] - 0s 6ms/step - loss: 0.2766 - accuracy: 0.9213 - val_loss: 0.3057 - val_accuracy: 0.9043\n",
      "Epoch 21/100\n",
      "12/12 [==============================] - 0s 6ms/step - loss: 0.2677 - accuracy: 0.9213 - val_loss: 0.2967 - val_accuracy: 0.9096\n",
      "Epoch 22/100\n",
      "12/12 [==============================] - 0s 6ms/step - loss: 0.2589 - accuracy: 0.9213 - val_loss: 0.2882 - val_accuracy: 0.9096\n",
      "Epoch 23/100\n",
      "12/12 [==============================] - 0s 6ms/step - loss: 0.2510 - accuracy: 0.9239 - val_loss: 0.2803 - val_accuracy: 0.9149\n",
      "Epoch 24/100\n",
      "12/12 [==============================] - 0s 6ms/step - loss: 0.2430 - accuracy: 0.9265 - val_loss: 0.2731 - val_accuracy: 0.9149\n",
      "Epoch 25/100\n",
      "12/12 [==============================] - 0s 6ms/step - loss: 0.2362 - accuracy: 0.9265 - val_loss: 0.2660 - val_accuracy: 0.9202\n",
      "Epoch 26/100\n",
      "12/12 [==============================] - 0s 6ms/step - loss: 0.2297 - accuracy: 0.9318 - val_loss: 0.2595 - val_accuracy: 0.9202\n",
      "Epoch 27/100\n",
      "12/12 [==============================] - 0s 6ms/step - loss: 0.2230 - accuracy: 0.9370 - val_loss: 0.2535 - val_accuracy: 0.9202\n",
      "Epoch 28/100\n",
      "12/12 [==============================] - 0s 6ms/step - loss: 0.2175 - accuracy: 0.9396 - val_loss: 0.2476 - val_accuracy: 0.9202\n",
      "Epoch 29/100\n",
      "12/12 [==============================] - 0s 6ms/step - loss: 0.2117 - accuracy: 0.9423 - val_loss: 0.2421 - val_accuracy: 0.9202\n",
      "Epoch 30/100\n",
      "12/12 [==============================] - 0s 6ms/step - loss: 0.2064 - accuracy: 0.9423 - val_loss: 0.2371 - val_accuracy: 0.9202\n",
      "Epoch 31/100\n",
      "12/12 [==============================] - 0s 6ms/step - loss: 0.2018 - accuracy: 0.9449 - val_loss: 0.2320 - val_accuracy: 0.9202\n",
      "Epoch 32/100\n",
      "12/12 [==============================] - 0s 6ms/step - loss: 0.1968 - accuracy: 0.9475 - val_loss: 0.2274 - val_accuracy: 0.9202\n",
      "Epoch 33/100\n",
      "12/12 [==============================] - 0s 6ms/step - loss: 0.1924 - accuracy: 0.9475 - val_loss: 0.2231 - val_accuracy: 0.9149\n",
      "Epoch 34/100\n",
      "12/12 [==============================] - 0s 6ms/step - loss: 0.1885 - accuracy: 0.9501 - val_loss: 0.2187 - val_accuracy: 0.9149\n",
      "Epoch 35/100\n",
      "12/12 [==============================] - 0s 6ms/step - loss: 0.1841 - accuracy: 0.9501 - val_loss: 0.2146 - val_accuracy: 0.9149\n",
      "Epoch 36/100\n",
      "12/12 [==============================] - 0s 7ms/step - loss: 0.1803 - accuracy: 0.9501 - val_loss: 0.2107 - val_accuracy: 0.9202\n",
      "Epoch 37/100\n",
      "12/12 [==============================] - 0s 6ms/step - loss: 0.1767 - accuracy: 0.9501 - val_loss: 0.2071 - val_accuracy: 0.9255\n",
      "Epoch 38/100\n",
      "12/12 [==============================] - 0s 6ms/step - loss: 0.1733 - accuracy: 0.9501 - val_loss: 0.2036 - val_accuracy: 0.9255\n",
      "Epoch 39/100\n",
      "12/12 [==============================] - 0s 6ms/step - loss: 0.1698 - accuracy: 0.9501 - val_loss: 0.2002 - val_accuracy: 0.9255\n",
      "Epoch 40/100\n",
      "12/12 [==============================] - 0s 6ms/step - loss: 0.1668 - accuracy: 0.9501 - val_loss: 0.1971 - val_accuracy: 0.9255\n",
      "Epoch 41/100\n",
      "12/12 [==============================] - 0s 6ms/step - loss: 0.1638 - accuracy: 0.9475 - val_loss: 0.1939 - val_accuracy: 0.9255\n",
      "Epoch 42/100\n",
      "12/12 [==============================] - 0s 6ms/step - loss: 0.1607 - accuracy: 0.9475 - val_loss: 0.1909 - val_accuracy: 0.9255\n",
      "Epoch 43/100\n",
      "12/12 [==============================] - 0s 6ms/step - loss: 0.1581 - accuracy: 0.9501 - val_loss: 0.1882 - val_accuracy: 0.9255\n",
      "Epoch 44/100\n",
      "12/12 [==============================] - 0s 6ms/step - loss: 0.1553 - accuracy: 0.9501 - val_loss: 0.1854 - val_accuracy: 0.9255\n",
      "Epoch 45/100\n",
      "12/12 [==============================] - 0s 7ms/step - loss: 0.1527 - accuracy: 0.9501 - val_loss: 0.1828 - val_accuracy: 0.9202\n",
      "Epoch 46/100\n",
      "12/12 [==============================] - 0s 6ms/step - loss: 0.1503 - accuracy: 0.9528 - val_loss: 0.1803 - val_accuracy: 0.9255\n",
      "Epoch 47/100\n",
      "12/12 [==============================] - 0s 5ms/step - loss: 0.1480 - accuracy: 0.9528 - val_loss: 0.1779 - val_accuracy: 0.9255\n",
      "Epoch 48/100\n",
      "12/12 [==============================] - 0s 6ms/step - loss: 0.1457 - accuracy: 0.9554 - val_loss: 0.1756 - val_accuracy: 0.9255\n",
      "Epoch 49/100\n",
      "12/12 [==============================] - 0s 6ms/step - loss: 0.1437 - accuracy: 0.9580 - val_loss: 0.1732 - val_accuracy: 0.9255\n",
      "Epoch 50/100\n",
      "12/12 [==============================] - 0s 6ms/step - loss: 0.1413 - accuracy: 0.9580 - val_loss: 0.1711 - val_accuracy: 0.9255\n",
      "Epoch 51/100\n",
      "12/12 [==============================] - 0s 7ms/step - loss: 0.1394 - accuracy: 0.9580 - val_loss: 0.1688 - val_accuracy: 0.9255\n",
      "Epoch 52/100\n",
      "12/12 [==============================] - 0s 6ms/step - loss: 0.1374 - accuracy: 0.9580 - val_loss: 0.1668 - val_accuracy: 0.9309\n",
      "Epoch 53/100\n",
      "12/12 [==============================] - 0s 6ms/step - loss: 0.1354 - accuracy: 0.9606 - val_loss: 0.1650 - val_accuracy: 0.9309\n",
      "Epoch 54/100\n",
      "12/12 [==============================] - 0s 6ms/step - loss: 0.1337 - accuracy: 0.9606 - val_loss: 0.1631 - val_accuracy: 0.9309\n",
      "Epoch 55/100\n",
      "12/12 [==============================] - 0s 6ms/step - loss: 0.1320 - accuracy: 0.9606 - val_loss: 0.1613 - val_accuracy: 0.9309\n",
      "Epoch 56/100\n",
      "12/12 [==============================] - 0s 6ms/step - loss: 0.1303 - accuracy: 0.9580 - val_loss: 0.1595 - val_accuracy: 0.9362\n",
      "Epoch 57/100\n",
      "12/12 [==============================] - 0s 6ms/step - loss: 0.1288 - accuracy: 0.9580 - val_loss: 0.1579 - val_accuracy: 0.9362\n",
      "Epoch 58/100\n",
      "12/12 [==============================] - 0s 6ms/step - loss: 0.1271 - accuracy: 0.9580 - val_loss: 0.1562 - val_accuracy: 0.9362\n"
     ]
    },
    {
     "name": "stdout",
     "output_type": "stream",
     "text": [
      "Epoch 59/100\n",
      "12/12 [==============================] - 0s 6ms/step - loss: 0.1258 - accuracy: 0.9580 - val_loss: 0.1546 - val_accuracy: 0.9362\n",
      "Epoch 60/100\n",
      "12/12 [==============================] - 0s 6ms/step - loss: 0.1242 - accuracy: 0.9606 - val_loss: 0.1530 - val_accuracy: 0.9362\n",
      "Epoch 61/100\n",
      "12/12 [==============================] - 0s 6ms/step - loss: 0.1229 - accuracy: 0.9606 - val_loss: 0.1515 - val_accuracy: 0.9415\n",
      "Epoch 62/100\n",
      "12/12 [==============================] - 0s 6ms/step - loss: 0.1215 - accuracy: 0.9606 - val_loss: 0.1501 - val_accuracy: 0.9415\n",
      "Epoch 63/100\n",
      "12/12 [==============================] - 0s 6ms/step - loss: 0.1202 - accuracy: 0.9606 - val_loss: 0.1486 - val_accuracy: 0.9521\n",
      "Epoch 64/100\n",
      "12/12 [==============================] - 0s 6ms/step - loss: 0.1190 - accuracy: 0.9606 - val_loss: 0.1472 - val_accuracy: 0.9521\n",
      "Epoch 65/100\n",
      "12/12 [==============================] - 0s 6ms/step - loss: 0.1178 - accuracy: 0.9633 - val_loss: 0.1460 - val_accuracy: 0.9521\n",
      "Epoch 66/100\n",
      "12/12 [==============================] - 0s 6ms/step - loss: 0.1166 - accuracy: 0.9659 - val_loss: 0.1447 - val_accuracy: 0.9521\n",
      "Epoch 67/100\n",
      "12/12 [==============================] - 0s 6ms/step - loss: 0.1155 - accuracy: 0.9685 - val_loss: 0.1435 - val_accuracy: 0.9521\n",
      "Epoch 68/100\n",
      "12/12 [==============================] - 0s 6ms/step - loss: 0.1144 - accuracy: 0.9685 - val_loss: 0.1422 - val_accuracy: 0.9521\n",
      "Epoch 69/100\n",
      "12/12 [==============================] - 0s 6ms/step - loss: 0.1134 - accuracy: 0.9685 - val_loss: 0.1410 - val_accuracy: 0.9521\n",
      "Epoch 70/100\n",
      "12/12 [==============================] - 0s 6ms/step - loss: 0.1124 - accuracy: 0.9711 - val_loss: 0.1398 - val_accuracy: 0.9521\n",
      "Epoch 71/100\n",
      "12/12 [==============================] - 0s 6ms/step - loss: 0.1113 - accuracy: 0.9711 - val_loss: 0.1387 - val_accuracy: 0.9521\n",
      "Epoch 72/100\n",
      "12/12 [==============================] - 0s 6ms/step - loss: 0.1105 - accuracy: 0.9711 - val_loss: 0.1376 - val_accuracy: 0.9521\n",
      "Epoch 73/100\n",
      "12/12 [==============================] - 0s 7ms/step - loss: 0.1095 - accuracy: 0.9738 - val_loss: 0.1365 - val_accuracy: 0.9521\n",
      "Epoch 74/100\n",
      "12/12 [==============================] - 0s 6ms/step - loss: 0.1087 - accuracy: 0.9738 - val_loss: 0.1356 - val_accuracy: 0.9521\n",
      "Epoch 75/100\n",
      "12/12 [==============================] - 0s 6ms/step - loss: 0.1077 - accuracy: 0.9738 - val_loss: 0.1346 - val_accuracy: 0.9521\n",
      "Epoch 76/100\n",
      "12/12 [==============================] - 0s 5ms/step - loss: 0.1069 - accuracy: 0.9738 - val_loss: 0.1336 - val_accuracy: 0.9521\n",
      "Epoch 77/100\n",
      "12/12 [==============================] - 0s 6ms/step - loss: 0.1061 - accuracy: 0.9738 - val_loss: 0.1326 - val_accuracy: 0.9574\n",
      "Epoch 78/100\n",
      "12/12 [==============================] - 0s 6ms/step - loss: 0.1053 - accuracy: 0.9738 - val_loss: 0.1316 - val_accuracy: 0.9574\n",
      "Epoch 79/100\n",
      "12/12 [==============================] - 0s 6ms/step - loss: 0.1045 - accuracy: 0.9738 - val_loss: 0.1308 - val_accuracy: 0.9574\n",
      "Epoch 80/100\n",
      "12/12 [==============================] - 0s 6ms/step - loss: 0.1037 - accuracy: 0.9738 - val_loss: 0.1299 - val_accuracy: 0.9574\n",
      "Epoch 81/100\n",
      "12/12 [==============================] - 0s 6ms/step - loss: 0.1031 - accuracy: 0.9738 - val_loss: 0.1289 - val_accuracy: 0.9574\n",
      "Epoch 82/100\n",
      "12/12 [==============================] - 0s 6ms/step - loss: 0.1023 - accuracy: 0.9738 - val_loss: 0.1280 - val_accuracy: 0.9574\n",
      "Epoch 83/100\n",
      "12/12 [==============================] - 0s 6ms/step - loss: 0.1016 - accuracy: 0.9738 - val_loss: 0.1272 - val_accuracy: 0.9574\n",
      "Epoch 84/100\n",
      "12/12 [==============================] - 0s 6ms/step - loss: 0.1009 - accuracy: 0.9738 - val_loss: 0.1264 - val_accuracy: 0.9574\n",
      "Epoch 85/100\n",
      "12/12 [==============================] - 0s 6ms/step - loss: 0.1002 - accuracy: 0.9738 - val_loss: 0.1256 - val_accuracy: 0.9574\n",
      "Epoch 86/100\n",
      "12/12 [==============================] - 0s 6ms/step - loss: 0.0996 - accuracy: 0.9738 - val_loss: 0.1248 - val_accuracy: 0.9574\n",
      "Epoch 87/100\n",
      "12/12 [==============================] - 0s 5ms/step - loss: 0.0990 - accuracy: 0.9738 - val_loss: 0.1241 - val_accuracy: 0.9574\n",
      "Epoch 88/100\n",
      "12/12 [==============================] - 0s 6ms/step - loss: 0.0983 - accuracy: 0.9738 - val_loss: 0.1234 - val_accuracy: 0.9574\n",
      "Epoch 89/100\n",
      "12/12 [==============================] - 0s 6ms/step - loss: 0.0977 - accuracy: 0.9738 - val_loss: 0.1226 - val_accuracy: 0.9574\n",
      "Epoch 90/100\n",
      "12/12 [==============================] - 0s 6ms/step - loss: 0.0972 - accuracy: 0.9738 - val_loss: 0.1219 - val_accuracy: 0.9574\n",
      "Epoch 91/100\n",
      "12/12 [==============================] - 0s 6ms/step - loss: 0.0966 - accuracy: 0.9738 - val_loss: 0.1213 - val_accuracy: 0.9574\n",
      "Epoch 92/100\n",
      "12/12 [==============================] - 0s 6ms/step - loss: 0.0960 - accuracy: 0.9738 - val_loss: 0.1205 - val_accuracy: 0.9574\n",
      "Epoch 93/100\n",
      "12/12 [==============================] - 0s 6ms/step - loss: 0.0955 - accuracy: 0.9738 - val_loss: 0.1199 - val_accuracy: 0.9574\n",
      "Epoch 94/100\n",
      "12/12 [==============================] - 0s 6ms/step - loss: 0.0949 - accuracy: 0.9738 - val_loss: 0.1193 - val_accuracy: 0.9574\n",
      "Epoch 95/100\n",
      "12/12 [==============================] - 0s 6ms/step - loss: 0.0944 - accuracy: 0.9738 - val_loss: 0.1186 - val_accuracy: 0.9574\n",
      "Epoch 96/100\n",
      "12/12 [==============================] - 0s 5ms/step - loss: 0.0939 - accuracy: 0.9738 - val_loss: 0.1180 - val_accuracy: 0.9628\n",
      "Epoch 97/100\n",
      "12/12 [==============================] - 0s 6ms/step - loss: 0.0934 - accuracy: 0.9738 - val_loss: 0.1174 - val_accuracy: 0.9628\n",
      "Epoch 98/100\n",
      "12/12 [==============================] - 0s 5ms/step - loss: 0.0929 - accuracy: 0.9738 - val_loss: 0.1168 - val_accuracy: 0.9628\n",
      "Epoch 99/100\n",
      "12/12 [==============================] - 0s 6ms/step - loss: 0.0924 - accuracy: 0.9738 - val_loss: 0.1162 - val_accuracy: 0.9628\n",
      "Epoch 100/100\n",
      "12/12 [==============================] - 0s 6ms/step - loss: 0.0919 - accuracy: 0.9738 - val_loss: 0.1155 - val_accuracy: 0.9628\n"
     ]
    }
   ],
   "source": [
    "model.compile(\n",
    "    optimizer='adam',\n",
    "    loss='binary_crossentropy',\n",
    "    metrics=['accuracy'])\n",
    "\n",
    "# Train the model\n",
    "r = model.fit(X_train, y_train, validation_data=(X_test, y_test), epochs=100)"
   ]
  },
  {
   "cell_type": "markdown",
   "id": "0ba53922",
   "metadata": {},
   "source": [
    "## Evaluate the model and show the weights"
   ]
  },
  {
   "cell_type": "code",
   "execution_count": 6,
   "id": "3865023c",
   "metadata": {},
   "outputs": [
    {
     "name": "stdout",
     "output_type": "stream",
     "text": [
      "12/12 [==============================] - 0s 2ms/step - loss: 0.0916 - accuracy: 0.9738\n",
      "Train score: [0.09164251387119293, 0.9737532734870911]\n",
      "6/6 [==============================] - 0s 3ms/step - loss: 0.1155 - accuracy: 0.9628\n",
      "Test score: [0.1155359074473381, 0.9627659320831299]\n"
     ]
    }
   ],
   "source": [
    "# Evaluate the model\n",
    "print(f\"Train score: {model.evaluate(X_train, y_train)}\")\n",
    "print(f\"Test score: {model.evaluate(X_test, y_test)}\")"
   ]
  },
  {
   "cell_type": "code",
   "execution_count": 7,
   "id": "dcb1efa8",
   "metadata": {},
   "outputs": [
    {
     "name": "stdout",
     "output_type": "stream",
     "text": [
      "Layer weights: [<tf.Variable 'dense/kernel:0' shape=(30, 1) dtype=float32, numpy=\n",
      "array([[-0.10689857],\n",
      "       [-0.13924134],\n",
      "       [-0.47179964],\n",
      "       [-0.19667318],\n",
      "       [-0.18919589],\n",
      "       [ 0.10439908],\n",
      "       [-0.43245804],\n",
      "       [-0.39460778],\n",
      "       [-0.12769288],\n",
      "       [ 0.32760632],\n",
      "       [-0.68863046],\n",
      "       [-0.20778546],\n",
      "       [-0.73809737],\n",
      "       [-0.19611391],\n",
      "       [ 0.16160595],\n",
      "       [-0.029812  ],\n",
      "       [-0.02258375],\n",
      "       [ 0.04521279],\n",
      "       [ 0.27488336],\n",
      "       [ 0.17553832],\n",
      "       [-0.7959657 ],\n",
      "       [-0.3638325 ],\n",
      "       [-0.37749276],\n",
      "       [-0.57186973],\n",
      "       [-0.60102284],\n",
      "       [-0.27013475],\n",
      "       [-0.57092893],\n",
      "       [ 0.03371633],\n",
      "       [-0.29435122],\n",
      "       [ 0.09852967]], dtype=float32)>, <tf.Variable 'dense/bias:0' shape=(1,) dtype=float32, numpy=array([0.37030408], dtype=float32)>]\n",
      "Layer bias: <tf.Variable 'dense/bias:0' shape=(1,) dtype=float32, numpy=array([0.37030408], dtype=float32)>\n",
      "---\n"
     ]
    }
   ],
   "source": [
    "# Model weights\n",
    "for layer in model.layers:\n",
    "    print(f\"Layer weights: {layer.weights}\")\n",
    "    print(f\"Layer bias: {layer.bias}\")\n",
    "    print(\"---\")"
   ]
  },
  {
   "cell_type": "markdown",
   "id": "adc8d371",
   "metadata": {},
   "source": [
    "## Plot loss and accuracy per epoch"
   ]
  },
  {
   "cell_type": "code",
   "execution_count": 8,
   "id": "a0613a87",
   "metadata": {},
   "outputs": [
    {
     "data": {
      "text/plain": [
       "<matplotlib.legend.Legend at 0x7f2b202afca0>"
      ]
     },
     "execution_count": 8,
     "metadata": {},
     "output_type": "execute_result"
    },
    {
     "data": {
      "image/png": "[encoded data removed]",
      "text/plain": [
       "<Figure size 432x288 with 1 Axes>"
      ]
     },
     "metadata": {
      "needs_background": "light"
     },
     "output_type": "display_data"
    }
   ],
   "source": [
    "# Plot loss\n",
    "plt.plot(r.history['loss'], label='Loss')\n",
    "plt.plot(r.history['val_loss'], label='Validation loss')\n",
    "plt.legend()"
   ]
  },
  {
   "cell_type": "code",
   "execution_count": 9,
   "id": "d33d515b",
   "metadata": {},
   "outputs": [
    {
     "data": {
      "text/plain": [
       "[<matplotlib.lines.Line2D at 0x7f2a981c9ee0>]"
      ]
     },
     "execution_count": 9,
     "metadata": {},
     "output_type": "execute_result"
    },
    {
     "data": {
      "image/png": "[encoded data removed]",
      "text/plain": [
       "<Figure size 432x288 with 1 Axes>"
      ]
     },
     "metadata": {
      "needs_background": "light"
     },
     "output_type": "display_data"
    }
   ],
   "source": [
    "# Plot accuracy\n",
    "plt.plot(r.history['accuracy'], label='Accuracy')\n",
    "plt.plot(r.history['val_accuracy'], label='Validation accuracy')"
   ]
  },
  {
   "cell_type": "code",
   "execution_count": 10,
   "id": "1fe07479",
   "metadata": {},
   "outputs": [
    {
     "name": "stdout",
     "output_type": "stream",
     "text": [
      "6/6 [==============================] - 0s 3ms/step - loss: 0.1155 - accuracy: 0.9628\n",
      "Model accuracy with the test data: [0.1155359074473381, 0.9627659320831299]\n"
     ]
    }
   ],
   "source": [
    "print(f\"Model accuracy with the test data: {model.evaluate(X_test, y_test)}\")"
   ]
  },
  {
   "cell_type": "markdown",
   "id": "d9b816aa",
   "metadata": {},
   "source": [
    "## Predict the result for randomly chosen feature vectors"
   ]
  },
  {
   "cell_type": "code",
   "execution_count": 11,
   "id": "9f591f11",
   "metadata": {},
   "outputs": [
    {
     "name": "stdout",
     "output_type": "stream",
     "text": [
      "Predicted value: 0.98521488904953, true value: 1\n",
      "Predicted value: 0.9139053225517273, true value: 1\n",
      "Predicted value: 0.9978263974189758, true value: 1\n",
      "Predicted value: 0.7971566915512085, true value: 1\n",
      "Predicted value: 0.901099681854248, true value: 1\n",
      "Predicted value: 0.9231225252151489, true value: 1\n",
      "Predicted value: 0.0012330743484199047, true value: 0\n",
      "Predicted value: 0.9908413887023926, true value: 1\n",
      "Predicted value: 0.07162536680698395, true value: 0\n",
      "Predicted value: 0.993513286113739, true value: 1\n"
     ]
    }
   ],
   "source": [
    "for i in range(10):\n",
    "    index = np.random.choice(X_test.shape[0], 1)\n",
    "    print(f'Predicted value: {model.predict(X_test[index])[0][0]}, true value: {y_test[index[0]]}')"
   ]
  }
 ],
 "metadata": {
  "kernelspec": {
   "display_name": "Python 3 (ipykernel)",
   "language": "python",
   "name": "python3"
  },
  "language_info": {
   "codemirror_mode": {
    "name": "ipython",
    "version": 3
   },
   "file_extension": ".py",
   "mimetype": "text/x-python",
   "name": "python",
   "nbconvert_exporter": "python",
   "pygments_lexer": "ipython3",
   "version": "3.8.12"
  }
 },
 "nbformat": 4,
 "nbformat_minor": 5
}
