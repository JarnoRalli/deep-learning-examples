{
 "cells": [
  {
   "cell_type": "markdown",
   "id": "cdc4f9ce",
   "metadata": {},
   "source": [
    "# TensorFlow 2 Data Type Basics"
   ]
  },
  {
   "cell_type": "code",
   "execution_count": 1,
   "id": "989c7200",
   "metadata": {},
   "outputs": [
    {
     "name": "stdout",
     "output_type": "stream",
     "text": [
      "tensorflow version: 2.10.0\n"
     ]
    }
   ],
   "source": [
    "import os\n",
    "os.environ['TF_CPP_MIN_LOG_LEVEL'] = '3' # Reduce TF verbosity\n",
    "import tensorflow as tf\n",
    "tf.get_logger().setLevel('INFO') # Reduce TF verbosity\n",
    "print(f\"tensorflow version: {tf.__version__}\")\n",
    "\n",
    "import matplotlib.pyplot as plt\n",
    "import numpy as np"
   ]
  },
  {
   "cell_type": "markdown",
   "id": "d9d37d3a",
   "metadata": {},
   "source": [
    "## TensorFlow constant values\n",
    "\n",
    "As the name suggests, constants are immutables. Variables are created using `tf.Variable`"
   ]
  },
  {
   "cell_type": "code",
   "execution_count": 2,
   "id": "0ea0e62a",
   "metadata": {},
   "outputs": [
    {
     "name": "stdout",
     "output_type": "stream",
     "text": [
      "1.\n",
      "tf.Tensor([[4.]], shape=(1, 1), dtype=float32)\n",
      "2.\n",
      "tf.Tensor([1 2 3], shape=(3,), dtype=int32)\n",
      "3.\n",
      "tf.Tensor(\n",
      "[[1 2 3]\n",
      " [4 5 6]], shape=(2, 3), dtype=int32)\n",
      "4.\n",
      "tf.Tensor(\n",
      "[[1. 1. 1.]\n",
      " [1. 1. 1.]\n",
      " [1. 1. 1.]], shape=(3, 3), dtype=float32)\n",
      "5.\n",
      "tf.Tensor(\n",
      "[[1. 0. 0.]\n",
      " [0. 1. 0.]\n",
      " [0. 0. 1.]], shape=(3, 3), dtype=float32)\n",
      "6.\n",
      "tf.Tensor(\n",
      "[[1.9823394  1.7859478  1.3261111 ]\n",
      " [1.1440848  0.11606419 1.2924155 ]], shape=(2, 3), dtype=float32)\n",
      "-----\n",
      "7.\n",
      "tf.Tensor(\n",
      "[[0.8398901  0.4631716  0.7548835 ]\n",
      " [0.14560199 0.8421397  0.755653  ]], shape=(2, 3), dtype=float32)\n",
      "8.\n",
      "tf.Tensor([0 1 2 3 4 5 6 7 8 9], shape=(10,), dtype=int32)\n"
     ]
    }
   ],
   "source": [
    "# scalar value\n",
    "x = tf.constant(4, shape=(1,1), dtype=tf.float32)\n",
    "print('1.')\n",
    "print(x)\n",
    "\n",
    "# rank 1 tensor\n",
    "y = tf.constant([1, 2, 3])\n",
    "print('2.')\n",
    "print(y)\n",
    "\n",
    "# rank 2 tensor (matrix)\n",
    "m = tf.constant([[1,2 ,3], [4, 5, 6]])\n",
    "print('3.')\n",
    "print(m)\n",
    "\n",
    "# matrix containing ones, rank 2 tensor\n",
    "ones = tf.ones((3, 3))\n",
    "print('4.')\n",
    "print(ones)\n",
    "\n",
    "# identity matrix, rank 2 tensor\n",
    "identity = tf.eye(3)\n",
    "print('5.')\n",
    "print(identity)\n",
    "\n",
    "# matrix with random values, rank 2 tensor\n",
    "rnd = tf.random.normal((2, 3), mean=1.0, stddev=0.5)\n",
    "print('6.')\n",
    "print(rnd)\n",
    "print('-----')\n",
    "\n",
    "# matrix with uniformly distributed values between [0...1], rank 2 tensor\n",
    "uform = tf.random.uniform((2, 3), minval=0, maxval=1)\n",
    "print('7.')\n",
    "print(uform)\n",
    "\n",
    "# a range of values\n",
    "r = tf.range(10)\n",
    "print('8.')\n",
    "print(r)"
   ]
  },
  {
   "cell_type": "markdown",
   "id": "f334ef93",
   "metadata": {},
   "source": [
    "## TensorFlow variables\n",
    "\n",
    "TensorFlow variables should be used when the value is expected to be modified later on."
   ]
  },
  {
   "cell_type": "code",
   "execution_count": 3,
   "id": "4a22d84f",
   "metadata": {},
   "outputs": [
    {
     "name": "stdout",
     "output_type": "stream",
     "text": [
      "<tf.Variable 'Variable:0' shape=(3,) dtype=int32, numpy=array([1, 2, 3], dtype=int32)>\n"
     ]
    }
   ],
   "source": [
    "x = tf.Variable([1, 2, 3])\n",
    "print(x)"
   ]
  },
  {
   "cell_type": "markdown",
   "id": "018c9a9b",
   "metadata": {},
   "source": [
    "## Casting values\n",
    "\n",
    "Tensors are immutable, therefore after changing the type using casting, the new tensor needs to be assigned, like so: `x = tf.cast(x, dtype=tf.float32)`"
   ]
  },
  {
   "cell_type": "code",
   "execution_count": 4,
   "id": "0f9994c7",
   "metadata": {},
   "outputs": [
    {
     "name": "stdout",
     "output_type": "stream",
     "text": [
      "Before casting\n",
      "tf.Tensor([0 1 2 3 4 5 6 7 8 9], shape=(10,), dtype=int32)\n",
      "After casting\n",
      "tf.Tensor([0. 1. 2. 3. 4. 5. 6. 7. 8. 9.], shape=(10,), dtype=float32)\n"
     ]
    }
   ],
   "source": [
    "x = tf.range(10)\n",
    "print(\"Before casting\")\n",
    "print(x)\n",
    "x = tf.cast(x, dtype=tf.float32)\n",
    "print(\"After casting\")\n",
    "print(x)"
   ]
  },
  {
   "cell_type": "markdown",
   "id": "420c378f",
   "metadata": {},
   "source": [
    "## Operations on tensors\n",
    "\n",
    "All operations like +, -, * etc. are elementwise operations."
   ]
  },
  {
   "cell_type": "code",
   "execution_count": 5,
   "id": "1f594ad4",
   "metadata": {},
   "outputs": [
    {
     "name": "stdout",
     "output_type": "stream",
     "text": [
      "tf.Tensor([2 4 6], shape=(3,), dtype=int32)\n"
     ]
    }
   ],
   "source": [
    "x = tf.constant([1, 2, 3])\n",
    "y = tf.constant([2, 2, 2])\n",
    "print(x*y)"
   ]
  },
  {
   "cell_type": "markdown",
   "id": "144539f3",
   "metadata": {},
   "source": [
    "Dot product is carried out using `tensordot`. You need to define the direction using the axes-parameter"
   ]
  },
  {
   "cell_type": "code",
   "execution_count": 6,
   "id": "48efd443",
   "metadata": {},
   "outputs": [
    {
     "name": "stdout",
     "output_type": "stream",
     "text": [
      "Dot product of [1, 2, 3] and [2, 2, 2] is 12\n"
     ]
    }
   ],
   "source": [
    "x = tf.constant([1, 2, 3])\n",
    "y = tf.constant([2, 2, 2])\n",
    "z = tf.tensordot(x, y, axes=1)\n",
    "print(f\"Dot product of [1, 2, 3] and [2, 2, 2] is {z}\")"
   ]
  },
  {
   "cell_type": "markdown",
   "id": "ca2f4e1d",
   "metadata": {},
   "source": [
    "Matrix multiplication"
   ]
  },
  {
   "cell_type": "code",
   "execution_count": 7,
   "id": "d8a1565d",
   "metadata": {},
   "outputs": [
    {
     "name": "stdout",
     "output_type": "stream",
     "text": [
      "x = [[1 2 3]]\n",
      "y = [[2]\n",
      " [2]\n",
      " [2]]\n",
      "Result of tf.matmul(x, y) is [[12]]\n",
      "Result of x @ y is [[12]]\n"
     ]
    }
   ],
   "source": [
    "x = tf.constant([1, 2, 3], shape=(1,3))\n",
    "y = tf.constant([2, 2, 2], shape=(3,1))\n",
    "z1 = tf.matmul(x, y)\n",
    "z2 = x @ y\n",
    "print(f\"x = {x}\")\n",
    "print(f\"y = {y}\")\n",
    "print(f\"Result of tf.matmul(x, y) is {z1}\")\n",
    "print(f\"Result of x @ y is {z2}\")"
   ]
  },
  {
   "cell_type": "markdown",
   "id": "e47eacc4",
   "metadata": {},
   "source": [
    "## Slicing and reshaping\n",
    "\n",
    "Slicing works similarly to as in Numpy"
   ]
  },
  {
   "cell_type": "code",
   "execution_count": 8,
   "id": "c12bda2c",
   "metadata": {},
   "outputs": [
    {
     "name": "stdout",
     "output_type": "stream",
     "text": [
      "x = [[1 2 3 4]\n",
      " [5 6 7 8]]\n",
      "x[:, 0] = [1 5]\n",
      "tf.Tensor(1, shape=(), dtype=int32)\n"
     ]
    }
   ],
   "source": [
    "x = tf.constant([[1, 2, 3, 4], [5, 6, 7, 8]])\n",
    "print(f\"x = {x}\")\n",
    "print(f\"x[:, 0] = {x[:, 0]}\")\n",
    "print(x[0, 0])"
   ]
  },
  {
   "cell_type": "markdown",
   "id": "2350d8fa",
   "metadata": {},
   "source": [
    "Reshaping"
   ]
  },
  {
   "cell_type": "code",
   "execution_count": 9,
   "id": "ca2615ef",
   "metadata": {},
   "outputs": [
    {
     "name": "stdout",
     "output_type": "stream",
     "text": [
      "Before reshaping\n",
      "tf.Tensor(\n",
      "[[1 2 3 4]\n",
      " [5 6 7 8]], shape=(2, 4), dtype=int32)\n",
      "----------\n",
      "After reshaping\n",
      "tf.Tensor(\n",
      "[[1 2]\n",
      " [3 4]\n",
      " [5 6]\n",
      " [7 8]], shape=(4, 2), dtype=int32)\n"
     ]
    }
   ],
   "source": [
    "x = tf.constant([[1, 2, 3, 4], [5, 6, 7, 8]])\n",
    "print(\"Before reshaping\")\n",
    "print(x)\n",
    "print(\"----------\")\n",
    "x = tf.reshape(x, shape=(4, 2))\n",
    "print(\"After reshaping\")\n",
    "print(x)"
   ]
  },
  {
   "cell_type": "markdown",
   "id": "491dd4d7",
   "metadata": {},
   "source": [
    "## Convert a TensorFlow tensor into Numpy-format & convert Numpy into TensorFlow format"
   ]
  },
  {
   "cell_type": "code",
   "execution_count": 10,
   "id": "57f54b14",
   "metadata": {},
   "outputs": [
    {
     "name": "stdout",
     "output_type": "stream",
     "text": [
      "type(x) is <class 'tensorflow.python.framework.ops.EagerTensor'>\n",
      "type(y) is <class 'numpy.ndarray'>\n",
      "type(z) is <class 'tensorflow.python.framework.ops.EagerTensor'>\n"
     ]
    }
   ],
   "source": [
    "x = tf.constant([1, 2, 3])\n",
    "y = x.numpy()\n",
    "z = tf.convert_to_tensor(y)\n",
    "print(f\"type(x) is {type(x)}\")\n",
    "print(f\"type(y) is {type(y)}\")\n",
    "print(f\"type(z) is {type(z)}\")"
   ]
  },
  {
   "cell_type": "markdown",
   "id": "3d9c5001",
   "metadata": {},
   "source": [
    "## Strings"
   ]
  },
  {
   "cell_type": "code",
   "execution_count": 11,
   "id": "e51bb383",
   "metadata": {},
   "outputs": [
    {
     "name": "stdout",
     "output_type": "stream",
     "text": [
      "tf.Tensor([b'hubba' b'bubba'], shape=(2,), dtype=string)\n"
     ]
    }
   ],
   "source": [
    "x = tf.constant([\"hubba\", \"bubba\"])\n",
    "print(x)"
   ]
  }
 ],
 "metadata": {
  "kernelspec": {
   "display_name": "Python 3 (ipykernel)",
   "language": "python",
   "name": "python3"
  },
  "language_info": {
   "codemirror_mode": {
    "name": "ipython",
    "version": 3
   },
   "file_extension": ".py",
   "mimetype": "text/x-python",
   "name": "python",
   "nbconvert_exporter": "python",
   "pygments_lexer": "ipython3",
   "version": "3.9.13"
  }
 },
 "nbformat": 4,
 "nbformat_minor": 5
}
